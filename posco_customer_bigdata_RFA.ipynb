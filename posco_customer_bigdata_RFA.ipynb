{
 "cells": [
  {
   "cell_type": "code",
   "execution_count": 472,
   "metadata": {},
   "outputs": [],
   "source": [
    "import pandas as pd\n",
    "import numpy as np\n",
    "import matplotlib.pyplot as plt\n",
    "import matplotlib\n",
    "import datetime as dt\n",
    "from sklearn.model_selection import train_test_split\n",
    "import seaborn as sns\n",
    "\n",
    "import statsmodels.formula.api as smf\n",
    "from sklearn.tree import DecisionTreeRegressor\n",
    "from sklearn.ensemble import RandomForestRegressor\n",
    "from sklearn.ensemble import GradientBoostingRegressor\n",
    "\n",
    "from sklearn.metrics import mean_squared_error\n",
    "from sklearn.metrics import mean_absolute_error\n",
    "\n",
    "from sklearn.preprocessing import StandardScaler\n",
    "from sklearn.preprocessing import MinMaxScaler\n",
    "from sklearn.decomposition import PCA\n",
    "import statsmodels.api as sm\n",
    "from statsmodels.graphics.tsaplots import plot_acf, plot_pacf\n",
    "from statsmodels.tsa.arima_model import ARIMA\n",
    "from datetime import datetime\n",
    "from datetime import date\n",
    "\n",
    "\n",
    "from sklearn.model_selection import train_test_split\n",
    "from sklearn.ensemble import GradientBoostingRegressor\n",
    "from sklearn.model_selection import GridSearchCV\n",
    "import timeit\n",
    "from scipy.stats import shapiro\n",
    "import re\n",
    "from yellowbrick.datasets import load_credit\n",
    "\n",
    "from sklearn.model_selection import train_test_split\n",
    "from sklearn.tree import DecisionTreeRegressor\n",
    "from sklearn.model_selection import GridSearchCV\n",
    "\n",
    "import statsmodels.formula.api as smf\n",
    "from sklearn.linear_model import LinearRegression\n",
    "from sklearn.feature_selection import RFE\n",
    "from statsmodels.stats.outliers_influence import variance_inflation_factor\n",
    "from sklearn.preprocessing import StandardScaler\n",
    "from sklearn.ensemble import GradientBoostingRegressor\n",
    "from sklearn.ensemble import RandomForestRegressor\n",
    "from sklearn.tree import DecisionTreeClassifier\n",
    "from sklearn.ensemble import RandomForestClassifier\n",
    "from sklearn.ensemble import GradientBoostingClassifier\n",
    "%matplotlib inline\n",
    "from sklearn.model_selection import train_test_split\n",
    "from sklearn.neural_network import MLPClassifier\n",
    "from sklearn.model_selection import GridSearchCV\n",
    "from sklearn.metrics import confusion_matrix\n",
    "from sklearn.metrics import f1_score, roc_curve, auc\n",
    "from sklearn.metrics import precision_recall_curve\n",
    "from sklearn.metrics import average_precision_score\n",
    "from sklearn import metrics\n",
    "from sklearn.neighbors import KNeighborsClassifier\n",
    "from sklearn.cluster import KMeans\n",
    "matplotlib.rc('font', family='Malgun Gothic')\n",
    "plt.rc('font', family='Malgun Gothic')\n",
    "plt.rcParams['axes.unicode_minus'] = False\n",
    "\n",
    "from sklearn.preprocessing import StandardScaler\n",
    "from sklearn.preprocessing import MinMaxScaler\n",
    "from sklearn.tree import export_graphviz\n",
    "import graphviz"
   ]
  },
  {
   "cell_type": "code",
   "execution_count": null,
   "metadata": {},
   "outputs": [],
   "source": [
    "jeju_on_2018 = pd.read_csv('jeju_on_join_2018.csv', encoding = 'cp949')\n",
    "jeju_off_2018 = pd.read_csv('jeju_off_join_2018.csv', encoding = 'cp949')\n",
    "jeju_ahn_2018 = pd.concat([jeju_off_2018, jeju_on_2018])\n",
    "jeju_on_2019 = pd.read_csv('jeju_on_join_2019.csv', encoding = 'cp949')\n",
    "jeju_off_2019 = pd.read_csv('jeju_off_join_2019.csv', encoding = 'cp949')\n",
    "jeju_ahn_2019 = pd.concat([jeju_off_2019, jeju_on_2019])\n",
    "jeju_ahn = pd.concat([jeju_ahn_2018, jeju_ahn_2019])"
   ]
  },
  {
   "cell_type": "code",
   "execution_count": null,
   "metadata": {},
   "outputs": [],
   "source": [
    "jeju_total = jeju_ahn.groupby('customer_id').agg({'purchase_amt':'sum'})\n",
    "jeju_total_temp = jeju_ahn.groupby(['customer_id','purchase_date']).agg({'purchase_amt':'sum','purchase_id':'count'})\n",
    "jeju_total_temp.reset_index(inplace = True)\n",
    "jeju_total_temp= jeju_total_temp.groupby('customer_id').agg({'purchase_date':'count', 'purchase_id':'count'})\n",
    "\n",
    "# jeju_kmeans_royal = jeju_total[jeju_total['purchase_amt'] >= 0.5e7]\n",
    "# jeju_kmeans_royal['total_grade'] = '1Royal'\n",
    "#  royal 처리\n",
    "\n",
    "jeju_kmeans_test = jeju_ahn[['customer_id','purchase_id','purchase_date','purchase_amt']].groupby('customer_id').agg({'purchase_id':'count', 'purchase_date' :'count','purchase_amt':'sum'})\n",
    "jeju_kmeans_test['Recency'] = (730 / jeju_total_temp['purchase_date']).round(3) \n",
    "jeju_kmeans_test['Frequency']= jeju_total_temp['purchase_id']\n",
    "jeju_kmeans_test['Monetary'] = jeju_kmeans_test['purchase_amt']\n",
    "\n",
    "del1 = jeju_kmeans_test[jeju_kmeans_test['purchase_amt']==jeju_kmeans_test['purchase_amt'].max()].index\n",
    "jeju_kmeans_test.drop(del1[0], axis = 0, inplace = True)\n",
    "del2 = jeju_kmeans_test[jeju_kmeans_test['Frequency']==jeju_kmeans_test['Frequency'].max()].index\n",
    "jeju_kmeans_test.drop(del2[0], axis = 0, inplace = True)\n",
    "# 제일 큰 놈들 제거, purchase_amt의 제일 큰 값이 frequency 제일 큰 놈과 동일\n",
    "\n",
    "\n",
    "jeju_kmeans_run = jeju_kmeans_test[['Recency','Frequency','Monetary']]\n",
    "jeju_kmeans_run.shape"
   ]
  },
  {
   "cell_type": "code",
   "execution_count": null,
   "metadata": {},
   "outputs": [],
   "source": [
    "plt.boxplot(jeju_kmeans_test['purchase_amt'])"
   ]
  },
  {
   "cell_type": "code",
   "execution_count": null,
   "metadata": {},
   "outputs": [],
   "source": [
    "jeju_kmeans_test[jeju_kmeans_test['purchase_amt']==jeju_kmeans_test['purchase_amt'].max()]"
   ]
  },
  {
   "cell_type": "code",
   "execution_count": null,
   "metadata": {},
   "outputs": [],
   "source": [
    "plt.boxplot(jeju_kmeans_test['Frequency'])\n",
    "jeju_kmeans_test[jeju_kmeans_test['Frequency']==jeju_kmeans_test['Frequency'].max()].index\n",
    "a1[0]"
   ]
  },
  {
   "cell_type": "code",
   "execution_count": null,
   "metadata": {},
   "outputs": [],
   "source": [
    "jeju_kmeans_test[jeju_kmeans_test['Frequency'] > 500]"
   ]
  },
  {
   "cell_type": "code",
   "execution_count": null,
   "metadata": {},
   "outputs": [],
   "source": [
    "runplt.boxplot(jeju_kmeans_test['Recency'])"
   ]
  },
  {
   "cell_type": "code",
   "execution_count": null,
   "metadata": {},
   "outputs": [],
   "source": [
    "jeju_total_temp"
   ]
  },
  {
   "cell_type": "code",
   "execution_count": null,
   "metadata": {},
   "outputs": [],
   "source": [
    "jeju_kmeans_test"
   ]
  },
  {
   "cell_type": "code",
   "execution_count": null,
   "metadata": {},
   "outputs": [],
   "source": [
    "jeju_kmeans_run"
   ]
  },
  {
   "cell_type": "code",
   "execution_count": null,
   "metadata": {},
   "outputs": [],
   "source": [
    "jeju_kmeans_run.reset_index(inplace = True)\n",
    "# jeju_kmeans_run.drop(['index'] , axis = 1, inplace = True)\n",
    "jeju_kmeans_run"
   ]
  },
  {
   "cell_type": "code",
   "execution_count": null,
   "metadata": {},
   "outputs": [],
   "source": [
    "jeju_kmeans_run['Frequency'].max()"
   ]
  },
  {
   "cell_type": "code",
   "execution_count": null,
   "metadata": {},
   "outputs": [],
   "source": [
    "jeju_kmeans_run[jeju_kmeans_run['Monetary'] == jeju_kmeans_run['Monetary'].max()]"
   ]
  },
  {
   "cell_type": "code",
   "execution_count": null,
   "metadata": {},
   "outputs": [],
   "source": [
    "scaler = MinMaxScaler()\n",
    "jeju_kmeans_run\n",
    "jeju_kmeans_run.drop(1606, axis = 0, inplace = True)\n",
    "jeju_kmeans_rfm = pd.DataFrame(scaler.fit_transform(jeju_kmeans_run.iloc[:,1:]))"
   ]
  },
  {
   "cell_type": "code",
   "execution_count": null,
   "metadata": {},
   "outputs": [],
   "source": [
    "jeju_kmeans_rfm['customer_id'] = jeju_kmeans_run['customer_id']"
   ]
  },
  {
   "cell_type": "code",
   "execution_count": null,
   "metadata": {},
   "outputs": [],
   "source": [
    "jeju_kmeans_rfm"
   ]
  },
  {
   "cell_type": "code",
   "execution_count": null,
   "metadata": {},
   "outputs": [],
   "source": [
    "\n",
    "jeju_kmeans_rfm = jeju_kmeans_rfm.rename(columns={0:'Recency',1:'Frequency',2:'Monetary'})\n",
    "jeju_kmeans_rfm.set_index('customer_id', inplace = True)"
   ]
  },
  {
   "cell_type": "code",
   "execution_count": null,
   "metadata": {},
   "outputs": [],
   "source": [
    "jeju_kmeans_rfm"
   ]
  },
  {
   "cell_type": "code",
   "execution_count": null,
   "metadata": {},
   "outputs": [],
   "source": [
    "fig, axes = plt.subplots(1, 3, figsize=(30,10))\n",
    "for i, feature in enumerate(list(jeju_kmeans_rfm.columns)):\n",
    "    sns.distplot(jeju_kmeans_rfm[feature], ax = axes[i], norm_hist = False)\n",
    "\n",
    "model1 = KMeans(n_clusters= 4, random_state = 1234).fit(jeju_kmeans_rfm)\n",
    "centers = model1.cluster_centers_\n",
    "fig = plt.figure()\n",
    "ax = fig.add_subplot(111, projection = '3d')\n",
    "ax.scatter(jeju_kmeans_rfm['Recency'],jeju_kmfig, axes = plt.subplots(1, 3, figsize=(30,10))\n",
    "for i, feature in enumerate(list(jeju_kmeans_rfm.columns)):\n",
    "    sns.distplot(jeju_kmeans_rfm[feature], ax = axes[i], norm_hist = False)\n",
    "\n",
    "model1 = KMeans(n_clusters= 4, random_state = 1234).fit(jeju_kmeans_rfm)\n",
    "centers = model1.cluster_centers_\n",
    "fig = plt.figure()\n",
    "ax = fig.add_subplot(111, projection = '3d')\n",
    "ax.scatter(jeju_kmeans_rfm['Recency'],jeju_kmeans_rfm['Frequency'],jeju_kmeans_rfm['Monetary'], cmap = 'brg',\n",
    "          c=model1.predict(jeju_kmeans_rfm))\n",
    "ax.scatter(centers[:,0], centers[:,1], c = 'black')\n",
    "ax.set_xlabel('Recency') \n",
    "ax.set_ylabel('Frequency')\n",
    "ax.set_zlabel('Monetary')eans_rfm['Frequency'],jeju_kmeans_rfm['Monetary'], cmap = 'brg',\n",
    "          c=model1.predict(jeju_kmeans_rfm))\n",
    "ax.scatter(centers[:,0], centers[:,1], c = 'black')\n",
    "ax.set_xlabel('Recency') \n",
    "ax.set_ylabel('Frequency')\n",
    "ax.set_zlabel('Monetary')"
   ]
  },
  {
   "cell_type": "code",
   "execution_count": null,
   "metadata": {},
   "outputs": [],
   "source": [
    "fig = plt.figure()\n",
    "ax = fig.add_subplot(111)\n",
    "ax.scatter(jeju_kmeans_rfm['Frequency'],jeju_kmeans_rfm['Monetary'], cmap = 'brg',\n",
    "          c=model1.predict(jeju_kmeans_rfm))\n",
    "ax.set_ylabel('Monetary') \n",
    "ax.set_xlabel('Frequency')\n",
    "fig = plt.figure()\n",
    "ax = fig.add_subplot(111)\n",
    "ax.scatter(jeju_kmeans_rfm['Frequency'],jeju_kmeans_rfm['Recency'], cmap = 'brg',\n",
    "          c=model1.predict(jeju_kmeans_rfm))\n",
    "ax.set_ylabel('Recency') \n",
    "ax.set_xlabel('Frequency')\n",
    "fig = plt.figure()\n",
    "ax = fig.add_subplot(111)\n",
    "ax.scatter(jeju_kmeans_rfm['Monetary'],jeju_kmeans_rfm['Recency'], cmap = 'brg',\n",
    "          c=model1.predict(jeju_kmeans_rfm))\n",
    "ax.set_xlabel('Monetary') \n",
    "ax.set_ylabel('Recency')"
   ]
  },
  {
   "cell_type": "markdown",
   "metadata": {},
   "source": [
    "## Scoring 진행"
   ]
  },
  {
   "cell_type": "code",
   "execution_count": null,
   "metadata": {},
   "outputs": [],
   "source": [
    "jeju_on_2018 = pd.read_csv('jeju_on_join_2018.csv', encoding = 'cp949')\n",
    "jeju_off_2018 = pd.read_csv('jeju_off_join_2018.csv', encoding = 'cp949')\n",
    "jeju_ahn_2018 = pd.concat([jeju_off_2018, jeju_on_2018])\n",
    "jeju_on_2019 = pd.read_csv('jeju_on_join_2019.csv', encoding = 'cp949')\n",
    "jeju_off_2019 = pd.read_csv('jeju_off_join_2019.csv', encoding = 'cp949')\n",
    "jeju_ahn_2019 = pd.concat([jeju_off_2019, jeju_on_2019])\n",
    "jeju_ahn = pd.concat([jeju_ahn_2018, jeju_ahn_2019])"
   ]
  },
  {
   "cell_type": "code",
   "execution_count": null,
   "metadata": {},
   "outputs": [],
   "source": [
    "jeju_total = jeju_ahn.groupby('customer_id').agg({'purchase_amt':'sum'})\n",
    "jeju_total_temp = jeju_ahn.groupby(['customer_id','purchase_date']).agg({'purchase_amt':'sum','purchase_id':'count'})\n",
    "jeju_total_temp.reset_index(inplace = True)\n",
    "jeju_total_temp= jeju_total_temp.groupby('customer_id').agg({'purchase_date':'count', 'purchase_id':'count'})\n",
    "\n",
    "# jeju_kmeans_royal = jeju_total[jeju_total['purchase_amt'] >= 0.5e7]\n",
    "# jeju_kmeans_royal['total_grade'] = '1Royal'\n",
    "#  royal 처리\n",
    "\n",
    "jeju_kmeans_test = jeju_ahn[['customer_id','purchase_id','purchase_date','purchase_amt']].groupby('customer_id').agg({'purchase_id':'count', 'purchase_date' :'count','purchase_amt':'sum'})\n",
    "jeju_kmeans_test['Recency'] = (730 / jeju_total_temp['purchase_date']).round(3) \n",
    "jeju_kmeans_test['Frequency']= jeju_total_temp['purchase_id']\n",
    "jeju_kmeans_test['Monetary'] = jeju_kmeans_test['purchase_amt']\n",
    "\n",
    "del1 = jeju_kmeans_test[jeju_kmeans_test['purchase_amt']==jeju_kmeans_test['purchase_amt'].max()].index\n",
    "jeju_kmeans_test.drop(del1[0], axis = 0, inplace = True)\n",
    "del2 = jeju_kmeans_test[jeju_kmeans_test['Frequency']==jeju_kmeans_test['Frequency'].max()].index\n",
    "jeju_kmeans_test.drop(del2[0], axis = 0, inplace = True)\n",
    "# 제일 큰 놈들 제거, purchase_amt의 제일 큰 값이 frequency 제일 큰 놈과 동일\n",
    "\n",
    "\n",
    "jeju_kmeans_run = jeju_kmeans_test[['Recency','Frequency','Monetary']]\n",
    "jeju_kmeans_run.shape"
   ]
  },
  {
   "cell_type": "code",
   "execution_count": null,
   "metadata": {},
   "outputs": [],
   "source": [
    "jeju_kmeans_run"
   ]
  },
  {
   "cell_type": "code",
   "execution_count": null,
   "metadata": {},
   "outputs": [],
   "source": [
    "def m_scoring(val):\n",
    "    m_stand = []\n",
    "    for i in range(1,5):\n",
    "        stand = jeju_kmeans_run['Monetary'].max() * (0.2*(5-i))\n",
    "        m_stand.append(stand)\n",
    "    if val > m_stand[0]:\n",
    "        return 5\n",
    "    elif val > m_stand[1]:\n",
    "        return 4\n",
    "    elif val > m_stand[2]:\n",
    "        return 3\n",
    "    elif val > m_stand[3]:\n",
    "        return 2\n",
    "    else:\n",
    "        return 1\n",
    "    \n",
    "jeju_kmeans_run['M_score'] = jeju_kmeans_run['Monetary'].apply(m_scoring)"
   ]
  },
  {
   "cell_type": "code",
   "execution_count": null,
   "metadata": {},
   "outputs": [],
   "source": [
    "def f_scoring(val):\n",
    "    f_stand = []\n",
    "    for i in range(1,5):\n",
    "        stand = jeju_kmeans_run['Frequency'].max() * (0.2*(5-i))\n",
    "        f_stand.append(stand)\n",
    "    if val > f_stand[0]:\n",
    "        return 5\n",
    "    elif val > f_stand[1]:\n",
    "        return 4\n",
    "    elif val > f_stand[2]:\n",
    "        return 3\n",
    "    elif val > f_stand[3]:\n",
    "        return 2\n",
    "    else:\n",
    "        return 1\n",
    "jeju_kmeans_run['F_score'] = jeju_kmeans_run['Frequency'].apply(f_scoring)"
   ]
  },
  {
   "cell_type": "code",
   "execution_count": null,
   "metadata": {},
   "outputs": [],
   "source": [
    "def r_scoring(val):\n",
    "    r_stand = []\n",
    "    for i in range(1,5):\n",
    "        stand = jeju_kmeans_run['Recency'].max() * (0.2*(5-i))\n",
    "        r_stand.append(stand)\n",
    "    if val > r_stand[0]:\n",
    "        return 5\n",
    "    elif val > r_stand[1]:\n",
    "        return 4\n",
    "    elif val > r_stand[2]:\n",
    "        return 3\n",
    "    elif val > r_stand[3]:\n",
    "        return 2\n",
    "    else:\n",
    "        return 1\n",
    "jeju_kmeans_run['R_score'] = jeju_kmeans_run['Recency'].apply(r_scoring)"
   ]
  },
  {
   "cell_type": "code",
   "execution_count": null,
   "metadata": {},
   "outputs": [],
   "source": [
    "jeju_kmeans_run"
   ]
  },
  {
   "cell_type": "code",
   "execution_count": null,
   "metadata": {},
   "outputs": [],
   "source": [
    "fig, axes = plt.subplots(1, 3, figsize=(30,10))\n",
    "for i, feature in enumerate(list(jeju_kmeans_run.iloc[:,3:].columns)):\n",
    "    sns.distplot(jeju_kmeans_run.iloc[:,3:][feature], ax = axes[i], norm_hist = False)\n",
    "\n",
    "model1 = KMeans(n_clusters= 4, random_state = 1234).fit(jeju_kmeans_run.iloc[:,3:])\n",
    "centers = model1.cluster_centers_\n",
    "fig = plt.figure()\n",
    "ax = fig.add_subplot(111, projection = '3d')\n",
    "ax.scatter(jeju_kmeans_run['R_score'],jeju_kmeans_run['F_score'],jeju_kmeans_run['M_score'], cmap = 'brg',\n",
    "          c=model1.predict(jeju_kmeans_run.iloc[:,3:]))\n",
    "ax.scatter(centers[:,0], centers[:,1], c = 'black')\n",
    "ax.set_xlabel('R_score') \n",
    "ax.set_ylabel('F_score')\n",
    "ax.set_zlabel('M_score')"
   ]
  },
  {
   "cell_type": "code",
   "execution_count": null,
   "metadata": {},
   "outputs": [],
   "source": [
    "fig = plt.figure()\n",
    "ax = fig.add_subplot(111)\n",
    "ax.scatter(jeju_kmeans_run['F_score'],jeju_kmeans_run['M_score'], cmap = 'brg',\n",
    "          c=model1.predict(jeju_kmeans_run.iloc[:,3:]))\n",
    "ax.set_ylabel('M_score') \n",
    "ax.set_xlabel('F_score')\n",
    "fig = plt.figure()\n",
    "ax = fig.add_subplot(111)\n",
    "ax.scatter(jeju_kmeans_run['F_score'],jeju_kmeans_run['R_score'], cmap = 'brg',\n",
    "          c=model1.predict(jeju_kmeans_run.iloc[:,3:]))\n",
    "ax.set_ylabel('R_score') \n",
    "ax.set_xlabel('F_score')\n",
    "fig = plt.figure()\n",
    "ax = fig.add_subplot(111)\n",
    "ax.scatter(jeju_kmeans_run['M_score'],jeju_kmeans_run['R_score'], cmap = 'brg',\n",
    "          c=model1.predict(jeju_kmeans_run.iloc[:,3:]))\n",
    "ax.set_xlabel('M_score') \n",
    "ax.set_ylabel('R_score')"
   ]
  },
  {
   "cell_type": "markdown",
   "metadata": {},
   "source": [
    "## R : 2년동안의 주기(730 / 방문). F : 방문 일 수, M : 총합"
   ]
  },
  {
   "cell_type": "code",
   "execution_count": null,
   "metadata": {},
   "outputs": [],
   "source": []
  },
  {
   "cell_type": "code",
   "execution_count": null,
   "metadata": {},
   "outputs": [],
   "source": []
  },
  {
   "cell_type": "code",
   "execution_count": 2,
   "metadata": {},
   "outputs": [],
   "source": [
    "jeju_on_2019 = pd.read_csv('jeju_on_join_2019.csv', encoding = 'cp949')\n",
    "jeju_off_2019 = pd.read_csv('jeju_off_join_2019.csv', encoding = 'cp949')\n",
    "jeju_ahn_2019 = pd.concat([jeju_off_2019, jeju_on_2019])"
   ]
  },
  {
   "cell_type": "code",
   "execution_count": null,
   "metadata": {},
   "outputs": [],
   "source": [
    "jeju_total = jeju_ahn_2019.groupby('customer_id').agg({'purchase_amt':'sum'})\n",
    "jeju_total_temp = jeju_ahn_2019.groupby(['customer_id','purchase_date']).agg({'purchase_amt':'sum','purchase_id':'count'})\n",
    "jeju_total_temp.reset_index(inplace = True)\n",
    "max_date = jeju_total_temp['purchase_date'].max()\n",
    "# jeju_total_temp= jeju_total_temp.groupby('customer_id').agg({'purchase_id':'count'})\n",
    "\n",
    "# jeju_kmeans_royal = jeju_total[jeju_total['purchase_amt'] >= 0.5e7]\n",
    "# jeju_kmeans_royal['total_grade'] = '1Royal'\n",
    "#  royal 처리\n",
    "\n",
    "jeju_kmeans_test = jeju_ahn_2019[['customer_id','purchase_id','purchase_date','purchase_amt']].groupby('customer_id').agg({'purchase_id':'count', 'purchase_date' :'count','purchase_amt':'sum'})\n",
    "# # jeju_kmeans_test['Recency'] = (730 / jeju_total_temp['purchase_date']).round(3) \n",
    "# jeju_kmeans_test['Frequency']= jeju_total_temp['purchase_id']\n",
    "# jeju_kmeans_test['Monetary'] = jeju_kmeans_test['purchase_amt']\n",
    "\n",
    "# del1 = jeju_kmeans_test[jeju_kmeans_test['purchase_amt']==jeju_kmeans_test['purchase_amt'].max()].index\n",
    "# jeju_kmeans_test.drop(del1[0], axis = 0, inplace = True)\n",
    "# del2 = jeju_kmeans_test[jeju_kmeans_test['Frequency']==jeju_kmeans_test['Frequency'].max()].index\n",
    "# jeju_kmeans_test.drop(del2[0], axis = 0, inplace = True)\n",
    "# 제일 큰 놈들 제거, purchase_amt의 제일 큰 값이 frequency 제일 큰 놈과 동일\n",
    "\n",
    "\n",
    "# jeju_kmeans_run = jeju_kmeans_test[['Recency','Frequency','Monetary']]\n",
    "# jeju_kmeans_run.shape"
   ]
  },
  {
   "cell_type": "code",
   "execution_count": null,
   "metadata": {},
   "outputs": [],
   "source": [
    "a = jeju_total_temp.groupby('customer_id').agg({'date_diff':'min'})[['date_diff']]\n",
    "jeju_kmeans_test['Recency'] = a\n",
    "a"
   ]
  },
  {
   "cell_type": "code",
   "execution_count": 436,
   "metadata": {},
   "outputs": [
    {
     "data": {
      "text/html": [
       "<div>\n",
       "<style scoped>\n",
       "    .dataframe tbody tr th:only-of-type {\n",
       "        vertical-align: middle;\n",
       "    }\n",
       "\n",
       "    .dataframe tbody tr th {\n",
       "        vertical-align: top;\n",
       "    }\n",
       "\n",
       "    .dataframe thead th {\n",
       "        text-align: right;\n",
       "    }\n",
       "</style>\n",
       "<table border=\"1\" class=\"dataframe\">\n",
       "  <thead>\n",
       "    <tr style=\"text-align: right;\">\n",
       "      <th></th>\n",
       "      <th>purchase_date</th>\n",
       "    </tr>\n",
       "    <tr>\n",
       "      <th>customer_id</th>\n",
       "      <th></th>\n",
       "    </tr>\n",
       "  </thead>\n",
       "  <tbody>\n",
       "    <tr>\n",
       "      <th>C118291</th>\n",
       "      <td>19</td>\n",
       "    </tr>\n",
       "    <tr>\n",
       "      <th>C118294</th>\n",
       "      <td>11</td>\n",
       "    </tr>\n",
       "    <tr>\n",
       "      <th>C118295</th>\n",
       "      <td>2</td>\n",
       "    </tr>\n",
       "    <tr>\n",
       "      <th>C118298</th>\n",
       "      <td>37</td>\n",
       "    </tr>\n",
       "    <tr>\n",
       "      <th>C118299</th>\n",
       "      <td>1</td>\n",
       "    </tr>\n",
       "    <tr>\n",
       "      <th>...</th>\n",
       "      <td>...</td>\n",
       "    </tr>\n",
       "    <tr>\n",
       "      <th>C704198</th>\n",
       "      <td>4</td>\n",
       "    </tr>\n",
       "    <tr>\n",
       "      <th>C704239</th>\n",
       "      <td>1</td>\n",
       "    </tr>\n",
       "    <tr>\n",
       "      <th>C704271</th>\n",
       "      <td>4</td>\n",
       "    </tr>\n",
       "    <tr>\n",
       "      <th>C704612</th>\n",
       "      <td>1</td>\n",
       "    </tr>\n",
       "    <tr>\n",
       "      <th>C705016</th>\n",
       "      <td>2</td>\n",
       "    </tr>\n",
       "  </tbody>\n",
       "</table>\n",
       "<p>2361 rows × 1 columns</p>\n",
       "</div>"
      ],
      "text/plain": [
       "             purchase_date\n",
       "customer_id               \n",
       "C118291                 19\n",
       "C118294                 11\n",
       "C118295                  2\n",
       "C118298                 37\n",
       "C118299                  1\n",
       "...                    ...\n",
       "C704198                  4\n",
       "C704239                  1\n",
       "C704271                  4\n",
       "C704612                  1\n",
       "C705016                  2\n",
       "\n",
       "[2361 rows x 1 columns]"
      ]
     },
     "execution_count": 436,
     "metadata": {},
     "output_type": "execute_result"
    }
   ],
   "source": [
    "jeju_total_temp.groupby('customer_id').agg({'purchase_date':'count'})[['purchase_date']]"
   ]
  },
  {
   "cell_type": "code",
   "execution_count": 451,
   "metadata": {},
   "outputs": [
    {
     "data": {
      "text/html": [
       "<div>\n",
       "<style scoped>\n",
       "    .dataframe tbody tr th:only-of-type {\n",
       "        vertical-align: middle;\n",
       "    }\n",
       "\n",
       "    .dataframe tbody tr th {\n",
       "        vertical-align: top;\n",
       "    }\n",
       "\n",
       "    .dataframe thead th {\n",
       "        text-align: right;\n",
       "    }\n",
       "</style>\n",
       "<table border=\"1\" class=\"dataframe\">\n",
       "  <thead>\n",
       "    <tr style=\"text-align: right;\">\n",
       "      <th></th>\n",
       "      <th>customer_id</th>\n",
       "      <th>purchase_date</th>\n",
       "      <th>purchase_amt</th>\n",
       "      <th>purchase_id</th>\n",
       "      <th>date_diff</th>\n",
       "    </tr>\n",
       "  </thead>\n",
       "  <tbody>\n",
       "    <tr>\n",
       "      <th>0</th>\n",
       "      <td>C118291</td>\n",
       "      <td>2019-01-28</td>\n",
       "      <td>35300</td>\n",
       "      <td>5</td>\n",
       "      <td>336</td>\n",
       "    </tr>\n",
       "    <tr>\n",
       "      <th>1</th>\n",
       "      <td>C118291</td>\n",
       "      <td>2019-02-23</td>\n",
       "      <td>19300</td>\n",
       "      <td>2</td>\n",
       "      <td>310</td>\n",
       "    </tr>\n",
       "    <tr>\n",
       "      <th>2</th>\n",
       "      <td>C118291</td>\n",
       "      <td>2019-04-10</td>\n",
       "      <td>24900</td>\n",
       "      <td>3</td>\n",
       "      <td>264</td>\n",
       "    </tr>\n",
       "    <tr>\n",
       "      <th>3</th>\n",
       "      <td>C118291</td>\n",
       "      <td>2019-07-17</td>\n",
       "      <td>30000</td>\n",
       "      <td>4</td>\n",
       "      <td>166</td>\n",
       "    </tr>\n",
       "    <tr>\n",
       "      <th>4</th>\n",
       "      <td>C118291</td>\n",
       "      <td>2019-10-10</td>\n",
       "      <td>20700</td>\n",
       "      <td>4</td>\n",
       "      <td>81</td>\n",
       "    </tr>\n",
       "    <tr>\n",
       "      <th>...</th>\n",
       "      <td>...</td>\n",
       "      <td>...</td>\n",
       "      <td>...</td>\n",
       "      <td>...</td>\n",
       "      <td>...</td>\n",
       "    </tr>\n",
       "    <tr>\n",
       "      <th>31904</th>\n",
       "      <td>C704271</td>\n",
       "      <td>2019-12-20</td>\n",
       "      <td>11000</td>\n",
       "      <td>3</td>\n",
       "      <td>10</td>\n",
       "    </tr>\n",
       "    <tr>\n",
       "      <th>31905</th>\n",
       "      <td>C704271</td>\n",
       "      <td>2019-12-21</td>\n",
       "      <td>7900</td>\n",
       "      <td>3</td>\n",
       "      <td>9</td>\n",
       "    </tr>\n",
       "    <tr>\n",
       "      <th>31906</th>\n",
       "      <td>C704612</td>\n",
       "      <td>2019-12-20</td>\n",
       "      <td>10800</td>\n",
       "      <td>1</td>\n",
       "      <td>10</td>\n",
       "    </tr>\n",
       "    <tr>\n",
       "      <th>31907</th>\n",
       "      <td>C705016</td>\n",
       "      <td>2019-12-22</td>\n",
       "      <td>33400</td>\n",
       "      <td>3</td>\n",
       "      <td>8</td>\n",
       "    </tr>\n",
       "    <tr>\n",
       "      <th>31908</th>\n",
       "      <td>C705016</td>\n",
       "      <td>2019-12-29</td>\n",
       "      <td>8400</td>\n",
       "      <td>2</td>\n",
       "      <td>1</td>\n",
       "    </tr>\n",
       "  </tbody>\n",
       "</table>\n",
       "<p>31909 rows × 5 columns</p>\n",
       "</div>"
      ],
      "text/plain": [
       "      customer_id purchase_date  purchase_amt  purchase_id  date_diff\n",
       "0         C118291    2019-01-28         35300            5        336\n",
       "1         C118291    2019-02-23         19300            2        310\n",
       "2         C118291    2019-04-10         24900            3        264\n",
       "3         C118291    2019-07-17         30000            4        166\n",
       "4         C118291    2019-10-10         20700            4         81\n",
       "...           ...           ...           ...          ...        ...\n",
       "31904     C704271    2019-12-20         11000            3         10\n",
       "31905     C704271    2019-12-21          7900            3          9\n",
       "31906     C704612    2019-12-20         10800            1         10\n",
       "31907     C705016    2019-12-22         33400            3          8\n",
       "31908     C705016    2019-12-29          8400            2          1\n",
       "\n",
       "[31909 rows x 5 columns]"
      ]
     },
     "execution_count": 451,
     "metadata": {},
     "output_type": "execute_result"
    }
   ],
   "source": [
    "jeju_total_temp"
   ]
  },
  {
   "cell_type": "code",
   "execution_count": 452,
   "metadata": {},
   "outputs": [],
   "source": [
    "jeju_total_temp = jeju_ahn_2019.groupby(['customer_id','purchase_date']).agg({'purchase_amt':'sum','purchase_id':'count'})\n",
    "jeju_customer = jeju_ahn_2019.groupby('customer_id').agg({'purchase_amt':'sum'}).reset_index(inplace = False)[['customer_id']]\n",
    "jeju_total_temp.reset_index(inplace = True)\n",
    "jeju_total_temp['purchase_date'] = jeju_total_temp['purchase_date'].apply(pd.to_datetime)\n",
    "jeju_total_temp['purchase_date'] = jeju_total_temp['purchase_date'].dt.date\n",
    "max_date = jeju_total_temp['purchase_date'].max()\n",
    "def date_diff(val):\n",
    "    return (max_date - val).days\n",
    "jeju_total_temp['date_diff'] = jeju_total_temp['purchase_date'].apply(date_diff)\n",
    "jeju_kmeans_test=pd.DataFrame()\n",
    "jeju_kmeans_test = jeju_total_temp.groupby('customer_id').agg({'date_diff':'min'})[['date_diff']]\n",
    "jeju_kmeans_test['Frequency']= jeju_total_temp.groupby('customer_id').agg({'purchase_date':'count'})[['purchase_date']]\n",
    "jeju_kmeans_test['Monetary'] = jeju_total_temp.groupby('customer_id').agg({'purchase_amt':'sum'})[['purchase_amt']]\n",
    "jeju_kmeans_test.rename(columns = {'date_diff' :'Recency'}, inplace= True)\n",
    "jeju_kmeans_run = jeju_kmeans_test"
   ]
  },
  {
   "cell_type": "code",
   "execution_count": 442,
   "metadata": {},
   "outputs": [
    {
     "data": {
      "text/html": [
       "<div>\n",
       "<style scoped>\n",
       "    .dataframe tbody tr th:only-of-type {\n",
       "        vertical-align: middle;\n",
       "    }\n",
       "\n",
       "    .dataframe tbody tr th {\n",
       "        vertical-align: top;\n",
       "    }\n",
       "\n",
       "    .dataframe thead th {\n",
       "        text-align: right;\n",
       "    }\n",
       "</style>\n",
       "<table border=\"1\" class=\"dataframe\">\n",
       "  <thead>\n",
       "    <tr style=\"text-align: right;\">\n",
       "      <th></th>\n",
       "      <th>customer_id</th>\n",
       "      <th>purchase_date</th>\n",
       "      <th>purchase_amt</th>\n",
       "      <th>purchase_id</th>\n",
       "      <th>date_diff</th>\n",
       "    </tr>\n",
       "  </thead>\n",
       "  <tbody>\n",
       "    <tr>\n",
       "      <th>31902</th>\n",
       "      <td>C704271</td>\n",
       "      <td>2019-12-04</td>\n",
       "      <td>7100</td>\n",
       "      <td>2</td>\n",
       "      <td>26</td>\n",
       "    </tr>\n",
       "    <tr>\n",
       "      <th>31903</th>\n",
       "      <td>C704271</td>\n",
       "      <td>2019-12-10</td>\n",
       "      <td>17800</td>\n",
       "      <td>2</td>\n",
       "      <td>20</td>\n",
       "    </tr>\n",
       "    <tr>\n",
       "      <th>31904</th>\n",
       "      <td>C704271</td>\n",
       "      <td>2019-12-20</td>\n",
       "      <td>11000</td>\n",
       "      <td>3</td>\n",
       "      <td>10</td>\n",
       "    </tr>\n",
       "    <tr>\n",
       "      <th>31905</th>\n",
       "      <td>C704271</td>\n",
       "      <td>2019-12-21</td>\n",
       "      <td>7900</td>\n",
       "      <td>3</td>\n",
       "      <td>9</td>\n",
       "    </tr>\n",
       "  </tbody>\n",
       "</table>\n",
       "</div>"
      ],
      "text/plain": [
       "      customer_id purchase_date  purchase_amt  purchase_id  date_diff\n",
       "31902     C704271    2019-12-04          7100            2         26\n",
       "31903     C704271    2019-12-10         17800            2         20\n",
       "31904     C704271    2019-12-20         11000            3         10\n",
       "31905     C704271    2019-12-21          7900            3          9"
      ]
     },
     "execution_count": 442,
     "metadata": {},
     "output_type": "execute_result"
    }
   ],
   "source": [
    "jeju_total_temp[jeju_total_temp['customer_id'] == 'C704271']"
   ]
  },
  {
   "cell_type": "code",
   "execution_count": 453,
   "metadata": {},
   "outputs": [
    {
     "data": {
      "text/html": [
       "<div>\n",
       "<style scoped>\n",
       "    .dataframe tbody tr th:only-of-type {\n",
       "        vertical-align: middle;\n",
       "    }\n",
       "\n",
       "    .dataframe tbody tr th {\n",
       "        vertical-align: top;\n",
       "    }\n",
       "\n",
       "    .dataframe thead th {\n",
       "        text-align: right;\n",
       "    }\n",
       "</style>\n",
       "<table border=\"1\" class=\"dataframe\">\n",
       "  <thead>\n",
       "    <tr style=\"text-align: right;\">\n",
       "      <th></th>\n",
       "      <th>Recency</th>\n",
       "      <th>Frequency</th>\n",
       "      <th>Monetary</th>\n",
       "    </tr>\n",
       "    <tr>\n",
       "      <th>customer_id</th>\n",
       "      <th></th>\n",
       "      <th></th>\n",
       "      <th></th>\n",
       "    </tr>\n",
       "  </thead>\n",
       "  <tbody>\n",
       "    <tr>\n",
       "      <th>C118291</th>\n",
       "      <td>0</td>\n",
       "      <td>24</td>\n",
       "      <td>521550</td>\n",
       "    </tr>\n",
       "    <tr>\n",
       "      <th>C118294</th>\n",
       "      <td>43</td>\n",
       "      <td>11</td>\n",
       "      <td>119850</td>\n",
       "    </tr>\n",
       "    <tr>\n",
       "      <th>C118295</th>\n",
       "      <td>123</td>\n",
       "      <td>2</td>\n",
       "      <td>25900</td>\n",
       "    </tr>\n",
       "    <tr>\n",
       "      <th>C118298</th>\n",
       "      <td>13</td>\n",
       "      <td>41</td>\n",
       "      <td>311100</td>\n",
       "    </tr>\n",
       "    <tr>\n",
       "      <th>C118299</th>\n",
       "      <td>321</td>\n",
       "      <td>1</td>\n",
       "      <td>7600</td>\n",
       "    </tr>\n",
       "    <tr>\n",
       "      <th>...</th>\n",
       "      <td>...</td>\n",
       "      <td>...</td>\n",
       "      <td>...</td>\n",
       "    </tr>\n",
       "    <tr>\n",
       "      <th>C704198</th>\n",
       "      <td>4</td>\n",
       "      <td>4</td>\n",
       "      <td>49850</td>\n",
       "    </tr>\n",
       "    <tr>\n",
       "      <th>C704239</th>\n",
       "      <td>0</td>\n",
       "      <td>1</td>\n",
       "      <td>18900</td>\n",
       "    </tr>\n",
       "    <tr>\n",
       "      <th>C704271</th>\n",
       "      <td>9</td>\n",
       "      <td>5</td>\n",
       "      <td>43800</td>\n",
       "    </tr>\n",
       "    <tr>\n",
       "      <th>C704612</th>\n",
       "      <td>10</td>\n",
       "      <td>1</td>\n",
       "      <td>10800</td>\n",
       "    </tr>\n",
       "    <tr>\n",
       "      <th>C705016</th>\n",
       "      <td>1</td>\n",
       "      <td>2</td>\n",
       "      <td>41800</td>\n",
       "    </tr>\n",
       "  </tbody>\n",
       "</table>\n",
       "<p>2361 rows × 3 columns</p>\n",
       "</div>"
      ],
      "text/plain": [
       "             Recency  Frequency  Monetary\n",
       "customer_id                              \n",
       "C118291            0         24    521550\n",
       "C118294           43         11    119850\n",
       "C118295          123          2     25900\n",
       "C118298           13         41    311100\n",
       "C118299          321          1      7600\n",
       "...              ...        ...       ...\n",
       "C704198            4          4     49850\n",
       "C704239            0          1     18900\n",
       "C704271            9          5     43800\n",
       "C704612           10          1     10800\n",
       "C705016            1          2     41800\n",
       "\n",
       "[2361 rows x 3 columns]"
      ]
     },
     "execution_count": 453,
     "metadata": {},
     "output_type": "execute_result"
    }
   ],
   "source": [
    "jeju_kmeans_test"
   ]
  },
  {
   "cell_type": "code",
   "execution_count": 449,
   "metadata": {},
   "outputs": [
    {
     "data": {
      "text/plain": [
       "{'whiskers': [<matplotlib.lines.Line2D at 0x7f5f0d972130>,\n",
       "  <matplotlib.lines.Line2D at 0x7f5f0d972490>],\n",
       " 'caps': [<matplotlib.lines.Line2D at 0x7f5f0d9727f0>,\n",
       "  <matplotlib.lines.Line2D at 0x7f5f0d972b50>],\n",
       " 'boxes': [<matplotlib.lines.Line2D at 0x7f5f0d96dd90>],\n",
       " 'medians': [<matplotlib.lines.Line2D at 0x7f5f0d972eb0>],\n",
       " 'fliers': [<matplotlib.lines.Line2D at 0x7f5f0d954250>],\n",
       " 'means': []}"
      ]
     },
     "execution_count": 449,
     "metadata": {},
     "output_type": "execute_result"
    },
    {
     "data": {
      "image/png": "[encoded data removed]",
      "text/plain": [
       "<Figure size 432x288 with 1 Axes>"
      ]
     },
     "metadata": {
      "needs_background": "light"
     },
     "output_type": "display_data"
    }
   ],
   "source": [
    "plt.boxplot(jeju_kmeans_test['Monetary'])"
   ]
  },
  {
   "cell_type": "code",
   "execution_count": 450,
   "metadata": {},
   "outputs": [
    {
     "data": {
      "text/plain": [
       "{'whiskers': [<matplotlib.lines.Line2D at 0x7f5ee25699a0>,\n",
       "  <matplotlib.lines.Line2D at 0x7f5ee2569d00>],\n",
       " 'caps': [<matplotlib.lines.Line2D at 0x7f5ee256c0a0>,\n",
       "  <matplotlib.lines.Line2D at 0x7f5ee256c400>],\n",
       " 'boxes': [<matplotlib.lines.Line2D at 0x7f5ee2569640>],\n",
       " 'medians': [<matplotlib.lines.Line2D at 0x7f5ee256c760>],\n",
       " 'fliers': [<matplotlib.lines.Line2D at 0x7f5ee256cac0>],\n",
       " 'means': []}"
      ]
     },
     "execution_count": 450,
     "metadata": {},
     "output_type": "execute_result"
    },
    {
     "data": {
      "image/png": "[encoded data removed]",
      "text/plain": [
       "<Figure size 432x288 with 1 Axes>"
      ]
     },
     "metadata": {
      "needs_background": "light"
     },
     "output_type": "display_data"
    }
   ],
   "source": [
    "plt.boxplot(jeju_kmeans_test['Frequency'])"
   ]
  },
  {
   "cell_type": "code",
   "execution_count": null,
   "metadata": {},
   "outputs": [],
   "source": [
    "# jeju_total_temp2= jeju_total_temp.groupby('customer_id').agg({'purchase_id':'count'})\n",
    "# jeju_kmeans_test = jeju_ahn[['customer_id','purchase_id','purchase_date','purchase_amt']].groupby('customer_id').agg({'purchase_id':'count', 'purchase_date' :'count','purchase_amt':'sum'})\n",
    "# jeju_kmeans_test['Recency'] = jeju_total_temp.groupby('customer_id').agg({'date_diff':'min'})\n",
    "# jeju_kmeans_test['Frequency']= jeju_total_temp2['purchase_id']\n",
    "# jeju_kmeans_test['Monetary'] = jeju_kmeans_test['purchase_amt']\n",
    "\n",
    "# del1 = jeju_kmeans_test[jeju_kmeans_test['purchase_amt']==jeju_kmeans_test['purchase_amt'].max()].index\n",
    "# jeju_kmeans_test.drop(del1[0], axis = 0, inplace = True)\n",
    "# del2 = jeju_kmeans_test[jeju_kmeans_test['Frequency']==jeju_kmeans_test['Frequency'].max()].index\n",
    "# jeju_kmeans_test.drop(del2[0], axis = 0, inplace = True)\n",
    "\n",
    "# jeju_kmeans_test = jeju_kmeans_test[jeju_kmeans_test['Frequency'] < 70]\n",
    "# jeju_kmeans_test = jeju_kmeans_test[jeju_kmeans_test['Monetary'] < 0.2e7]"
   ]
  },
  {
   "cell_type": "code",
   "execution_count": null,
   "metadata": {},
   "outputs": [],
   "source": [
    "# aa = jeju_total_temp.groupby('customer_id').agg({'date_diff':'min'})\n",
    "# jeju_total_temp[jeju_total_temp['customer_id'] == 'C118291']"
   ]
  },
  {
   "cell_type": "code",
   "execution_count": 135,
   "metadata": {},
   "outputs": [],
   "source": [
    "m_upper = np.percentile(jeju_kmeans_run['Monetary'], 75)\n",
    "m_lower = np.percentile(jeju_kmeans_run['Monetary'], 25)\n",
    "m_mean = np.percentile(jeju_kmeans_run['Monetary'], 50)\n",
    "m_iqr = m_upper - m_lower \n",
    "m_upper_whisker = m_upper + 1.5*m_iqr\n",
    "m_lower_whisker = m_lower - 1.5*m_iqr\n",
    "global m_stand\n",
    "m_stand  = [1006675.0, 505700.0, 150650.0, 37050.0]\n",
    "\n",
    "f_upper = np.percentile(jeju_kmeans_run['Frequency'], 75)\n",
    "f_lower = np.percentile(jeju_kmeans_run['Frequency'], 25)\n",
    "f_mean = np.percentile(jeju_kmeans_run['Frequency'], 50)\n",
    "f_iqr = f_upper - f_lower \n",
    "f_upper_whisker = f_upper + 1.5*f_iqr\n",
    "f_lower_whisker = f_lower - 1.5*f_iqr\n",
    "global f_stand\n",
    "f_stand = [60,20,7,2]\n",
    "\n",
    "r_upper = np.percentile(jeju_kmeans_run['Recency'], 75)\n",
    "r_lower = np.percentile(jeju_kmeans_run['Recency'], 25)\n",
    "r_mean = np.percentile(jeju_kmeans_run['Recency'], 50)\n",
    "r_iqr = r_upper - r_lower \n",
    "r_upper_whisker = r_upper + 1.5*r_iqr\n",
    "r_lower_whisker = r_lower - 1.5*r_iqr\n",
    "global r_stand\n",
    "r_stand = [100,30,8,1]\n",
    "jeju_kmeans_run\n",
    "def m_scoring(val):\n",
    "#     m_stand = []\n",
    "#     for i in range(1,5):\n",
    "#         stand = 0.2e7 * (0.2*(5-i))\n",
    "#         m_stand.append(stand)\n",
    "    if val > m_stand[0]:\n",
    "        return 5\n",
    "    elif val > m_stand[1]:\n",
    "        return 4\n",
    "    elif val > m_stand[2]:\n",
    "        return 3\n",
    "    elif val > m_stand[3]:\n",
    "        return 2\n",
    "    else:\n",
    "        return 1\n",
    "def f_scoring(val):\n",
    "#     f_stand = []\n",
    "#     for i in range(1,5):\n",
    "#         stand = 70 * (0.2*(5-i))\n",
    "#         f_stand.append(stand)\n",
    "    if val > f_stand[0]:\n",
    "        return 5\n",
    "    elif val > f_stand[1]:\n",
    "        return 4\n",
    "    elif val > f_stand[2]:\n",
    "        return 3\n",
    "    elif val > f_stand[3]:\n",
    "        return 2\n",
    "    else:\n",
    "        return 1\n",
    "def r_scoring(val):\n",
    "#     r_stand = []\n",
    "#     for i in range(1,5):\n",
    "#         stand = jeju_kmeans_run['Recency'].max() * (0.2*(5-i))\n",
    "#         r_stand.append(stand)\n",
    "    if val > r_stand[0]:\n",
    "        return 1\n",
    "    elif val > r_stand[1]:\n",
    "        return 2\n",
    "    elif val > r_stand[2]:\n",
    "        return 3\n",
    "    elif val > r_stand[3]:\n",
    "        return 4\n",
    "    else:\n",
    "        return 5\n",
    "jeju_kmeans_run['R_score'] = jeju_kmeans_run['Recency'].apply(r_scoring)\n",
    "jeju_kmeans_run['F_score'] = jeju_kmeans_run['Frequency'].apply(f_scoring)\n",
    "jeju_kmeans_run['M_score'] = jeju_kmeans_run['Monetary'].apply(m_scoring)"
   ]
  },
  {
   "cell_type": "code",
   "execution_count": 98,
   "metadata": {},
   "outputs": [],
   "source": [
    "m_stand  = [906675.0, 305700.0, 86650.0, 25050.0]"
   ]
  },
  {
   "cell_type": "code",
   "execution_count": 57,
   "metadata": {},
   "outputs": [
    {
     "data": {
      "text/plain": [
       "[293.5, 124.0, 40.0, 11.0]"
      ]
     },
     "execution_count": 57,
     "metadata": {},
     "output_type": "execute_result"
    }
   ],
   "source": [
    "r_stand = [124,40,11,2]"
   ]
  },
  {
   "cell_type": "code",
   "execution_count": 74,
   "metadata": {},
   "outputs": [
    {
     "data": {
      "text/plain": [
       "[39.5, 17.0, 5.0, 2.0]"
      ]
     },
     "execution_count": 74,
     "metadata": {},
     "output_type": "execute_result"
    }
   ],
   "source": [
    "f_stand = [39.5,17,8,2]"
   ]
  },
  {
   "cell_type": "code",
   "execution_count": 75,
   "metadata": {},
   "outputs": [
    {
     "data": {
      "text/plain": [
       "{'whiskers': [<matplotlib.lines.Line2D at 0x7f5f2870ff10>,\n",
       "  <matplotlib.lines.Line2D at 0x7f5f28695d60>],\n",
       " 'caps': [<matplotlib.lines.Line2D at 0x7f5f286956a0>,\n",
       "  <matplotlib.lines.Line2D at 0x7f5f28695ac0>],\n",
       " 'boxes': [<matplotlib.lines.Line2D at 0x7f5f2870f640>],\n",
       " 'medians': [<matplotlib.lines.Line2D at 0x7f5f28695040>],\n",
       " 'fliers': [<matplotlib.lines.Line2D at 0x7f5f1c50a2b0>],\n",
       " 'means': []}"
      ]
     },
     "execution_count": 75,
     "metadata": {},
     "output_type": "execute_result"
    },
    {
     "data": {
      "image/png": "[encoded data removed]",
      "text/plain": [
       "<Figure size 432x288 with 1 Axes>"
      ]
     },
     "metadata": {
      "needs_background": "light"
     },
     "output_type": "display_data"
    }
   ],
   "source": [
    "plt.boxplot(jeju_kmeans_run['Frequency'])"
   ]
  },
  {
   "cell_type": "code",
   "execution_count": 62,
   "metadata": {},
   "outputs": [
    {
     "data": {
      "text/plain": [
       "{'whiskers': [<matplotlib.lines.Line2D at 0x7f5f27cc4a60>,\n",
       "  <matplotlib.lines.Line2D at 0x7f5f27cc4dc0>],\n",
       " 'caps': [<matplotlib.lines.Line2D at 0x7f5f27cce160>,\n",
       "  <matplotlib.lines.Line2D at 0x7f5f27cce4c0>],\n",
       " 'boxes': [<matplotlib.lines.Line2D at 0x7f5f27cc4700>],\n",
       " 'medians': [<matplotlib.lines.Line2D at 0x7f5f27cce820>],\n",
       " 'fliers': [<matplotlib.lines.Line2D at 0x7f5f27cceb80>],\n",
       " 'means': []}"
      ]
     },
     "execution_count": 62,
     "metadata": {},
     "output_type": "execute_result"
    },
    {
     "data": {
      "image/png": "[encoded data removed]",
      "text/plain": [
       "<Figure size 432x288 with 1 Axes>"
      ]
     },
     "metadata": {
      "needs_background": "light"
     },
     "output_type": "display_data"
    }
   ],
   "source": [
    "plt.boxplot(jeju_kmeans_run['Recency'])"
   ]
  },
  {
   "cell_type": "code",
   "execution_count": 59,
   "metadata": {},
   "outputs": [
    {
     "data": {
      "text/plain": [
       "{'whiskers': [<matplotlib.lines.Line2D at 0x7f5f1c42d550>,\n",
       "  <matplotlib.lines.Line2D at 0x7f5f2880e220>],\n",
       " 'caps': [<matplotlib.lines.Line2D at 0x7f5f1c3fb3d0>,\n",
       "  <matplotlib.lines.Line2D at 0x7f5f1c3fbc10>],\n",
       " 'boxes': [<matplotlib.lines.Line2D at 0x7f5f263e8370>],\n",
       " 'medians': [<matplotlib.lines.Line2D at 0x7f5f287a18e0>],\n",
       " 'fliers': [<matplotlib.lines.Line2D at 0x7f5f1c434430>],\n",
       " 'means': []}"
      ]
     },
     "execution_count": 59,
     "metadata": {},
     "output_type": "execute_result"
    },
    {
     "data": {
      "image/png": "[encoded data removed]",
      "text/plain": [
       "<Figure size 432x288 with 1 Axes>"
      ]
     },
     "metadata": {
      "needs_background": "light"
     },
     "output_type": "display_data"
    }
   ],
   "source": [
    "plt.boxplot(jeju_kmeans_run[jeju_kmeans_run['Recency'] < 11]['Recency'])"
   ]
  },
  {
   "cell_type": "code",
   "execution_count": 24,
   "metadata": {},
   "outputs": [
    {
     "data": {
      "text/html": [
       "<div>\n",
       "<style scoped>\n",
       "    .dataframe tbody tr th:only-of-type {\n",
       "        vertical-align: middle;\n",
       "    }\n",
       "\n",
       "    .dataframe tbody tr th {\n",
       "        vertical-align: top;\n",
       "    }\n",
       "\n",
       "    .dataframe thead th {\n",
       "        text-align: right;\n",
       "    }\n",
       "</style>\n",
       "<table border=\"1\" class=\"dataframe\">\n",
       "  <thead>\n",
       "    <tr style=\"text-align: right;\">\n",
       "      <th></th>\n",
       "      <th>Recency</th>\n",
       "      <th>Frequency</th>\n",
       "      <th>Monetary</th>\n",
       "      <th>R_score</th>\n",
       "      <th>F_score</th>\n",
       "      <th>M_score</th>\n",
       "    </tr>\n",
       "    <tr>\n",
       "      <th>customer_id</th>\n",
       "      <th></th>\n",
       "      <th></th>\n",
       "      <th></th>\n",
       "      <th></th>\n",
       "      <th></th>\n",
       "      <th></th>\n",
       "    </tr>\n",
       "  </thead>\n",
       "  <tbody>\n",
       "    <tr>\n",
       "      <th>C118291</th>\n",
       "      <td>0</td>\n",
       "      <td>19</td>\n",
       "      <td>521550</td>\n",
       "      <td>5</td>\n",
       "      <td>4</td>\n",
       "      <td>4</td>\n",
       "    </tr>\n",
       "    <tr>\n",
       "      <th>C118294</th>\n",
       "      <td>43</td>\n",
       "      <td>11</td>\n",
       "      <td>119850</td>\n",
       "      <td>3</td>\n",
       "      <td>3</td>\n",
       "      <td>3</td>\n",
       "    </tr>\n",
       "    <tr>\n",
       "      <th>C118295</th>\n",
       "      <td>123</td>\n",
       "      <td>2</td>\n",
       "      <td>25900</td>\n",
       "      <td>3</td>\n",
       "      <td>1</td>\n",
       "      <td>2</td>\n",
       "    </tr>\n",
       "    <tr>\n",
       "      <th>C118298</th>\n",
       "      <td>13</td>\n",
       "      <td>37</td>\n",
       "      <td>311100</td>\n",
       "      <td>4</td>\n",
       "      <td>4</td>\n",
       "      <td>4</td>\n",
       "    </tr>\n",
       "    <tr>\n",
       "      <th>C118299</th>\n",
       "      <td>321</td>\n",
       "      <td>1</td>\n",
       "      <td>7600</td>\n",
       "      <td>1</td>\n",
       "      <td>1</td>\n",
       "      <td>1</td>\n",
       "    </tr>\n",
       "    <tr>\n",
       "      <th>...</th>\n",
       "      <td>...</td>\n",
       "      <td>...</td>\n",
       "      <td>...</td>\n",
       "      <td>...</td>\n",
       "      <td>...</td>\n",
       "      <td>...</td>\n",
       "    </tr>\n",
       "    <tr>\n",
       "      <th>C704198</th>\n",
       "      <td>4</td>\n",
       "      <td>4</td>\n",
       "      <td>49850</td>\n",
       "      <td>5</td>\n",
       "      <td>2</td>\n",
       "      <td>2</td>\n",
       "    </tr>\n",
       "    <tr>\n",
       "      <th>C704239</th>\n",
       "      <td>0</td>\n",
       "      <td>1</td>\n",
       "      <td>18900</td>\n",
       "      <td>5</td>\n",
       "      <td>1</td>\n",
       "      <td>1</td>\n",
       "    </tr>\n",
       "    <tr>\n",
       "      <th>C704271</th>\n",
       "      <td>9</td>\n",
       "      <td>4</td>\n",
       "      <td>43800</td>\n",
       "      <td>5</td>\n",
       "      <td>2</td>\n",
       "      <td>2</td>\n",
       "    </tr>\n",
       "    <tr>\n",
       "      <th>C704612</th>\n",
       "      <td>10</td>\n",
       "      <td>1</td>\n",
       "      <td>10800</td>\n",
       "      <td>5</td>\n",
       "      <td>1</td>\n",
       "      <td>1</td>\n",
       "    </tr>\n",
       "    <tr>\n",
       "      <th>C705016</th>\n",
       "      <td>1</td>\n",
       "      <td>2</td>\n",
       "      <td>41800</td>\n",
       "      <td>5</td>\n",
       "      <td>1</td>\n",
       "      <td>2</td>\n",
       "    </tr>\n",
       "  </tbody>\n",
       "</table>\n",
       "<p>2361 rows × 6 columns</p>\n",
       "</div>"
      ],
      "text/plain": [
       "             Recency  Frequency  Monetary  R_score  F_score  M_score\n",
       "customer_id                                                         \n",
       "C118291            0         19    521550        5        4        4\n",
       "C118294           43         11    119850        3        3        3\n",
       "C118295          123          2     25900        3        1        2\n",
       "C118298           13         37    311100        4        4        4\n",
       "C118299          321          1      7600        1        1        1\n",
       "...              ...        ...       ...      ...      ...      ...\n",
       "C704198            4          4     49850        5        2        2\n",
       "C704239            0          1     18900        5        1        1\n",
       "C704271            9          4     43800        5        2        2\n",
       "C704612           10          1     10800        5        1        1\n",
       "C705016            1          2     41800        5        1        2\n",
       "\n",
       "[2361 rows x 6 columns]"
      ]
     },
     "execution_count": 24,
     "metadata": {},
     "output_type": "execute_result"
    }
   ],
   "source": [
    "jeju_kmeans_run"
   ]
  },
  {
   "cell_type": "code",
   "execution_count": 189,
   "metadata": {},
   "outputs": [
    {
     "name": "stderr",
     "output_type": "stream",
     "text": [
      "/home/piai/anaconda3/lib/python3.8/site-packages/seaborn/distributions.py:2551: FutureWarning: `distplot` is a deprecated function and will be removed in a future version. Please adapt your code to use either `displot` (a figure-level function with similar flexibility) or `histplot` (an axes-level function for histograms).\n",
      "  warnings.warn(msg, FutureWarning)\n",
      "/home/piai/anaconda3/lib/python3.8/site-packages/seaborn/distributions.py:2551: FutureWarning: `distplot` is a deprecated function and will be removed in a future version. Please adapt your code to use either `displot` (a figure-level function with similar flexibility) or `histplot` (an axes-level function for histograms).\n",
      "  warnings.warn(msg, FutureWarning)\n",
      "/home/piai/anaconda3/lib/python3.8/site-packages/seaborn/distributions.py:2551: FutureWarning: `distplot` is a deprecated function and will be removed in a future version. Please adapt your code to use either `displot` (a figure-level function with similar flexibility) or `histplot` (an axes-level function for histograms).\n",
      "  warnings.warn(msg, FutureWarning)\n"
     ]
    },
    {
     "data": {
      "text/plain": [
       "Text(0.5, 0, 'M_score')"
      ]
     },
     "execution_count": 189,
     "metadata": {},
     "output_type": "execute_result"
    },
    {
     "data": {
      "image/png": "[encoded data removed]",
      "text/plain": [
       "<Figure size 2160x720 with 3 Axes>"
      ]
     },
     "metadata": {
      "needs_background": "light"
     },
     "output_type": "display_data"
    },
    {
     "data": {
      "image/png": "[encoded data removed]",
      "text/plain": [
       "<Figure size 720x720 with 1 Axes>"
      ]
     },
     "metadata": {
      "needs_background": "light"
     },
     "output_type": "display_data"
    }
   ],
   "source": [
    "markers = ['o', 'x', '^', '#']\n",
    "labels = ['Group A', 'Group B', 'Group C',' Group D']\n",
    "fig, axes = plt.subplots(1, 3, figsize=(30,10))\n",
    "for i, feature in enumerate(list(jeju_kmeans_run.iloc[:,3:6].columns)):\n",
    "    sns.distplot(jeju_kmeans_run.iloc[:,3:][feature], ax = axes[i], norm_hist = False)\n",
    "\n",
    "model1 = KMeans(n_clusters= 10, random_state = 1234).fit(jeju_kmeans_run.iloc[:,3:6])\n",
    "centers = model1.cluster_centers_\n",
    "fig = plt.figure(figsize = (10,10))\n",
    "ax = fig.add_subplot(111, projection = '3d')\n",
    "ax.scatter(jeju_kmeans_run['R_score'],jeju_kmeans_run['F_score'],jeju_kmeans_run['M_score'], cmap = 'brg', \n",
    "           s = 100, c=model1.predict(jeju_kmeans_run.iloc[:,3:6]), )\n",
    "ax.scatter(centers[:,0], centers[:,1], c = 'black', label = 'Centroids', s = 100)\n",
    "ax.set_xlabel('R_score') \n",
    "ax.set_ylabel('F_score')\n",
    "ax.set_zlabel('M_score')"
   ]
  },
  {
   "cell_type": "code",
   "execution_count": 190,
   "metadata": {},
   "outputs": [
    {
     "data": {
      "text/plain": [
       "Text(0, 0.5, 'R_score')"
      ]
     },
     "execution_count": 190,
     "metadata": {},
     "output_type": "execute_result"
    },
    {
     "data": {
      "image/png": "[encoded data removed]",
      "text/plain": [
       "<Figure size 432x288 with 1 Axes>"
      ]
     },
     "metadata": {
      "needs_background": "light"
     },
     "output_type": "display_data"
    },
    {
     "data": {
      "image/png": "[encoded data removed]",
      "text/plain": [
       "<Figure size 432x288 with 1 Axes>"
      ]
     },
     "metadata": {
      "needs_background": "light"
     },
     "output_type": "display_data"
    },
    {
     "data": {
      "image/png": "[encoded data removed]",
      "text/plain": [
       "<Figure size 432x288 with 1 Axes>"
      ]
     },
     "metadata": {
      "needs_background": "light"
     },
     "output_type": "display_data"
    }
   ],
   "source": [
    "fig = plt.figure()\n",
    "ax = fig.add_subplot(111)\n",
    "ax.scatter(jeju_kmeans_run['F_score'],jeju_kmeans_run['M_score'], cmap = 'brg', \n",
    "                                                      c=model1.predict(jeju_kmeans_run.iloc[:,3:6]))\n",
    "ax.set_ylabel('M_score') \n",
    "ax.set_xlabel('F_score')\n",
    "fig = plt.figure()\n",
    "ax = fig.add_subplot(111)\n",
    "ax.scatter(jeju_kmeans_run['F_score'],jeju_kmeans_run['R_score'], cmap = 'brg', label = ['Group A', 'Group B', 'Group C',' Group D'],\n",
    "          c=model1.predict(jeju_kmeans_run.iloc[:,3:6]))\n",
    "ax.set_ylabel('R_score') \n",
    "ax.set_xlabel('F_score')\n",
    "fig = plt.figure()\n",
    "ax = fig.add_subplot(111)\n",
    "ax.scatter(jeju_kmeans_run['M_score'],jeju_kmeans_run['R_score'], cmap = 'brg',\n",
    "          c=model1.predict(jeju_kmeans_run.iloc[:,3:6]))\n",
    "ax.set_xlabel('M_score') \n",
    "ax.set_ylabel('R_score')"
   ]
  },
  {
   "cell_type": "code",
   "execution_count": 191,
   "metadata": {},
   "outputs": [
    {
     "data": {
      "text/html": [
       "<div>\n",
       "<style scoped>\n",
       "    .dataframe tbody tr th:only-of-type {\n",
       "        vertical-align: middle;\n",
       "    }\n",
       "\n",
       "    .dataframe tbody tr th {\n",
       "        vertical-align: top;\n",
       "    }\n",
       "\n",
       "    .dataframe thead th {\n",
       "        text-align: right;\n",
       "    }\n",
       "</style>\n",
       "<table border=\"1\" class=\"dataframe\">\n",
       "  <thead>\n",
       "    <tr style=\"text-align: right;\">\n",
       "      <th></th>\n",
       "      <th>Cluster</th>\n",
       "    </tr>\n",
       "    <tr>\n",
       "      <th>Cluster</th>\n",
       "      <th></th>\n",
       "    </tr>\n",
       "  </thead>\n",
       "  <tbody>\n",
       "    <tr>\n",
       "      <th>0</th>\n",
       "      <td>397</td>\n",
       "    </tr>\n",
       "    <tr>\n",
       "      <th>1</th>\n",
       "      <td>275</td>\n",
       "    </tr>\n",
       "    <tr>\n",
       "      <th>2</th>\n",
       "      <td>149</td>\n",
       "    </tr>\n",
       "    <tr>\n",
       "      <th>3</th>\n",
       "      <td>128</td>\n",
       "    </tr>\n",
       "    <tr>\n",
       "      <th>4</th>\n",
       "      <td>288</td>\n",
       "    </tr>\n",
       "    <tr>\n",
       "      <th>5</th>\n",
       "      <td>298</td>\n",
       "    </tr>\n",
       "    <tr>\n",
       "      <th>6</th>\n",
       "      <td>400</td>\n",
       "    </tr>\n",
       "    <tr>\n",
       "      <th>7</th>\n",
       "      <td>182</td>\n",
       "    </tr>\n",
       "    <tr>\n",
       "      <th>8</th>\n",
       "      <td>83</td>\n",
       "    </tr>\n",
       "    <tr>\n",
       "      <th>9</th>\n",
       "      <td>161</td>\n",
       "    </tr>\n",
       "  </tbody>\n",
       "</table>\n",
       "</div>"
      ],
      "text/plain": [
       "         Cluster\n",
       "Cluster         \n",
       "0            397\n",
       "1            275\n",
       "2            149\n",
       "3            128\n",
       "4            288\n",
       "5            298\n",
       "6            400\n",
       "7            182\n",
       "8             83\n",
       "9            161"
      ]
     },
     "execution_count": 191,
     "metadata": {},
     "output_type": "execute_result"
    }
   ],
   "source": [
    "jeju_kmeans_run['Cluster'] = model1.labels_\n",
    "jeju_kmeans_run_count = jeju_kmeans_run[['Cluster']]\n",
    "jeju_kmeans_run_count.groupby('Cluster').agg({'Cluster':'count'})"
   ]
  },
  {
   "cell_type": "code",
   "execution_count": 192,
   "metadata": {},
   "outputs": [
    {
     "data": {
      "text/html": [
       "<div>\n",
       "<style scoped>\n",
       "    .dataframe tbody tr th:only-of-type {\n",
       "        vertical-align: middle;\n",
       "    }\n",
       "\n",
       "    .dataframe tbody tr th {\n",
       "        vertical-align: top;\n",
       "    }\n",
       "\n",
       "    .dataframe thead th {\n",
       "        text-align: right;\n",
       "    }\n",
       "</style>\n",
       "<table border=\"1\" class=\"dataframe\">\n",
       "  <thead>\n",
       "    <tr style=\"text-align: right;\">\n",
       "      <th></th>\n",
       "      <th>R_score</th>\n",
       "      <th>F_score</th>\n",
       "      <th>M_score</th>\n",
       "    </tr>\n",
       "    <tr>\n",
       "      <th>Cluster</th>\n",
       "      <th></th>\n",
       "      <th></th>\n",
       "      <th></th>\n",
       "    </tr>\n",
       "  </thead>\n",
       "  <tbody>\n",
       "    <tr>\n",
       "      <th>0</th>\n",
       "      <td>2.314861</td>\n",
       "      <td>3.005038</td>\n",
       "      <td>2.765743</td>\n",
       "    </tr>\n",
       "    <tr>\n",
       "      <th>1</th>\n",
       "      <td>2.174545</td>\n",
       "      <td>1.167273</td>\n",
       "      <td>1.123636</td>\n",
       "    </tr>\n",
       "    <tr>\n",
       "      <th>2</th>\n",
       "      <td>4.308725</td>\n",
       "      <td>3.912752</td>\n",
       "      <td>4.362416</td>\n",
       "    </tr>\n",
       "    <tr>\n",
       "      <th>3</th>\n",
       "      <td>4.203125</td>\n",
       "      <td>1.960938</td>\n",
       "      <td>1.859375</td>\n",
       "    </tr>\n",
       "    <tr>\n",
       "      <th>4</th>\n",
       "      <td>2.496528</td>\n",
       "      <td>1.937500</td>\n",
       "      <td>1.989583</td>\n",
       "    </tr>\n",
       "    <tr>\n",
       "      <th>5</th>\n",
       "      <td>1.000000</td>\n",
       "      <td>1.805369</td>\n",
       "      <td>1.879195</td>\n",
       "    </tr>\n",
       "    <tr>\n",
       "      <th>6</th>\n",
       "      <td>1.000000</td>\n",
       "      <td>1.000000</td>\n",
       "      <td>1.000000</td>\n",
       "    </tr>\n",
       "    <tr>\n",
       "      <th>7</th>\n",
       "      <td>2.906593</td>\n",
       "      <td>3.917582</td>\n",
       "      <td>3.791209</td>\n",
       "    </tr>\n",
       "    <tr>\n",
       "      <th>8</th>\n",
       "      <td>4.457831</td>\n",
       "      <td>5.000000</td>\n",
       "      <td>4.867470</td>\n",
       "    </tr>\n",
       "    <tr>\n",
       "      <th>9</th>\n",
       "      <td>4.360248</td>\n",
       "      <td>3.478261</td>\n",
       "      <td>2.975155</td>\n",
       "    </tr>\n",
       "  </tbody>\n",
       "</table>\n",
       "</div>"
      ],
      "text/plain": [
       "          R_score   F_score   M_score\n",
       "Cluster                              \n",
       "0        2.314861  3.005038  2.765743\n",
       "1        2.174545  1.167273  1.123636\n",
       "2        4.308725  3.912752  4.362416\n",
       "3        4.203125  1.960938  1.859375\n",
       "4        2.496528  1.937500  1.989583\n",
       "5        1.000000  1.805369  1.879195\n",
       "6        1.000000  1.000000  1.000000\n",
       "7        2.906593  3.917582  3.791209\n",
       "8        4.457831  5.000000  4.867470\n",
       "9        4.360248  3.478261  2.975155"
      ]
     },
     "execution_count": 192,
     "metadata": {},
     "output_type": "execute_result"
    }
   ],
   "source": [
    "jeju_kmeans_run.groupby('Cluster').agg({'R_score':'mean','F_score':'mean','M_score':'mean' })"
   ]
  },
  {
   "cell_type": "code",
   "execution_count": 193,
   "metadata": {},
   "outputs": [],
   "source": [
    "def change_cluster(val):\n",
    "    if val == 8 :\n",
    "        return '1Royal'\n",
    "    elif val == 2 or val == 9:\n",
    "        return '2Platinum'\n",
    "    elif val == 0 or val == 7 or val == 3:\n",
    "        return '3Gold'\n",
    "    elif val == 6 or val == 5 or val == 1 or val == 4:\n",
    "        return '4Silver'\n",
    "\n",
    "jeju_kmeans_run['Re_grade'] = jeju_kmeans_run['Cluster'].apply(change_cluster)"
   ]
  },
  {
   "cell_type": "code",
   "execution_count": 194,
   "metadata": {},
   "outputs": [
    {
     "name": "stderr",
     "output_type": "stream",
     "text": [
      "<ipython-input-194-3a5fd819faea>:2: SettingWithCopyWarning: \n",
      "A value is trying to be set on a copy of a slice from a DataFrame\n",
      "\n",
      "See the caveats in the documentation: https://pandas.pydata.org/pandas-docs/stable/user_guide/indexing.html#returning-a-view-versus-a-copy\n",
      "  a.drop_duplicates(['customer_id'], inplace=True)\n"
     ]
    },
    {
     "data": {
      "text/html": [
       "<div>\n",
       "<style scoped>\n",
       "    .dataframe tbody tr th:only-of-type {\n",
       "        vertical-align: middle;\n",
       "    }\n",
       "\n",
       "    .dataframe tbody tr th {\n",
       "        vertical-align: top;\n",
       "    }\n",
       "\n",
       "    .dataframe thead th {\n",
       "        text-align: right;\n",
       "    }\n",
       "</style>\n",
       "<table border=\"1\" class=\"dataframe\">\n",
       "  <thead>\n",
       "    <tr style=\"text-align: right;\">\n",
       "      <th></th>\n",
       "      <th>customer_id</th>\n",
       "      <th>customer_grade</th>\n",
       "    </tr>\n",
       "  </thead>\n",
       "  <tbody>\n",
       "    <tr>\n",
       "      <th>0</th>\n",
       "      <td>C118291</td>\n",
       "      <td>1Royal</td>\n",
       "    </tr>\n",
       "    <tr>\n",
       "      <th>86</th>\n",
       "      <td>C118294</td>\n",
       "      <td>2Platinum</td>\n",
       "    </tr>\n",
       "    <tr>\n",
       "      <th>106</th>\n",
       "      <td>C118295</td>\n",
       "      <td>3Gold</td>\n",
       "    </tr>\n",
       "    <tr>\n",
       "      <th>111</th>\n",
       "      <td>C118298</td>\n",
       "      <td>2Platinum</td>\n",
       "    </tr>\n",
       "    <tr>\n",
       "      <th>195</th>\n",
       "      <td>C118299</td>\n",
       "      <td>4Silver</td>\n",
       "    </tr>\n",
       "    <tr>\n",
       "      <th>...</th>\n",
       "      <td>...</td>\n",
       "      <td>...</td>\n",
       "    </tr>\n",
       "    <tr>\n",
       "      <th>11314</th>\n",
       "      <td>C701953</td>\n",
       "      <td>3Gold</td>\n",
       "    </tr>\n",
       "    <tr>\n",
       "      <th>11319</th>\n",
       "      <td>C701955</td>\n",
       "      <td>3Gold</td>\n",
       "    </tr>\n",
       "    <tr>\n",
       "      <th>11324</th>\n",
       "      <td>C701957</td>\n",
       "      <td>3Gold</td>\n",
       "    </tr>\n",
       "    <tr>\n",
       "      <th>11336</th>\n",
       "      <td>C701961</td>\n",
       "      <td>3Gold</td>\n",
       "    </tr>\n",
       "    <tr>\n",
       "      <th>11341</th>\n",
       "      <td>C701970</td>\n",
       "      <td>3Gold</td>\n",
       "    </tr>\n",
       "  </tbody>\n",
       "</table>\n",
       "<p>2361 rows × 2 columns</p>\n",
       "</div>"
      ],
      "text/plain": [
       "      customer_id customer_grade\n",
       "0         C118291         1Royal\n",
       "86        C118294      2Platinum\n",
       "106       C118295          3Gold\n",
       "111       C118298      2Platinum\n",
       "195       C118299        4Silver\n",
       "...           ...            ...\n",
       "11314     C701953          3Gold\n",
       "11319     C701955          3Gold\n",
       "11324     C701957          3Gold\n",
       "11336     C701961          3Gold\n",
       "11341     C701970          3Gold\n",
       "\n",
       "[2361 rows x 2 columns]"
      ]
     },
     "execution_count": 194,
     "metadata": {},
     "output_type": "execute_result"
    }
   ],
   "source": [
    "a = jeju_ahn_2019[['customer_id','customer_grade']]\n",
    "a.drop_duplicates(['customer_id'], inplace=True)\n",
    "a"
   ]
  },
  {
   "cell_type": "code",
   "execution_count": 202,
   "metadata": {},
   "outputs": [
    {
     "data": {
      "text/plain": [
       "customer_id    2361\n",
       "dtype: int64"
      ]
     },
     "execution_count": 202,
     "metadata": {},
     "output_type": "execute_result"
    }
   ],
   "source": [
    "a.groupby('customer_grade').agg({'customer_id':'count'})\n",
    "# original grade 인원 수\n",
    "re_graded = jeju_kmeans_run.reset_index(inplace = False)\n",
    "find_distribution_revised = re_graded[['customer_id','Re_grade']]\n",
    "find_distribution_revised=find_distribution_revised.groupby('Re_grade').agg({'customer_id':'count'})\n",
    "find_distribution_revised.sum()\n",
    "# 바꾼거 grade 인원 수find_distribution_revised"
   ]
  },
  {
   "cell_type": "code",
   "execution_count": 217,
   "metadata": {},
   "outputs": [
    {
     "data": {
      "text/html": [
       "<div>\n",
       "<style scoped>\n",
       "    .dataframe tbody tr th:only-of-type {\n",
       "        vertical-align: middle;\n",
       "    }\n",
       "\n",
       "    .dataframe tbody tr th {\n",
       "        vertical-align: top;\n",
       "    }\n",
       "\n",
       "    .dataframe thead th {\n",
       "        text-align: right;\n",
       "    }\n",
       "</style>\n",
       "<table border=\"1\" class=\"dataframe\">\n",
       "  <thead>\n",
       "    <tr style=\"text-align: right;\">\n",
       "      <th>Re_grade</th>\n",
       "      <th>1Royal</th>\n",
       "      <th>2Platinum</th>\n",
       "      <th>3Gold</th>\n",
       "      <th>4Silver</th>\n",
       "      <th>Sum</th>\n",
       "    </tr>\n",
       "    <tr>\n",
       "      <th>customer_grade</th>\n",
       "      <th></th>\n",
       "      <th></th>\n",
       "      <th></th>\n",
       "      <th></th>\n",
       "      <th></th>\n",
       "    </tr>\n",
       "  </thead>\n",
       "  <tbody>\n",
       "    <tr>\n",
       "      <th>1Royal</th>\n",
       "      <td>41.0</td>\n",
       "      <td>19.0</td>\n",
       "      <td>22.0</td>\n",
       "      <td>7.0</td>\n",
       "      <td>89.0</td>\n",
       "    </tr>\n",
       "    <tr>\n",
       "      <th>2Platinum</th>\n",
       "      <td>30.0</td>\n",
       "      <td>171.0</td>\n",
       "      <td>316.0</td>\n",
       "      <td>196.0</td>\n",
       "      <td>713.0</td>\n",
       "    </tr>\n",
       "    <tr>\n",
       "      <th>3Gold</th>\n",
       "      <td>12.0</td>\n",
       "      <td>119.0</td>\n",
       "      <td>360.0</td>\n",
       "      <td>827.0</td>\n",
       "      <td>1318.0</td>\n",
       "    </tr>\n",
       "    <tr>\n",
       "      <th>4Silver</th>\n",
       "      <td>NaN</td>\n",
       "      <td>1.0</td>\n",
       "      <td>9.0</td>\n",
       "      <td>231.0</td>\n",
       "      <td>241.0</td>\n",
       "    </tr>\n",
       "  </tbody>\n",
       "</table>\n",
       "</div>"
      ],
      "text/plain": [
       "Re_grade        1Royal  2Platinum  3Gold  4Silver     Sum\n",
       "customer_grade                                           \n",
       "1Royal            41.0       19.0   22.0      7.0    89.0\n",
       "2Platinum         30.0      171.0  316.0    196.0   713.0\n",
       "3Gold             12.0      119.0  360.0    827.0  1318.0\n",
       "4Silver            NaN        1.0    9.0    231.0   241.0"
      ]
     },
     "execution_count": 217,
     "metadata": {},
     "output_type": "execute_result"
    }
   ],
   "source": [
    "grade_data_2019 = pd.merge(re_graded[['customer_id','Re_grade']], a, on = 'customer_id', how = 'left')\n",
    "grade_data_2019_revised = grade_data_2019.groupby(['customer_grade','Re_grade']).agg({'customer_id':'count'})\n",
    "grade_data_2019_revised1 = grade_data_2019_revised.reset_index(inplace = False)\n",
    "grade_data_2019_revised2 = grade_data_2019_revised1.pivot(index = 'customer_grade',columns = 'Re_grade', values = 'customer_id')\n",
    "grade_data_2019_revised2['Sum'] = grade_data_2019_revised2.sum(axis = 1)\n",
    "grade_data_2019_revised2"
   ]
  },
  {
   "cell_type": "code",
   "execution_count": 219,
   "metadata": {},
   "outputs": [
    {
     "data": {
      "text/html": [
       "<div>\n",
       "<style scoped>\n",
       "    .dataframe tbody tr th:only-of-type {\n",
       "        vertical-align: middle;\n",
       "    }\n",
       "\n",
       "    .dataframe tbody tr th {\n",
       "        vertical-align: top;\n",
       "    }\n",
       "\n",
       "    .dataframe thead th {\n",
       "        text-align: right;\n",
       "    }\n",
       "</style>\n",
       "<table border=\"1\" class=\"dataframe\">\n",
       "  <thead>\n",
       "    <tr style=\"text-align: right;\">\n",
       "      <th>Re_grade</th>\n",
       "      <th>1Royal</th>\n",
       "      <th>2Platinum</th>\n",
       "      <th>3Gold</th>\n",
       "      <th>4Silver</th>\n",
       "      <th>Sum</th>\n",
       "    </tr>\n",
       "  </thead>\n",
       "  <tbody>\n",
       "    <tr>\n",
       "      <th>0</th>\n",
       "      <td>83.0</td>\n",
       "      <td>310.0</td>\n",
       "      <td>707.0</td>\n",
       "      <td>1261.0</td>\n",
       "      <td>2361.0</td>\n",
       "    </tr>\n",
       "  </tbody>\n",
       "</table>\n",
       "</div>"
      ],
      "text/plain": [
       "Re_grade  1Royal  2Platinum  3Gold  4Silver     Sum\n",
       "0           83.0      310.0  707.0   1261.0  2361.0"
      ]
     },
     "execution_count": 219,
     "metadata": {},
     "output_type": "execute_result"
    }
   ],
   "source": [
    "temp = pd.DataFrame(grade_data_2019_revised2.sum(axis = 0)).T\n",
    "temp"
   ]
  },
  {
   "cell_type": "code",
   "execution_count": 227,
   "metadata": {},
   "outputs": [
    {
     "data": {
      "text/html": [
       "<div>\n",
       "<style scoped>\n",
       "    .dataframe tbody tr th:only-of-type {\n",
       "        vertical-align: middle;\n",
       "    }\n",
       "\n",
       "    .dataframe tbody tr th {\n",
       "        vertical-align: top;\n",
       "    }\n",
       "\n",
       "    .dataframe thead th {\n",
       "        text-align: right;\n",
       "    }\n",
       "</style>\n",
       "<table border=\"1\" class=\"dataframe\">\n",
       "  <thead>\n",
       "    <tr style=\"text-align: right;\">\n",
       "      <th>Re_grade</th>\n",
       "      <th>1Royal</th>\n",
       "      <th>2Platinum</th>\n",
       "      <th>3Gold</th>\n",
       "      <th>4Silver</th>\n",
       "      <th>Sum</th>\n",
       "    </tr>\n",
       "  </thead>\n",
       "  <tbody>\n",
       "    <tr>\n",
       "      <th>1Royal</th>\n",
       "      <td>41.0</td>\n",
       "      <td>19.0</td>\n",
       "      <td>22.0</td>\n",
       "      <td>7.0</td>\n",
       "      <td>89.0</td>\n",
       "    </tr>\n",
       "    <tr>\n",
       "      <th>2Platinum</th>\n",
       "      <td>30.0</td>\n",
       "      <td>171.0</td>\n",
       "      <td>316.0</td>\n",
       "      <td>196.0</td>\n",
       "      <td>713.0</td>\n",
       "    </tr>\n",
       "    <tr>\n",
       "      <th>3Gold</th>\n",
       "      <td>12.0</td>\n",
       "      <td>119.0</td>\n",
       "      <td>360.0</td>\n",
       "      <td>827.0</td>\n",
       "      <td>1318.0</td>\n",
       "    </tr>\n",
       "    <tr>\n",
       "      <th>4Silver</th>\n",
       "      <td>0.0</td>\n",
       "      <td>1.0</td>\n",
       "      <td>9.0</td>\n",
       "      <td>231.0</td>\n",
       "      <td>241.0</td>\n",
       "    </tr>\n",
       "    <tr>\n",
       "      <th>Re_grade_Sum</th>\n",
       "      <td>83.0</td>\n",
       "      <td>310.0</td>\n",
       "      <td>707.0</td>\n",
       "      <td>1261.0</td>\n",
       "      <td>2361.0</td>\n",
       "    </tr>\n",
       "  </tbody>\n",
       "</table>\n",
       "</div>"
      ],
      "text/plain": [
       "Re_grade      1Royal  2Platinum  3Gold  4Silver     Sum\n",
       "1Royal          41.0       19.0   22.0      7.0    89.0\n",
       "2Platinum       30.0      171.0  316.0    196.0   713.0\n",
       "3Gold           12.0      119.0  360.0    827.0  1318.0\n",
       "4Silver          0.0        1.0    9.0    231.0   241.0\n",
       "Re_grade_Sum    83.0      310.0  707.0   1261.0  2361.0"
      ]
     },
     "execution_count": 227,
     "metadata": {},
     "output_type": "execute_result"
    }
   ],
   "source": [
    "data_2019_final = pd.concat([grade_data_2019_revised2, temp])\n",
    "data_2019_final.fillna(0, inplace = True)\n",
    "data_2019_final.rename(index = {0:'Re_grade_Sum'}, inplace = True)\n",
    "data_2019_final\n",
    "\n",
    "# temp = pd.DataFrame(grade_data_2019_revised2.sum(axis = 0)).T\n",
    "# temp"
   ]
  },
  {
   "cell_type": "code",
   "execution_count": null,
   "metadata": {},
   "outputs": [],
   "source": []
  },
  {
   "cell_type": "code",
   "execution_count": 468,
   "metadata": {},
   "outputs": [
    {
     "data": {
      "text/html": [
       "<div>\n",
       "<style scoped>\n",
       "    .dataframe tbody tr th:only-of-type {\n",
       "        vertical-align: middle;\n",
       "    }\n",
       "\n",
       "    .dataframe tbody tr th {\n",
       "        vertical-align: top;\n",
       "    }\n",
       "\n",
       "    .dataframe thead th {\n",
       "        text-align: right;\n",
       "    }\n",
       "</style>\n",
       "<table border=\"1\" class=\"dataframe\">\n",
       "  <thead>\n",
       "    <tr style=\"text-align: right;\">\n",
       "      <th></th>\n",
       "      <th>customer_id</th>\n",
       "      <th>Recency</th>\n",
       "      <th>Frequency</th>\n",
       "      <th>Monetary</th>\n",
       "      <th>R_score</th>\n",
       "      <th>F_score</th>\n",
       "      <th>M_score</th>\n",
       "      <th>Cluster</th>\n",
       "      <th>Re_grade</th>\n",
       "    </tr>\n",
       "  </thead>\n",
       "  <tbody>\n",
       "    <tr>\n",
       "      <th>0</th>\n",
       "      <td>C118291</td>\n",
       "      <td>0</td>\n",
       "      <td>19</td>\n",
       "      <td>521550</td>\n",
       "      <td>5</td>\n",
       "      <td>3</td>\n",
       "      <td>4</td>\n",
       "      <td>2</td>\n",
       "      <td>2Platinum</td>\n",
       "    </tr>\n",
       "    <tr>\n",
       "      <th>1</th>\n",
       "      <td>C118294</td>\n",
       "      <td>43</td>\n",
       "      <td>11</td>\n",
       "      <td>119850</td>\n",
       "      <td>2</td>\n",
       "      <td>3</td>\n",
       "      <td>2</td>\n",
       "      <td>0</td>\n",
       "      <td>3Gold</td>\n",
       "    </tr>\n",
       "    <tr>\n",
       "      <th>2</th>\n",
       "      <td>C118295</td>\n",
       "      <td>123</td>\n",
       "      <td>2</td>\n",
       "      <td>25900</td>\n",
       "      <td>1</td>\n",
       "      <td>1</td>\n",
       "      <td>1</td>\n",
       "      <td>6</td>\n",
       "      <td>4Silver</td>\n",
       "    </tr>\n",
       "    <tr>\n",
       "      <th>3</th>\n",
       "      <td>C118298</td>\n",
       "      <td>13</td>\n",
       "      <td>37</td>\n",
       "      <td>311100</td>\n",
       "      <td>3</td>\n",
       "      <td>4</td>\n",
       "      <td>3</td>\n",
       "      <td>7</td>\n",
       "      <td>3Gold</td>\n",
       "    </tr>\n",
       "    <tr>\n",
       "      <th>4</th>\n",
       "      <td>C118299</td>\n",
       "      <td>321</td>\n",
       "      <td>1</td>\n",
       "      <td>7600</td>\n",
       "      <td>1</td>\n",
       "      <td>1</td>\n",
       "      <td>1</td>\n",
       "      <td>6</td>\n",
       "      <td>4Silver</td>\n",
       "    </tr>\n",
       "    <tr>\n",
       "      <th>...</th>\n",
       "      <td>...</td>\n",
       "      <td>...</td>\n",
       "      <td>...</td>\n",
       "      <td>...</td>\n",
       "      <td>...</td>\n",
       "      <td>...</td>\n",
       "      <td>...</td>\n",
       "      <td>...</td>\n",
       "      <td>...</td>\n",
       "    </tr>\n",
       "    <tr>\n",
       "      <th>2356</th>\n",
       "      <td>C704198</td>\n",
       "      <td>4</td>\n",
       "      <td>4</td>\n",
       "      <td>49850</td>\n",
       "      <td>4</td>\n",
       "      <td>2</td>\n",
       "      <td>2</td>\n",
       "      <td>3</td>\n",
       "      <td>3Gold</td>\n",
       "    </tr>\n",
       "    <tr>\n",
       "      <th>2357</th>\n",
       "      <td>C704239</td>\n",
       "      <td>0</td>\n",
       "      <td>1</td>\n",
       "      <td>18900</td>\n",
       "      <td>5</td>\n",
       "      <td>1</td>\n",
       "      <td>1</td>\n",
       "      <td>3</td>\n",
       "      <td>3Gold</td>\n",
       "    </tr>\n",
       "    <tr>\n",
       "      <th>2358</th>\n",
       "      <td>C704271</td>\n",
       "      <td>9</td>\n",
       "      <td>4</td>\n",
       "      <td>43800</td>\n",
       "      <td>3</td>\n",
       "      <td>2</td>\n",
       "      <td>2</td>\n",
       "      <td>4</td>\n",
       "      <td>4Silver</td>\n",
       "    </tr>\n",
       "    <tr>\n",
       "      <th>2359</th>\n",
       "      <td>C704612</td>\n",
       "      <td>10</td>\n",
       "      <td>1</td>\n",
       "      <td>10800</td>\n",
       "      <td>3</td>\n",
       "      <td>1</td>\n",
       "      <td>1</td>\n",
       "      <td>1</td>\n",
       "      <td>4Silver</td>\n",
       "    </tr>\n",
       "    <tr>\n",
       "      <th>2360</th>\n",
       "      <td>C705016</td>\n",
       "      <td>1</td>\n",
       "      <td>2</td>\n",
       "      <td>41800</td>\n",
       "      <td>5</td>\n",
       "      <td>1</td>\n",
       "      <td>2</td>\n",
       "      <td>3</td>\n",
       "      <td>3Gold</td>\n",
       "    </tr>\n",
       "  </tbody>\n",
       "</table>\n",
       "<p>2361 rows × 9 columns</p>\n",
       "</div>"
      ],
      "text/plain": [
       "     customer_id  Recency  Frequency  Monetary  R_score  F_score  M_score  \\\n",
       "0        C118291        0         19    521550        5        3        4   \n",
       "1        C118294       43         11    119850        2        3        2   \n",
       "2        C118295      123          2     25900        1        1        1   \n",
       "3        C118298       13         37    311100        3        4        3   \n",
       "4        C118299      321          1      7600        1        1        1   \n",
       "...          ...      ...        ...       ...      ...      ...      ...   \n",
       "2356     C704198        4          4     49850        4        2        2   \n",
       "2357     C704239        0          1     18900        5        1        1   \n",
       "2358     C704271        9          4     43800        3        2        2   \n",
       "2359     C704612       10          1     10800        3        1        1   \n",
       "2360     C705016        1          2     41800        5        1        2   \n",
       "\n",
       "      Cluster   Re_grade  \n",
       "0           2  2Platinum  \n",
       "1           0      3Gold  \n",
       "2           6    4Silver  \n",
       "3           7      3Gold  \n",
       "4           6    4Silver  \n",
       "...       ...        ...  \n",
       "2356        3      3Gold  \n",
       "2357        3      3Gold  \n",
       "2358        4    4Silver  \n",
       "2359        1    4Silver  \n",
       "2360        3      3Gold  \n",
       "\n",
       "[2361 rows x 9 columns]"
      ]
     },
     "execution_count": 468,
     "metadata": {},
     "output_type": "execute_result"
    }
   ],
   "source": [
    "re_graded"
   ]
  },
  {
   "cell_type": "code",
   "execution_count": 471,
   "metadata": {},
   "outputs": [
    {
     "data": {
      "text/html": [
       "<div>\n",
       "<style scoped>\n",
       "    .dataframe tbody tr th:only-of-type {\n",
       "        vertical-align: middle;\n",
       "    }\n",
       "\n",
       "    .dataframe tbody tr th {\n",
       "        vertical-align: top;\n",
       "    }\n",
       "\n",
       "    .dataframe thead th {\n",
       "        text-align: right;\n",
       "    }\n",
       "</style>\n",
       "<table border=\"1\" class=\"dataframe\">\n",
       "  <thead>\n",
       "    <tr style=\"text-align: right;\">\n",
       "      <th></th>\n",
       "      <th>Feature</th>\n",
       "      <th>Importance</th>\n",
       "    </tr>\n",
       "  </thead>\n",
       "  <tbody>\n",
       "    <tr>\n",
       "      <th>1</th>\n",
       "      <td>Frequency</td>\n",
       "      <td>0.541</td>\n",
       "    </tr>\n",
       "    <tr>\n",
       "      <th>0</th>\n",
       "      <td>Recency</td>\n",
       "      <td>0.398</td>\n",
       "    </tr>\n",
       "    <tr>\n",
       "      <th>2</th>\n",
       "      <td>Monetary</td>\n",
       "      <td>0.062</td>\n",
       "    </tr>\n",
       "  </tbody>\n",
       "</table>\n",
       "</div>"
      ],
      "text/plain": [
       "     Feature  Importance\n",
       "1  Frequency       0.541\n",
       "0    Recency       0.398\n",
       "2   Monetary       0.062"
      ]
     },
     "execution_count": 471,
     "metadata": {},
     "output_type": "execute_result"
    }
   ],
   "source": [
    "answer_y = re_graded['Re_grade']\n",
    "answer_x = re_graded[['Recency','Frequency','Monetary']]\n",
    "\n",
    "tree_uncustomized = DecisionTreeClassifier()\n",
    "tree_uncustomized.fit(answer_x, answer_y)\n",
    "df_importance = pd.DataFrame()\n",
    "df_importance['Feature'] = answer_x.columns\n",
    "df_importance['Importance'] = tree_uncustomized.feature_importances_\n",
    "df_importance.sort_values('Importance', ascending = False, inplace = True)\n",
    "df_importance.round(3)"
   ]
  },
  {
   "cell_type": "code",
   "execution_count": 201,
   "metadata": {},
   "outputs": [
    {
     "data": {
      "text/html": [
       "<div>\n",
       "<style scoped>\n",
       "    .dataframe tbody tr th:only-of-type {\n",
       "        vertical-align: middle;\n",
       "    }\n",
       "\n",
       "    .dataframe tbody tr th {\n",
       "        vertical-align: top;\n",
       "    }\n",
       "\n",
       "    .dataframe thead th {\n",
       "        text-align: right;\n",
       "    }\n",
       "</style>\n",
       "<table border=\"1\" class=\"dataframe\">\n",
       "  <thead>\n",
       "    <tr style=\"text-align: right;\">\n",
       "      <th></th>\n",
       "      <th>customer_id</th>\n",
       "      <th>Recency</th>\n",
       "      <th>Frequency</th>\n",
       "      <th>Monetary</th>\n",
       "      <th>R_score</th>\n",
       "      <th>F_score</th>\n",
       "      <th>M_score</th>\n",
       "      <th>Cluster</th>\n",
       "      <th>Re_grade</th>\n",
       "    </tr>\n",
       "  </thead>\n",
       "  <tbody>\n",
       "    <tr>\n",
       "      <th>0</th>\n",
       "      <td>C118291</td>\n",
       "      <td>0</td>\n",
       "      <td>19</td>\n",
       "      <td>521550</td>\n",
       "      <td>5</td>\n",
       "      <td>3</td>\n",
       "      <td>4</td>\n",
       "      <td>2</td>\n",
       "      <td>2Platinum</td>\n",
       "    </tr>\n",
       "    <tr>\n",
       "      <th>1</th>\n",
       "      <td>C118294</td>\n",
       "      <td>43</td>\n",
       "      <td>11</td>\n",
       "      <td>119850</td>\n",
       "      <td>2</td>\n",
       "      <td>3</td>\n",
       "      <td>2</td>\n",
       "      <td>0</td>\n",
       "      <td>3Gold</td>\n",
       "    </tr>\n",
       "    <tr>\n",
       "      <th>2</th>\n",
       "      <td>C118295</td>\n",
       "      <td>123</td>\n",
       "      <td>2</td>\n",
       "      <td>25900</td>\n",
       "      <td>1</td>\n",
       "      <td>1</td>\n",
       "      <td>1</td>\n",
       "      <td>6</td>\n",
       "      <td>4Silver</td>\n",
       "    </tr>\n",
       "    <tr>\n",
       "      <th>3</th>\n",
       "      <td>C118298</td>\n",
       "      <td>13</td>\n",
       "      <td>37</td>\n",
       "      <td>311100</td>\n",
       "      <td>3</td>\n",
       "      <td>4</td>\n",
       "      <td>3</td>\n",
       "      <td>7</td>\n",
       "      <td>3Gold</td>\n",
       "    </tr>\n",
       "    <tr>\n",
       "      <th>4</th>\n",
       "      <td>C118299</td>\n",
       "      <td>321</td>\n",
       "      <td>1</td>\n",
       "      <td>7600</td>\n",
       "      <td>1</td>\n",
       "      <td>1</td>\n",
       "      <td>1</td>\n",
       "      <td>6</td>\n",
       "      <td>4Silver</td>\n",
       "    </tr>\n",
       "    <tr>\n",
       "      <th>...</th>\n",
       "      <td>...</td>\n",
       "      <td>...</td>\n",
       "      <td>...</td>\n",
       "      <td>...</td>\n",
       "      <td>...</td>\n",
       "      <td>...</td>\n",
       "      <td>...</td>\n",
       "      <td>...</td>\n",
       "      <td>...</td>\n",
       "    </tr>\n",
       "    <tr>\n",
       "      <th>2356</th>\n",
       "      <td>C704198</td>\n",
       "      <td>4</td>\n",
       "      <td>4</td>\n",
       "      <td>49850</td>\n",
       "      <td>4</td>\n",
       "      <td>2</td>\n",
       "      <td>2</td>\n",
       "      <td>3</td>\n",
       "      <td>3Gold</td>\n",
       "    </tr>\n",
       "    <tr>\n",
       "      <th>2357</th>\n",
       "      <td>C704239</td>\n",
       "      <td>0</td>\n",
       "      <td>1</td>\n",
       "      <td>18900</td>\n",
       "      <td>5</td>\n",
       "      <td>1</td>\n",
       "      <td>1</td>\n",
       "      <td>3</td>\n",
       "      <td>3Gold</td>\n",
       "    </tr>\n",
       "    <tr>\n",
       "      <th>2358</th>\n",
       "      <td>C704271</td>\n",
       "      <td>9</td>\n",
       "      <td>4</td>\n",
       "      <td>43800</td>\n",
       "      <td>3</td>\n",
       "      <td>2</td>\n",
       "      <td>2</td>\n",
       "      <td>4</td>\n",
       "      <td>4Silver</td>\n",
       "    </tr>\n",
       "    <tr>\n",
       "      <th>2359</th>\n",
       "      <td>C704612</td>\n",
       "      <td>10</td>\n",
       "      <td>1</td>\n",
       "      <td>10800</td>\n",
       "      <td>3</td>\n",
       "      <td>1</td>\n",
       "      <td>1</td>\n",
       "      <td>1</td>\n",
       "      <td>4Silver</td>\n",
       "    </tr>\n",
       "    <tr>\n",
       "      <th>2360</th>\n",
       "      <td>C705016</td>\n",
       "      <td>1</td>\n",
       "      <td>2</td>\n",
       "      <td>41800</td>\n",
       "      <td>5</td>\n",
       "      <td>1</td>\n",
       "      <td>2</td>\n",
       "      <td>3</td>\n",
       "      <td>3Gold</td>\n",
       "    </tr>\n",
       "  </tbody>\n",
       "</table>\n",
       "<p>2361 rows × 9 columns</p>\n",
       "</div>"
      ],
      "text/plain": [
       "     customer_id  Recency  Frequency  Monetary  R_score  F_score  M_score  \\\n",
       "0        C118291        0         19    521550        5        3        4   \n",
       "1        C118294       43         11    119850        2        3        2   \n",
       "2        C118295      123          2     25900        1        1        1   \n",
       "3        C118298       13         37    311100        3        4        3   \n",
       "4        C118299      321          1      7600        1        1        1   \n",
       "...          ...      ...        ...       ...      ...      ...      ...   \n",
       "2356     C704198        4          4     49850        4        2        2   \n",
       "2357     C704239        0          1     18900        5        1        1   \n",
       "2358     C704271        9          4     43800        3        2        2   \n",
       "2359     C704612       10          1     10800        3        1        1   \n",
       "2360     C705016        1          2     41800        5        1        2   \n",
       "\n",
       "      Cluster   Re_grade  \n",
       "0           2  2Platinum  \n",
       "1           0      3Gold  \n",
       "2           6    4Silver  \n",
       "3           7      3Gold  \n",
       "4           6    4Silver  \n",
       "...       ...        ...  \n",
       "2356        3      3Gold  \n",
       "2357        3      3Gold  \n",
       "2358        4    4Silver  \n",
       "2359        1    4Silver  \n",
       "2360        3      3Gold  \n",
       "\n",
       "[2361 rows x 9 columns]"
      ]
     },
     "execution_count": 201,
     "metadata": {},
     "output_type": "execute_result"
    }
   ],
   "source": [
    "re_graded"
   ]
  },
  {
   "cell_type": "code",
   "execution_count": 398,
   "metadata": {},
   "outputs": [
    {
     "data": {
      "text/plain": [
       "1316    C541748\n",
       "Name: customer_id, dtype: object"
      ]
     },
     "execution_count": 398,
     "metadata": {},
     "output_type": "execute_result"
    }
   ],
   "source": [
    "re_graded[re_graded['Monetary'] == re_graded['Monetary'].max()]['customer_id']"
   ]
  },
  {
   "cell_type": "code",
   "execution_count": 399,
   "metadata": {},
   "outputs": [
    {
     "data": {
      "text/plain": [
       "1316    C541748\n",
       "Name: customer_id, dtype: object"
      ]
     },
     "execution_count": 399,
     "metadata": {},
     "output_type": "execute_result"
    }
   ],
   "source": [
    "re_graded[re_graded['Frequency'] == re_graded['Frequency'].max()]['customer_id']"
   ]
  },
  {
   "cell_type": "code",
   "execution_count": 196,
   "metadata": {},
   "outputs": [
    {
     "data": {
      "text/html": [
       "<div>\n",
       "<style scoped>\n",
       "    .dataframe tbody tr th:only-of-type {\n",
       "        vertical-align: middle;\n",
       "    }\n",
       "\n",
       "    .dataframe tbody tr th {\n",
       "        vertical-align: top;\n",
       "    }\n",
       "\n",
       "    .dataframe thead th {\n",
       "        text-align: right;\n",
       "    }\n",
       "</style>\n",
       "<table border=\"1\" class=\"dataframe\">\n",
       "  <thead>\n",
       "    <tr style=\"text-align: right;\">\n",
       "      <th></th>\n",
       "      <th>기존_고객수</th>\n",
       "      <th>새로운_고객수</th>\n",
       "      <th>증가수</th>\n",
       "      <th>기존_객단가</th>\n",
       "      <th>새로운_객단가</th>\n",
       "    </tr>\n",
       "    <tr>\n",
       "      <th>customer_grade</th>\n",
       "      <th></th>\n",
       "      <th></th>\n",
       "      <th></th>\n",
       "      <th></th>\n",
       "      <th></th>\n",
       "    </tr>\n",
       "  </thead>\n",
       "  <tbody>\n",
       "    <tr>\n",
       "      <th>1Royal</th>\n",
       "      <td>89</td>\n",
       "      <td>83</td>\n",
       "      <td>-6</td>\n",
       "      <td>1946676.404</td>\n",
       "      <td>2295271.012</td>\n",
       "    </tr>\n",
       "    <tr>\n",
       "      <th>2Platinum</th>\n",
       "      <td>713</td>\n",
       "      <td>310</td>\n",
       "      <td>-403</td>\n",
       "      <td>408732.568</td>\n",
       "      <td>657391.684</td>\n",
       "    </tr>\n",
       "    <tr>\n",
       "      <th>3Gold</th>\n",
       "      <td>1318</td>\n",
       "      <td>707</td>\n",
       "      <td>-611</td>\n",
       "      <td>158577.678</td>\n",
       "      <td>326612.883</td>\n",
       "    </tr>\n",
       "    <tr>\n",
       "      <th>4Silver</th>\n",
       "      <td>241</td>\n",
       "      <td>1261</td>\n",
       "      <td>1020</td>\n",
       "      <td>39780.270</td>\n",
       "      <td>46041.810</td>\n",
       "    </tr>\n",
       "  </tbody>\n",
       "</table>\n",
       "</div>"
      ],
      "text/plain": [
       "                기존_고객수  새로운_고객수   증가수       기존_객단가      새로운_객단가\n",
       "customer_grade                                                 \n",
       "1Royal              89       83    -6  1946676.404  2295271.012\n",
       "2Platinum          713      310  -403   408732.568   657391.684\n",
       "3Gold             1318      707  -611   158577.678   326612.883\n",
       "4Silver            241     1261  1020    39780.270    46041.810"
      ]
     },
     "execution_count": 196,
     "metadata": {},
     "output_type": "execute_result"
    }
   ],
   "source": [
    "re_graded = jeju_kmeans_run.reset_index(inplace = False)\n",
    "find_distribution_revised = re_graded[['customer_id','Re_grade']]\n",
    "find_distribution_revised=find_distribution_revised.groupby('Re_grade').agg({'customer_id':'count'})\n",
    "find_distribution_revised\n",
    "# find_distribution_revised1 = find_distribution_revised.reindex(index=['한라봉','천혜향','귤','낑깡'])\n",
    "# find_distribution_revised1 \n",
    "# 바꾼거 grade 인원 수find_distribution_revised\n",
    "re_graded1 = re_graded.groupby('Re_grade').agg({'customer_id':'count'})\n",
    "re_graded2 = re_graded.groupby('Re_grade').agg({'Monetary':'sum'}).round(3)\n",
    "re_graded2['customer_transaction'] = (re_graded2['Monetary'] / re_graded1['customer_id']).round(3)\n",
    "original1 =jeju_ahn_2019.groupby(['customer_id', 'customer_grade']).agg({'purchase_amt':'sum'})\n",
    "original1 = original1.reset_index(inplace = False)\n",
    "original1 = original1.groupby('customer_grade').agg({'customer_id':'count','purchase_amt':'sum'})\n",
    "\n",
    "original1['customer_transcation'] = (original1['purchase_amt'] / original1['customer_id']).round(3) \n",
    "\n",
    "\n",
    "final_table = pd.DataFrame()\n",
    "final_table['기존_고객수'] = original1['customer_id']\n",
    "final_table['새로운_고객수'] = re_graded1['customer_id']\n",
    "final_table['증가수'] = final_table['새로운_고객수'] - final_table['기존_고객수']\n",
    "final_table['기존_객단가'] = original1['customer_transcation']\n",
    "final_table['새로운_객단가'] = re_graded2['customer_transaction']\n",
    "final_table"
   ]
  },
  {
   "cell_type": "code",
   "execution_count": 465,
   "metadata": {},
   "outputs": [
    {
     "data": {
      "text/html": [
       "<div>\n",
       "<style scoped>\n",
       "    .dataframe tbody tr th:only-of-type {\n",
       "        vertical-align: middle;\n",
       "    }\n",
       "\n",
       "    .dataframe tbody tr th {\n",
       "        vertical-align: top;\n",
       "    }\n",
       "\n",
       "    .dataframe thead th {\n",
       "        text-align: right;\n",
       "    }\n",
       "</style>\n",
       "<table border=\"1\" class=\"dataframe\">\n",
       "  <thead>\n",
       "    <tr style=\"text-align: right;\">\n",
       "      <th></th>\n",
       "      <th>기존_고객수</th>\n",
       "      <th>새로운_고객수</th>\n",
       "      <th>증가수</th>\n",
       "      <th>기존_객단가</th>\n",
       "      <th>새로운_객단가</th>\n",
       "      <th>예상_고객수</th>\n",
       "      <th>등급별_예상_매출액</th>\n",
       "      <th>고객수_증가(예상-새로운)</th>\n",
       "    </tr>\n",
       "    <tr>\n",
       "      <th>customer_grade</th>\n",
       "      <th></th>\n",
       "      <th></th>\n",
       "      <th></th>\n",
       "      <th></th>\n",
       "      <th></th>\n",
       "      <th></th>\n",
       "      <th></th>\n",
       "      <th></th>\n",
       "    </tr>\n",
       "  </thead>\n",
       "  <tbody>\n",
       "    <tr>\n",
       "      <th>1Royal</th>\n",
       "      <td>89</td>\n",
       "      <td>83</td>\n",
       "      <td>-6</td>\n",
       "      <td>1946676.404</td>\n",
       "      <td>2295271.012</td>\n",
       "      <td>107.9</td>\n",
       "      <td>2.476597e+08</td>\n",
       "      <td>24.9</td>\n",
       "    </tr>\n",
       "    <tr>\n",
       "      <th>2Platinum</th>\n",
       "      <td>713</td>\n",
       "      <td>310</td>\n",
       "      <td>-403</td>\n",
       "      <td>408732.568</td>\n",
       "      <td>657391.684</td>\n",
       "      <td>403.0</td>\n",
       "      <td>2.649288e+08</td>\n",
       "      <td>93.0</td>\n",
       "    </tr>\n",
       "    <tr>\n",
       "      <th>3Gold</th>\n",
       "      <td>1318</td>\n",
       "      <td>707</td>\n",
       "      <td>-611</td>\n",
       "      <td>158577.678</td>\n",
       "      <td>326612.883</td>\n",
       "      <td>919.1</td>\n",
       "      <td>3.001899e+08</td>\n",
       "      <td>212.1</td>\n",
       "    </tr>\n",
       "    <tr>\n",
       "      <th>4Silver</th>\n",
       "      <td>241</td>\n",
       "      <td>1261</td>\n",
       "      <td>1020</td>\n",
       "      <td>39780.270</td>\n",
       "      <td>46041.810</td>\n",
       "      <td>1639.3</td>\n",
       "      <td>7.547634e+07</td>\n",
       "      <td>378.3</td>\n",
       "    </tr>\n",
       "  </tbody>\n",
       "</table>\n",
       "</div>"
      ],
      "text/plain": [
       "                기존_고객수  새로운_고객수   증가수       기존_객단가      새로운_객단가  예상_고객수  \\\n",
       "customer_grade                                                            \n",
       "1Royal              89       83    -6  1946676.404  2295271.012   107.9   \n",
       "2Platinum          713      310  -403   408732.568   657391.684   403.0   \n",
       "3Gold             1318      707  -611   158577.678   326612.883   919.1   \n",
       "4Silver            241     1261  1020    39780.270    46041.810  1639.3   \n",
       "\n",
       "                  등급별_예상_매출액  고객수_증가(예상-새로운)  \n",
       "customer_grade                                \n",
       "1Royal          2.476597e+08            24.9  \n",
       "2Platinum       2.649288e+08            93.0  \n",
       "3Gold           3.001899e+08           212.1  \n",
       "4Silver         7.547634e+07           378.3  "
      ]
     },
     "execution_count": 465,
     "metadata": {},
     "output_type": "execute_result"
    }
   ],
   "source": [
    "final_table['예상_고객수'] = (1.3 * final_table['새로운_고객수'])\n",
    "final_table['고객수_증가(예상-새로운)'] = 0.3 * final_table['새로운_고객수']\n",
    "final_table['등급별_예상_매출액'] = 1.3 * (final_table['새로운_고객수'] * final_table['새로운_객단가'])\n",
    "final_table"
   ]
  },
  {
   "cell_type": "code",
   "execution_count": 467,
   "metadata": {},
   "outputs": [
    {
     "data": {
      "text/plain": [
       "888254829.2982"
      ]
     },
     "execution_count": 467,
     "metadata": {},
     "output_type": "execute_result"
    }
   ],
   "source": [
    "(1.3 * final_table['기존_고객수'] * final_table['기존_객단가']).sum()"
   ]
  },
  {
   "cell_type": "code",
   "execution_count": 466,
   "metadata": {},
   "outputs": [
    {
     "name": "stdout",
     "output_type": "stream",
     "text": [
      "예상 매출액 888254830.7451\n"
     ]
    }
   ],
   "source": [
    "print('예상 매출액', (1.3 * final_table['새로운_고객수'] * final_table['새로운_객단가']).sum())"
   ]
  },
  {
   "cell_type": "code",
   "execution_count": null,
   "metadata": {},
   "outputs": [],
   "source": [
    "data_2019_final = pd.concat([grade_data_2019_revised2, temp])\n",
    "data_2019_final.fillna(0, inplace = True)\n",
    "data_2019_final.rename(index = {0:'Re_grade_Sum'}, inplace = True)\n",
    "data_2019_final\n",
    "\n",
    "# temp = pd.DataFrame(grade_data_2019_revised2.sum(axis = 0)).T\n",
    "# temp"
   ]
  },
  {
   "cell_type": "code",
   "execution_count": null,
   "metadata": {},
   "outputs": [],
   "source": []
  },
  {
   "cell_type": "code",
   "execution_count": null,
   "metadata": {},
   "outputs": [],
   "source": []
  },
  {
   "cell_type": "code",
   "execution_count": null,
   "metadata": {},
   "outputs": [],
   "source": []
  },
  {
   "cell_type": "code",
   "execution_count": 200,
   "metadata": {},
   "outputs": [
    {
     "data": {
      "text/html": [
       "<div>\n",
       "<style scoped>\n",
       "    .dataframe tbody tr th:only-of-type {\n",
       "        vertical-align: middle;\n",
       "    }\n",
       "\n",
       "    .dataframe tbody tr th {\n",
       "        vertical-align: top;\n",
       "    }\n",
       "\n",
       "    .dataframe thead tr th {\n",
       "        text-align: left;\n",
       "    }\n",
       "\n",
       "    .dataframe thead tr:last-of-type th {\n",
       "        text-align: right;\n",
       "    }\n",
       "</style>\n",
       "<table border=\"1\" class=\"dataframe\">\n",
       "  <thead>\n",
       "    <tr>\n",
       "      <th></th>\n",
       "      <th colspan=\"3\" halign=\"left\">Recency</th>\n",
       "      <th colspan=\"3\" halign=\"left\">Frequency</th>\n",
       "      <th colspan=\"4\" halign=\"left\">Monetary</th>\n",
       "    </tr>\n",
       "    <tr>\n",
       "      <th></th>\n",
       "      <th>mean</th>\n",
       "      <th>min</th>\n",
       "      <th>max</th>\n",
       "      <th>mean</th>\n",
       "      <th>min</th>\n",
       "      <th>max</th>\n",
       "      <th>mean</th>\n",
       "      <th>min</th>\n",
       "      <th>max</th>\n",
       "      <th>sum</th>\n",
       "    </tr>\n",
       "    <tr>\n",
       "      <th>Re_grade</th>\n",
       "      <th></th>\n",
       "      <th></th>\n",
       "      <th></th>\n",
       "      <th></th>\n",
       "      <th></th>\n",
       "      <th></th>\n",
       "      <th></th>\n",
       "      <th></th>\n",
       "      <th></th>\n",
       "      <th></th>\n",
       "    </tr>\n",
       "  </thead>\n",
       "  <tbody>\n",
       "    <tr>\n",
       "      <th>1Royal</th>\n",
       "      <td>2.518</td>\n",
       "      <td>0</td>\n",
       "      <td>21</td>\n",
       "      <td>93.349</td>\n",
       "      <td>61</td>\n",
       "      <td>289</td>\n",
       "      <td>2295271.012</td>\n",
       "      <td>595783</td>\n",
       "      <td>25144440</td>\n",
       "      <td>190507494</td>\n",
       "    </tr>\n",
       "    <tr>\n",
       "      <th>2Platinum</th>\n",
       "      <td>3.006</td>\n",
       "      <td>0</td>\n",
       "      <td>8</td>\n",
       "      <td>29.858</td>\n",
       "      <td>6</td>\n",
       "      <td>67</td>\n",
       "      <td>657391.684</td>\n",
       "      <td>112150</td>\n",
       "      <td>3058050</td>\n",
       "      <td>203791422</td>\n",
       "    </tr>\n",
       "    <tr>\n",
       "      <th>3Gold</th>\n",
       "      <td>30.741</td>\n",
       "      <td>0</td>\n",
       "      <td>285</td>\n",
       "      <td>16.208</td>\n",
       "      <td>1</td>\n",
       "      <td>99</td>\n",
       "      <td>326612.883</td>\n",
       "      <td>1600</td>\n",
       "      <td>2744330</td>\n",
       "      <td>230915308</td>\n",
       "    </tr>\n",
       "    <tr>\n",
       "      <th>4Silver</th>\n",
       "      <td>134.711</td>\n",
       "      <td>9</td>\n",
       "      <td>363</td>\n",
       "      <td>2.733</td>\n",
       "      <td>1</td>\n",
       "      <td>12</td>\n",
       "      <td>46041.810</td>\n",
       "      <td>1000</td>\n",
       "      <td>756700</td>\n",
       "      <td>58058722</td>\n",
       "    </tr>\n",
       "  </tbody>\n",
       "</table>\n",
       "</div>"
      ],
      "text/plain": [
       "           Recency          Frequency              Monetary                    \\\n",
       "              mean min  max      mean min  max         mean     min       max   \n",
       "Re_grade                                                                        \n",
       "1Royal       2.518   0   21    93.349  61  289  2295271.012  595783  25144440   \n",
       "2Platinum    3.006   0    8    29.858   6   67   657391.684  112150   3058050   \n",
       "3Gold       30.741   0  285    16.208   1   99   326612.883    1600   2744330   \n",
       "4Silver    134.711   9  363     2.733   1   12    46041.810    1000    756700   \n",
       "\n",
       "                      \n",
       "                 sum  \n",
       "Re_grade              \n",
       "1Royal     190507494  \n",
       "2Platinum  203791422  \n",
       "3Gold      230915308  \n",
       "4Silver     58058722  "
      ]
     },
     "execution_count": 200,
     "metadata": {},
     "output_type": "execute_result"
    }
   ],
   "source": [
    "re_graded.groupby('Re_grade').agg({'Recency' : ['mean','min','max'], 'Frequency' : ['mean','min','max'], 'Monetary':['mean','min','max','sum']}).round(3)"
   ]
  },
  {
   "cell_type": "code",
   "execution_count": 197,
   "metadata": {},
   "outputs": [
    {
     "data": {
      "text/plain": [
       "683272945.6140002"
      ]
     },
     "execution_count": 197,
     "metadata": {},
     "output_type": "execute_result"
    }
   ],
   "source": [
    "(final_table['기존_고객수'] * final_table['기존_객단가']).sum(0)"
   ]
  },
  {
   "cell_type": "code",
   "execution_count": 198,
   "metadata": {},
   "outputs": [
    {
     "data": {
      "text/plain": [
       "683272946.727"
      ]
     },
     "execution_count": 198,
     "metadata": {},
     "output_type": "execute_result"
    }
   ],
   "source": [
    "(final_table['새로운_고객수'] * final_table['새로운_객단가']).sum()"
   ]
  },
  {
   "cell_type": "code",
   "execution_count": null,
   "metadata": {},
   "outputs": [],
   "source": [
    "# re_graded[re_graded['customer_id'] == 'C541748']"
   ]
  },
  {
   "cell_type": "code",
   "execution_count": null,
   "metadata": {},
   "outputs": [],
   "source": [
    "re_graded.groupby('Re_grade').agg({'Recency' : ['mean','min','max'], 'Frequency' : ['mean','min','max'], 'Monetary':['mean','min','max','sum']}).round(3)"
   ]
  },
  {
   "cell_type": "code",
   "execution_count": 37,
   "metadata": {},
   "outputs": [
    {
     "data": {
      "text/html": [
       "<div>\n",
       "<style scoped>\n",
       "    .dataframe tbody tr th:only-of-type {\n",
       "        vertical-align: middle;\n",
       "    }\n",
       "\n",
       "    .dataframe tbody tr th {\n",
       "        vertical-align: top;\n",
       "    }\n",
       "\n",
       "    .dataframe thead th {\n",
       "        text-align: right;\n",
       "    }\n",
       "</style>\n",
       "<table border=\"1\" class=\"dataframe\">\n",
       "  <thead>\n",
       "    <tr style=\"text-align: right;\">\n",
       "      <th></th>\n",
       "      <th>Monetary</th>\n",
       "    </tr>\n",
       "    <tr>\n",
       "      <th>Re_grade</th>\n",
       "      <th></th>\n",
       "    </tr>\n",
       "  </thead>\n",
       "  <tbody>\n",
       "    <tr>\n",
       "      <th>1Royal</th>\n",
       "      <td>507737811</td>\n",
       "    </tr>\n",
       "    <tr>\n",
       "      <th>2Platinum</th>\n",
       "      <td>137010868</td>\n",
       "    </tr>\n",
       "    <tr>\n",
       "      <th>3Gold</th>\n",
       "      <td>20242627</td>\n",
       "    </tr>\n",
       "    <tr>\n",
       "      <th>4Silver</th>\n",
       "      <td>18281640</td>\n",
       "    </tr>\n",
       "  </tbody>\n",
       "</table>\n",
       "</div>"
      ],
      "text/plain": [
       "            Monetary\n",
       "Re_grade            \n",
       "1Royal     507737811\n",
       "2Platinum  137010868\n",
       "3Gold       20242627\n",
       "4Silver     18281640"
      ]
     },
     "execution_count": 37,
     "metadata": {},
     "output_type": "execute_result"
    }
   ],
   "source": [
    "re_graded2 = re_graded.groupby('Re_grade').agg({'Monetary':'sum'}).round(3)\n",
    "re_graded2"
   ]
  },
  {
   "cell_type": "code",
   "execution_count": 38,
   "metadata": {},
   "outputs": [
    {
     "data": {
      "text/html": [
       "<div>\n",
       "<style scoped>\n",
       "    .dataframe tbody tr th:only-of-type {\n",
       "        vertical-align: middle;\n",
       "    }\n",
       "\n",
       "    .dataframe tbody tr th {\n",
       "        vertical-align: top;\n",
       "    }\n",
       "\n",
       "    .dataframe thead th {\n",
       "        text-align: right;\n",
       "    }\n",
       "</style>\n",
       "<table border=\"1\" class=\"dataframe\">\n",
       "  <thead>\n",
       "    <tr style=\"text-align: right;\">\n",
       "      <th></th>\n",
       "      <th>customer_id</th>\n",
       "    </tr>\n",
       "    <tr>\n",
       "      <th>Re_grade</th>\n",
       "      <th></th>\n",
       "    </tr>\n",
       "  </thead>\n",
       "  <tbody>\n",
       "    <tr>\n",
       "      <th>1Royal</th>\n",
       "      <td>505</td>\n",
       "    </tr>\n",
       "    <tr>\n",
       "      <th>2Platinum</th>\n",
       "      <td>723</td>\n",
       "    </tr>\n",
       "    <tr>\n",
       "      <th>3Gold</th>\n",
       "      <td>572</td>\n",
       "    </tr>\n",
       "    <tr>\n",
       "      <th>4Silver</th>\n",
       "      <td>561</td>\n",
       "    </tr>\n",
       "  </tbody>\n",
       "</table>\n",
       "</div>"
      ],
      "text/plain": [
       "           customer_id\n",
       "Re_grade              \n",
       "1Royal             505\n",
       "2Platinum          723\n",
       "3Gold              572\n",
       "4Silver            561"
      ]
     },
     "execution_count": 38,
     "metadata": {},
     "output_type": "execute_result"
    }
   ],
   "source": [
    "re_graded1 = re_graded.groupby('Re_grade').agg({'customer_id':'count'})\n",
    "re_graded1"
   ]
  },
  {
   "cell_type": "code",
   "execution_count": 39,
   "metadata": {},
   "outputs": [
    {
     "data": {
      "text/html": [
       "<div>\n",
       "<style scoped>\n",
       "    .dataframe tbody tr th:only-of-type {\n",
       "        vertical-align: middle;\n",
       "    }\n",
       "\n",
       "    .dataframe tbody tr th {\n",
       "        vertical-align: top;\n",
       "    }\n",
       "\n",
       "    .dataframe thead th {\n",
       "        text-align: right;\n",
       "    }\n",
       "</style>\n",
       "<table border=\"1\" class=\"dataframe\">\n",
       "  <thead>\n",
       "    <tr style=\"text-align: right;\">\n",
       "      <th></th>\n",
       "      <th>Monetary</th>\n",
       "      <th>customer_transaction</th>\n",
       "    </tr>\n",
       "    <tr>\n",
       "      <th>Re_grade</th>\n",
       "      <th></th>\n",
       "      <th></th>\n",
       "    </tr>\n",
       "  </thead>\n",
       "  <tbody>\n",
       "    <tr>\n",
       "      <th>1Royal</th>\n",
       "      <td>507737811</td>\n",
       "      <td>1005421.408</td>\n",
       "    </tr>\n",
       "    <tr>\n",
       "      <th>2Platinum</th>\n",
       "      <td>137010868</td>\n",
       "      <td>189503.275</td>\n",
       "    </tr>\n",
       "    <tr>\n",
       "      <th>3Gold</th>\n",
       "      <td>20242627</td>\n",
       "      <td>35389.208</td>\n",
       "    </tr>\n",
       "    <tr>\n",
       "      <th>4Silver</th>\n",
       "      <td>18281640</td>\n",
       "      <td>32587.594</td>\n",
       "    </tr>\n",
       "  </tbody>\n",
       "</table>\n",
       "</div>"
      ],
      "text/plain": [
       "            Monetary  customer_transaction\n",
       "Re_grade                                  \n",
       "1Royal     507737811           1005421.408\n",
       "2Platinum  137010868            189503.275\n",
       "3Gold       20242627             35389.208\n",
       "4Silver     18281640             32587.594"
      ]
     },
     "execution_count": 39,
     "metadata": {},
     "output_type": "execute_result"
    }
   ],
   "source": [
    "re_graded2['customer_transaction'] = (re_graded2['Monetary'] / re_graded1['customer_id']).round(3)\n",
    "re_graded2"
   ]
  },
  {
   "cell_type": "markdown",
   "metadata": {},
   "source": [
    "## 새로운거 객단가 (2년치)"
   ]
  },
  {
   "cell_type": "code",
   "execution_count": 41,
   "metadata": {},
   "outputs": [
    {
     "data": {
      "text/html": [
       "<div>\n",
       "<style scoped>\n",
       "    .dataframe tbody tr th:only-of-type {\n",
       "        vertical-align: middle;\n",
       "    }\n",
       "\n",
       "    .dataframe tbody tr th {\n",
       "        vertical-align: top;\n",
       "    }\n",
       "\n",
       "    .dataframe thead th {\n",
       "        text-align: right;\n",
       "    }\n",
       "</style>\n",
       "<table border=\"1\" class=\"dataframe\">\n",
       "  <thead>\n",
       "    <tr style=\"text-align: right;\">\n",
       "      <th></th>\n",
       "      <th>purchase_amt</th>\n",
       "    </tr>\n",
       "    <tr>\n",
       "      <th>customer_grade</th>\n",
       "      <th></th>\n",
       "    </tr>\n",
       "  </thead>\n",
       "  <tbody>\n",
       "    <tr>\n",
       "      <th>1Royal</th>\n",
       "      <td>173254200</td>\n",
       "    </tr>\n",
       "    <tr>\n",
       "      <th>2Platinum</th>\n",
       "      <td>291426321</td>\n",
       "    </tr>\n",
       "    <tr>\n",
       "      <th>3Gold</th>\n",
       "      <td>209005380</td>\n",
       "    </tr>\n",
       "    <tr>\n",
       "      <th>4Silver</th>\n",
       "      <td>9587045</td>\n",
       "    </tr>\n",
       "  </tbody>\n",
       "</table>\n",
       "</div>"
      ],
      "text/plain": [
       "                purchase_amt\n",
       "customer_grade              \n",
       "1Royal             173254200\n",
       "2Platinum          291426321\n",
       "3Gold              209005380\n",
       "4Silver              9587045"
      ]
     },
     "execution_count": 41,
     "metadata": {},
     "output_type": "execute_result"
    }
   ],
   "source": [
    "jeju_ahn_2019.groupby('customer_grade').agg({'purchase_amt':'sum'})"
   ]
  },
  {
   "cell_type": "code",
   "execution_count": 43,
   "metadata": {},
   "outputs": [
    {
     "data": {
      "text/html": [
       "<div>\n",
       "<style scoped>\n",
       "    .dataframe tbody tr th:only-of-type {\n",
       "        vertical-align: middle;\n",
       "    }\n",
       "\n",
       "    .dataframe tbody tr th {\n",
       "        vertical-align: top;\n",
       "    }\n",
       "\n",
       "    .dataframe thead th {\n",
       "        text-align: right;\n",
       "    }\n",
       "</style>\n",
       "<table border=\"1\" class=\"dataframe\">\n",
       "  <thead>\n",
       "    <tr style=\"text-align: right;\">\n",
       "      <th></th>\n",
       "      <th>customer_id</th>\n",
       "      <th>purchase_amt</th>\n",
       "      <th>customer_transcation</th>\n",
       "    </tr>\n",
       "    <tr>\n",
       "      <th>customer_grade</th>\n",
       "      <th></th>\n",
       "      <th></th>\n",
       "      <th></th>\n",
       "    </tr>\n",
       "  </thead>\n",
       "  <tbody>\n",
       "    <tr>\n",
       "      <th>1Royal</th>\n",
       "      <td>89</td>\n",
       "      <td>173254200</td>\n",
       "      <td>1946676.404</td>\n",
       "    </tr>\n",
       "    <tr>\n",
       "      <th>2Platinum</th>\n",
       "      <td>713</td>\n",
       "      <td>291426321</td>\n",
       "      <td>408732.568</td>\n",
       "    </tr>\n",
       "    <tr>\n",
       "      <th>3Gold</th>\n",
       "      <td>1318</td>\n",
       "      <td>209005380</td>\n",
       "      <td>158577.678</td>\n",
       "    </tr>\n",
       "    <tr>\n",
       "      <th>4Silver</th>\n",
       "      <td>241</td>\n",
       "      <td>9587045</td>\n",
       "      <td>39780.270</td>\n",
       "    </tr>\n",
       "  </tbody>\n",
       "</table>\n",
       "</div>"
      ],
      "text/plain": [
       "                customer_id  purchase_amt  customer_transcation\n",
       "customer_grade                                                 \n",
       "1Royal                   89     173254200           1946676.404\n",
       "2Platinum               713     291426321            408732.568\n",
       "3Gold                  1318     209005380            158577.678\n",
       "4Silver                 241       9587045             39780.270"
      ]
     },
     "execution_count": 43,
     "metadata": {},
     "output_type": "execute_result"
    }
   ],
   "source": [
    "original1 =jeju_ahn_2019.groupby(['customer_id', 'customer_grade']).agg({'purchase_amt':'sum'})\n",
    "original1 = original1.reset_index(inplace = False)\n",
    "original1 = original1.groupby('customer_grade').agg({'customer_id':'count','purchase_amt':'sum'})\n",
    "\n",
    "original1['customer_transcation'] = (original1['purchase_amt'] / original1['customer_id']).round(3) \n",
    "original1"
   ]
  },
  {
   "cell_type": "code",
   "execution_count": 44,
   "metadata": {},
   "outputs": [
    {
     "data": {
      "text/html": [
       "<div>\n",
       "<style scoped>\n",
       "    .dataframe tbody tr th:only-of-type {\n",
       "        vertical-align: middle;\n",
       "    }\n",
       "\n",
       "    .dataframe tbody tr th {\n",
       "        vertical-align: top;\n",
       "    }\n",
       "\n",
       "    .dataframe thead th {\n",
       "        text-align: right;\n",
       "    }\n",
       "</style>\n",
       "<table border=\"1\" class=\"dataframe\">\n",
       "  <thead>\n",
       "    <tr style=\"text-align: right;\">\n",
       "      <th></th>\n",
       "      <th>customer_transaction</th>\n",
       "      <th>new_customer_id</th>\n",
       "      <th>original_customer_id</th>\n",
       "      <th>original_customer_transaction</th>\n",
       "    </tr>\n",
       "    <tr>\n",
       "      <th>Re_grade</th>\n",
       "      <th></th>\n",
       "      <th></th>\n",
       "      <th></th>\n",
       "      <th></th>\n",
       "    </tr>\n",
       "  </thead>\n",
       "  <tbody>\n",
       "    <tr>\n",
       "      <th>1Royal</th>\n",
       "      <td>1005421.408</td>\n",
       "      <td>505</td>\n",
       "      <td>89</td>\n",
       "      <td>1946676.404</td>\n",
       "    </tr>\n",
       "    <tr>\n",
       "      <th>2Platinum</th>\n",
       "      <td>189503.275</td>\n",
       "      <td>723</td>\n",
       "      <td>713</td>\n",
       "      <td>408732.568</td>\n",
       "    </tr>\n",
       "    <tr>\n",
       "      <th>3Gold</th>\n",
       "      <td>35389.208</td>\n",
       "      <td>572</td>\n",
       "      <td>1318</td>\n",
       "      <td>158577.678</td>\n",
       "    </tr>\n",
       "    <tr>\n",
       "      <th>4Silver</th>\n",
       "      <td>32587.594</td>\n",
       "      <td>561</td>\n",
       "      <td>241</td>\n",
       "      <td>39780.270</td>\n",
       "    </tr>\n",
       "  </tbody>\n",
       "</table>\n",
       "</div>"
      ],
      "text/plain": [
       "           customer_transaction  new_customer_id  original_customer_id  \\\n",
       "Re_grade                                                                 \n",
       "1Royal              1005421.408              505                    89   \n",
       "2Platinum            189503.275              723                   713   \n",
       "3Gold                 35389.208              572                  1318   \n",
       "4Silver               32587.594              561                   241   \n",
       "\n",
       "           original_customer_transaction  \n",
       "Re_grade                                  \n",
       "1Royal                       1946676.404  \n",
       "2Platinum                     408732.568  \n",
       "3Gold                         158577.678  \n",
       "4Silver                        39780.270  "
      ]
     },
     "execution_count": 44,
     "metadata": {},
     "output_type": "execute_result"
    }
   ],
   "source": [
    "re_graded2['new_customer_id'] = re_graded1['customer_id']\n",
    "re_graded2['original_customer_id'] = original1['customer_id']\n",
    "re_graded2['original_customer_transaction'] = original1['customer_transcation']\n",
    "re_graded2.drop('Monetary', axis = 1)"
   ]
  },
  {
   "cell_type": "code",
   "execution_count": 47,
   "metadata": {},
   "outputs": [
    {
     "data": {
      "text/html": [
       "<div>\n",
       "<style scoped>\n",
       "    .dataframe tbody tr th:only-of-type {\n",
       "        vertical-align: middle;\n",
       "    }\n",
       "\n",
       "    .dataframe tbody tr th {\n",
       "        vertical-align: top;\n",
       "    }\n",
       "\n",
       "    .dataframe thead th {\n",
       "        text-align: right;\n",
       "    }\n",
       "</style>\n",
       "<table border=\"1\" class=\"dataframe\">\n",
       "  <thead>\n",
       "    <tr style=\"text-align: right;\">\n",
       "      <th></th>\n",
       "      <th>기존_고객수</th>\n",
       "      <th>새로운_고객수</th>\n",
       "      <th>증가수</th>\n",
       "      <th>기존_객단가</th>\n",
       "      <th>새로운_객단가</th>\n",
       "    </tr>\n",
       "    <tr>\n",
       "      <th>customer_grade</th>\n",
       "      <th></th>\n",
       "      <th></th>\n",
       "      <th></th>\n",
       "      <th></th>\n",
       "      <th></th>\n",
       "    </tr>\n",
       "  </thead>\n",
       "  <tbody>\n",
       "    <tr>\n",
       "      <th>1Royal</th>\n",
       "      <td>89</td>\n",
       "      <td>505</td>\n",
       "      <td>416</td>\n",
       "      <td>1946676.404</td>\n",
       "      <td>1005421.408</td>\n",
       "    </tr>\n",
       "    <tr>\n",
       "      <th>2Platinum</th>\n",
       "      <td>713</td>\n",
       "      <td>723</td>\n",
       "      <td>10</td>\n",
       "      <td>408732.568</td>\n",
       "      <td>189503.275</td>\n",
       "    </tr>\n",
       "    <tr>\n",
       "      <th>3Gold</th>\n",
       "      <td>1318</td>\n",
       "      <td>572</td>\n",
       "      <td>-746</td>\n",
       "      <td>158577.678</td>\n",
       "      <td>35389.208</td>\n",
       "    </tr>\n",
       "    <tr>\n",
       "      <th>4Silver</th>\n",
       "      <td>241</td>\n",
       "      <td>561</td>\n",
       "      <td>320</td>\n",
       "      <td>39780.270</td>\n",
       "      <td>32587.594</td>\n",
       "    </tr>\n",
       "  </tbody>\n",
       "</table>\n",
       "</div>"
      ],
      "text/plain": [
       "                기존_고객수  새로운_고객수  증가수       기존_객단가      새로운_객단가\n",
       "customer_grade                                                \n",
       "1Royal              89      505  416  1946676.404  1005421.408\n",
       "2Platinum          713      723   10   408732.568   189503.275\n",
       "3Gold             1318      572 -746   158577.678    35389.208\n",
       "4Silver            241      561  320    39780.270    32587.594"
      ]
     },
     "execution_count": 47,
     "metadata": {},
     "output_type": "execute_result"
    }
   ],
   "source": [
    "final_table = pd.DataFrame()\n",
    "final_table['기존_고객수'] = original1['customer_id']\n",
    "final_table['새로운_고객수'] = re_graded1['customer_id']\n",
    "final_table['증가수'] = final_table['새로운_고객수'] - final_table['기존_고객수']\n",
    "final_table['기존_객단가'] = original1['customer_transcation']\n",
    "final_table['새로운_객단가'] = re_graded2['customer_transaction']\n",
    "final_table"
   ]
  },
  {
   "cell_type": "code",
   "execution_count": 229,
   "metadata": {},
   "outputs": [],
   "source": [
    "revised_2019 = jeju_ahn_2019[['customer_id', 'purchase_id', 'store_id','purchase_yearmonth','purchase_hour','item_g_m','purchase_amt']]"
   ]
  },
  {
   "cell_type": "code",
   "execution_count": 303,
   "metadata": {},
   "outputs": [
    {
     "data": {
      "text/plain": [
       "True"
      ]
     },
     "execution_count": 303,
     "metadata": {},
     "output_type": "execute_result"
    }
   ],
   "source": [
    "test = 'C118291'\n",
    "'2Platinum' in re_graded[re_graded['customer_id'] == str(test)]['Re_grade'].values\n"
   ]
  },
  {
   "cell_type": "code",
   "execution_count": 306,
   "metadata": {},
   "outputs": [
    {
     "name": "stderr",
     "output_type": "stream",
     "text": [
      "<ipython-input-306-682df508d178>:11: SettingWithCopyWarning: \n",
      "A value is trying to be set on a copy of a slice from a DataFrame.\n",
      "Try using .loc[row_indexer,col_indexer] = value instead\n",
      "\n",
      "See the caveats in the documentation: https://pandas.pydata.org/pandas-docs/stable/user_guide/indexing.html#returning-a-view-versus-a-copy\n",
      "  revised_2019['Re_grade'] = revised_2019['customer_id'].apply(grade_input)\n"
     ]
    }
   ],
   "source": [
    "def grade_input(val):\n",
    "    prove = re_graded[re_graded['customer_id'] == str(val)]['Re_grade'].values\n",
    "    if '1Royal' in prove:\n",
    "        return '1Royal'\n",
    "    elif '2Platinum' in prove:\n",
    "        return '2Platinum'\n",
    "    elif '3Gold' in prove:\n",
    "        return '3Gold'\n",
    "    elif '4Silver' in prove:\n",
    "        return '4Silver'\n",
    "revised_2019['Re_grade'] = revised_2019['customer_id'].apply(grade_input)\n",
    "revised_2019_1 = revised_2019[revised_2019['Re_grade'] == '1Royal']\n",
    "revised_2019_2 = revised_2019[revised_2019['Re_grade'] == '2Platinum']\n",
    "revised_2019_3 = revised_2019[revised_2019['Re_grade'] == '3Gold']\n",
    "revised_2019_4 = revised_2019[revised_2019['Re_grade'] == '4Silver']"
   ]
  },
  {
   "cell_type": "code",
   "execution_count": 310,
   "metadata": {},
   "outputs": [
    {
     "data": {
      "text/html": [
       "<div>\n",
       "<style scoped>\n",
       "    .dataframe tbody tr th:only-of-type {\n",
       "        vertical-align: middle;\n",
       "    }\n",
       "\n",
       "    .dataframe tbody tr th {\n",
       "        vertical-align: top;\n",
       "    }\n",
       "\n",
       "    .dataframe thead th {\n",
       "        text-align: right;\n",
       "    }\n",
       "</style>\n",
       "<table border=\"1\" class=\"dataframe\">\n",
       "  <thead>\n",
       "    <tr style=\"text-align: right;\">\n",
       "      <th></th>\n",
       "      <th>customer_id</th>\n",
       "      <th>purchase_id</th>\n",
       "      <th>store_id</th>\n",
       "      <th>purchase_yearmonth</th>\n",
       "      <th>purchase_hour</th>\n",
       "      <th>item_g_m</th>\n",
       "      <th>purchase_amt</th>\n",
       "      <th>Re_grade</th>\n",
       "    </tr>\n",
       "  </thead>\n",
       "  <tbody>\n",
       "    <tr>\n",
       "      <th>0</th>\n",
       "      <td>C118291</td>\n",
       "      <td>C118291_20190128_57</td>\n",
       "      <td>제주매장</td>\n",
       "      <td>2019M01</td>\n",
       "      <td>14</td>\n",
       "      <td>버섯</td>\n",
       "      <td>600</td>\n",
       "      <td>2Platinum</td>\n",
       "    </tr>\n",
       "    <tr>\n",
       "      <th>1</th>\n",
       "      <td>C118291</td>\n",
       "      <td>C118291_20190128_57</td>\n",
       "      <td>제주매장</td>\n",
       "      <td>2019M01</td>\n",
       "      <td>14</td>\n",
       "      <td>과자</td>\n",
       "      <td>6600</td>\n",
       "      <td>2Platinum</td>\n",
       "    </tr>\n",
       "    <tr>\n",
       "      <th>2</th>\n",
       "      <td>C118291</td>\n",
       "      <td>C118291_20190128_57</td>\n",
       "      <td>제주매장</td>\n",
       "      <td>2019M01</td>\n",
       "      <td>14</td>\n",
       "      <td>한우</td>\n",
       "      <td>13900</td>\n",
       "      <td>2Platinum</td>\n",
       "    </tr>\n",
       "    <tr>\n",
       "      <th>3</th>\n",
       "      <td>C118291</td>\n",
       "      <td>C118291_20190128_57</td>\n",
       "      <td>제주매장</td>\n",
       "      <td>2019M01</td>\n",
       "      <td>14</td>\n",
       "      <td>버섯</td>\n",
       "      <td>3300</td>\n",
       "      <td>2Platinum</td>\n",
       "    </tr>\n",
       "    <tr>\n",
       "      <th>4</th>\n",
       "      <td>C118291</td>\n",
       "      <td>C118291_20190128_57</td>\n",
       "      <td>제주매장</td>\n",
       "      <td>2019M01</td>\n",
       "      <td>14</td>\n",
       "      <td>김치</td>\n",
       "      <td>10900</td>\n",
       "      <td>2Platinum</td>\n",
       "    </tr>\n",
       "    <tr>\n",
       "      <th>5</th>\n",
       "      <td>C118291</td>\n",
       "      <td>C118291_20190223_109</td>\n",
       "      <td>제주매장</td>\n",
       "      <td>2019M02</td>\n",
       "      <td>17</td>\n",
       "      <td>밀가공</td>\n",
       "      <td>5400</td>\n",
       "      <td>2Platinum</td>\n",
       "    </tr>\n",
       "    <tr>\n",
       "      <th>6</th>\n",
       "      <td>C118291</td>\n",
       "      <td>C118291_20190223_109</td>\n",
       "      <td>제주매장</td>\n",
       "      <td>2019M02</td>\n",
       "      <td>17</td>\n",
       "      <td>한우</td>\n",
       "      <td>13900</td>\n",
       "      <td>2Platinum</td>\n",
       "    </tr>\n",
       "    <tr>\n",
       "      <th>7</th>\n",
       "      <td>C118291</td>\n",
       "      <td>C118291_20190410_106</td>\n",
       "      <td>제주매장</td>\n",
       "      <td>2019M04</td>\n",
       "      <td>16</td>\n",
       "      <td>과자</td>\n",
       "      <td>21000</td>\n",
       "      <td>2Platinum</td>\n",
       "    </tr>\n",
       "    <tr>\n",
       "      <th>8</th>\n",
       "      <td>C118291</td>\n",
       "      <td>C118291_20190410_106</td>\n",
       "      <td>제주매장</td>\n",
       "      <td>2019M04</td>\n",
       "      <td>16</td>\n",
       "      <td>과자</td>\n",
       "      <td>2600</td>\n",
       "      <td>2Platinum</td>\n",
       "    </tr>\n",
       "    <tr>\n",
       "      <th>9</th>\n",
       "      <td>C118291</td>\n",
       "      <td>C118291_20190410_106</td>\n",
       "      <td>제주매장</td>\n",
       "      <td>2019M04</td>\n",
       "      <td>16</td>\n",
       "      <td>과자</td>\n",
       "      <td>1300</td>\n",
       "      <td>2Platinum</td>\n",
       "    </tr>\n",
       "  </tbody>\n",
       "</table>\n",
       "</div>"
      ],
      "text/plain": [
       "  customer_id           purchase_id store_id purchase_yearmonth  \\\n",
       "0     C118291   C118291_20190128_57     제주매장            2019M01   \n",
       "1     C118291   C118291_20190128_57     제주매장            2019M01   \n",
       "2     C118291   C118291_20190128_57     제주매장            2019M01   \n",
       "3     C118291   C118291_20190128_57     제주매장            2019M01   \n",
       "4     C118291   C118291_20190128_57     제주매장            2019M01   \n",
       "5     C118291  C118291_20190223_109     제주매장            2019M02   \n",
       "6     C118291  C118291_20190223_109     제주매장            2019M02   \n",
       "7     C118291  C118291_20190410_106     제주매장            2019M04   \n",
       "8     C118291  C118291_20190410_106     제주매장            2019M04   \n",
       "9     C118291  C118291_20190410_106     제주매장            2019M04   \n",
       "\n",
       "   purchase_hour item_g_m  purchase_amt   Re_grade  \n",
       "0             14       버섯           600  2Platinum  \n",
       "1             14       과자          6600  2Platinum  \n",
       "2             14       한우         13900  2Platinum  \n",
       "3             14       버섯          3300  2Platinum  \n",
       "4             14       김치         10900  2Platinum  \n",
       "5             17      밀가공          5400  2Platinum  \n",
       "6             17       한우         13900  2Platinum  \n",
       "7             16       과자         21000  2Platinum  \n",
       "8             16       과자          2600  2Platinum  \n",
       "9             16       과자          1300  2Platinum  "
      ]
     },
     "execution_count": 310,
     "metadata": {},
     "output_type": "execute_result"
    }
   ],
   "source": [
    "revised_2019.head(10)"
   ]
  },
  {
   "cell_type": "code",
   "execution_count": null,
   "metadata": {},
   "outputs": [],
   "source": [
    "best_customer = revised_2019"
   ]
  },
  {
   "cell_type": "code",
   "execution_count": 404,
   "metadata": {},
   "outputs": [
    {
     "data": {
      "text/html": [
       "<div>\n",
       "<style scoped>\n",
       "    .dataframe tbody tr th:only-of-type {\n",
       "        vertical-align: middle;\n",
       "    }\n",
       "\n",
       "    .dataframe tbody tr th {\n",
       "        vertical-align: top;\n",
       "    }\n",
       "\n",
       "    .dataframe thead th {\n",
       "        text-align: right;\n",
       "    }\n",
       "</style>\n",
       "<table border=\"1\" class=\"dataframe\">\n",
       "  <thead>\n",
       "    <tr style=\"text-align: right;\">\n",
       "      <th></th>\n",
       "      <th>customer_id</th>\n",
       "      <th>Recency</th>\n",
       "      <th>Frequency</th>\n",
       "      <th>Monetary</th>\n",
       "      <th>R_score</th>\n",
       "      <th>F_score</th>\n",
       "      <th>M_score</th>\n",
       "      <th>Cluster</th>\n",
       "      <th>Re_grade</th>\n",
       "    </tr>\n",
       "  </thead>\n",
       "  <tbody>\n",
       "    <tr>\n",
       "      <th>1316</th>\n",
       "      <td>C541748</td>\n",
       "      <td>0</td>\n",
       "      <td>289</td>\n",
       "      <td>25144440</td>\n",
       "      <td>5</td>\n",
       "      <td>5</td>\n",
       "      <td>5</td>\n",
       "      <td>8</td>\n",
       "      <td>1Royal</td>\n",
       "    </tr>\n",
       "  </tbody>\n",
       "</table>\n",
       "</div>"
      ],
      "text/plain": [
       "     customer_id  Recency  Frequency  Monetary  R_score  F_score  M_score  \\\n",
       "1316     C541748        0        289  25144440        5        5        5   \n",
       "\n",
       "      Cluster Re_grade  \n",
       "1316        8   1Royal  "
      ]
     },
     "execution_count": 404,
     "metadata": {},
     "output_type": "execute_result"
    }
   ],
   "source": [
    "re_graded[re_graded['customer_id'] == 'C541748']"
   ]
  },
  {
   "cell_type": "code",
   "execution_count": 406,
   "metadata": {},
   "outputs": [
    {
     "data": {
      "text/html": [
       "<div>\n",
       "<style scoped>\n",
       "    .dataframe tbody tr th:only-of-type {\n",
       "        vertical-align: middle;\n",
       "    }\n",
       "\n",
       "    .dataframe tbody tr th {\n",
       "        vertical-align: top;\n",
       "    }\n",
       "\n",
       "    .dataframe thead th {\n",
       "        text-align: right;\n",
       "    }\n",
       "</style>\n",
       "<table border=\"1\" class=\"dataframe\">\n",
       "  <thead>\n",
       "    <tr style=\"text-align: right;\">\n",
       "      <th></th>\n",
       "      <th>customer_id</th>\n",
       "      <th>Recency</th>\n",
       "      <th>Frequency</th>\n",
       "      <th>Monetary</th>\n",
       "      <th>R_score</th>\n",
       "      <th>F_score</th>\n",
       "      <th>M_score</th>\n",
       "      <th>Cluster</th>\n",
       "      <th>Re_grade</th>\n",
       "    </tr>\n",
       "  </thead>\n",
       "  <tbody>\n",
       "    <tr>\n",
       "      <th>50</th>\n",
       "      <td>C134987</td>\n",
       "      <td>357</td>\n",
       "      <td>2</td>\n",
       "      <td>50700</td>\n",
       "      <td>1</td>\n",
       "      <td>1</td>\n",
       "      <td>2</td>\n",
       "      <td>5</td>\n",
       "      <td>4Silver</td>\n",
       "    </tr>\n",
       "  </tbody>\n",
       "</table>\n",
       "</div>"
      ],
      "text/plain": [
       "   customer_id  Recency  Frequency  Monetary  R_score  F_score  M_score  \\\n",
       "50     C134987      357          2     50700        1        1        2   \n",
       "\n",
       "    Cluster Re_grade  \n",
       "50        5  4Silver  "
      ]
     },
     "execution_count": 406,
     "metadata": {},
     "output_type": "execute_result"
    }
   ],
   "source": [
    "re_graded[re_graded['customer_id'] == 'C134987']"
   ]
  },
  {
   "cell_type": "code",
   "execution_count": 444,
   "metadata": {},
   "outputs": [
    {
     "data": {
      "text/html": [
       "<div>\n",
       "<style scoped>\n",
       "    .dataframe tbody tr th:only-of-type {\n",
       "        vertical-align: middle;\n",
       "    }\n",
       "\n",
       "    .dataframe tbody tr th {\n",
       "        vertical-align: top;\n",
       "    }\n",
       "\n",
       "    .dataframe thead th {\n",
       "        text-align: right;\n",
       "    }\n",
       "</style>\n",
       "<table border=\"1\" class=\"dataframe\">\n",
       "  <thead>\n",
       "    <tr style=\"text-align: right;\">\n",
       "      <th></th>\n",
       "      <th>purchase_date</th>\n",
       "    </tr>\n",
       "    <tr>\n",
       "      <th>customer_id</th>\n",
       "      <th></th>\n",
       "    </tr>\n",
       "  </thead>\n",
       "  <tbody>\n",
       "    <tr>\n",
       "      <th>C118291</th>\n",
       "      <td>19</td>\n",
       "    </tr>\n",
       "    <tr>\n",
       "      <th>C118294</th>\n",
       "      <td>11</td>\n",
       "    </tr>\n",
       "    <tr>\n",
       "      <th>C118295</th>\n",
       "      <td>2</td>\n",
       "    </tr>\n",
       "    <tr>\n",
       "      <th>C118298</th>\n",
       "      <td>37</td>\n",
       "    </tr>\n",
       "    <tr>\n",
       "      <th>C118299</th>\n",
       "      <td>1</td>\n",
       "    </tr>\n",
       "    <tr>\n",
       "      <th>...</th>\n",
       "      <td>...</td>\n",
       "    </tr>\n",
       "    <tr>\n",
       "      <th>C704198</th>\n",
       "      <td>4</td>\n",
       "    </tr>\n",
       "    <tr>\n",
       "      <th>C704239</th>\n",
       "      <td>1</td>\n",
       "    </tr>\n",
       "    <tr>\n",
       "      <th>C704271</th>\n",
       "      <td>4</td>\n",
       "    </tr>\n",
       "    <tr>\n",
       "      <th>C704612</th>\n",
       "      <td>1</td>\n",
       "    </tr>\n",
       "    <tr>\n",
       "      <th>C705016</th>\n",
       "      <td>2</td>\n",
       "    </tr>\n",
       "  </tbody>\n",
       "</table>\n",
       "<p>2361 rows × 1 columns</p>\n",
       "</div>"
      ],
      "text/plain": [
       "             purchase_date\n",
       "customer_id               \n",
       "C118291                 19\n",
       "C118294                 11\n",
       "C118295                  2\n",
       "C118298                 37\n",
       "C118299                  1\n",
       "...                    ...\n",
       "C704198                  4\n",
       "C704239                  1\n",
       "C704271                  4\n",
       "C704612                  1\n",
       "C705016                  2\n",
       "\n",
       "[2361 rows x 1 columns]"
      ]
     },
     "execution_count": 444,
     "metadata": {},
     "output_type": "execute_result"
    }
   ],
   "source": [
    "aa = jeju_ahn_2019.groupby(['customer_id','purchase_date']).agg({'purchase_amt':'sum'})\n",
    "aa.reset_index(inplace = True)\n",
    "aa.groupby('customer_id').agg({'purchase_date':'count'})\n"
   ]
  },
  {
   "cell_type": "code",
   "execution_count": 434,
   "metadata": {},
   "outputs": [
    {
     "data": {
      "text/html": [
       "<div>\n",
       "<style scoped>\n",
       "    .dataframe tbody tr th:only-of-type {\n",
       "        vertical-align: middle;\n",
       "    }\n",
       "\n",
       "    .dataframe tbody tr th {\n",
       "        vertical-align: top;\n",
       "    }\n",
       "\n",
       "    .dataframe thead th {\n",
       "        text-align: right;\n",
       "    }\n",
       "</style>\n",
       "<table border=\"1\" class=\"dataframe\">\n",
       "  <thead>\n",
       "    <tr style=\"text-align: right;\">\n",
       "      <th></th>\n",
       "      <th>Recency</th>\n",
       "      <th>Frequency</th>\n",
       "      <th>Monetary</th>\n",
       "      <th>R_score</th>\n",
       "      <th>F_score</th>\n",
       "      <th>M_score</th>\n",
       "      <th>Cluster</th>\n",
       "      <th>Re_grade</th>\n",
       "    </tr>\n",
       "    <tr>\n",
       "      <th>customer_id</th>\n",
       "      <th></th>\n",
       "      <th></th>\n",
       "      <th></th>\n",
       "      <th></th>\n",
       "      <th></th>\n",
       "      <th></th>\n",
       "      <th></th>\n",
       "      <th></th>\n",
       "    </tr>\n",
       "  </thead>\n",
       "  <tbody>\n",
       "    <tr>\n",
       "      <th>C118298</th>\n",
       "      <td>13</td>\n",
       "      <td>37</td>\n",
       "      <td>311100</td>\n",
       "      <td>3</td>\n",
       "      <td>4</td>\n",
       "      <td>3</td>\n",
       "      <td>7</td>\n",
       "      <td>3Gold</td>\n",
       "    </tr>\n",
       "  </tbody>\n",
       "</table>\n",
       "</div>"
      ],
      "text/plain": [
       "             Recency  Frequency  Monetary  R_score  F_score  M_score  Cluster  \\\n",
       "customer_id                                                                     \n",
       "C118298           13         37    311100        3        4        3        7   \n",
       "\n",
       "            Re_grade  \n",
       "customer_id           \n",
       "C118298        3Gold  "
      ]
     },
     "execution_count": 434,
     "metadata": {},
     "output_type": "execute_result"
    }
   ],
   "source": [
    "final_tablejeju_kmeans_run[jeju_kmeans_run.index == 'C118298']"
   ]
  },
  {
   "cell_type": "code",
   "execution_count": 402,
   "metadata": {},
   "outputs": [
    {
     "data": {
      "text/html": [
       "<div>\n",
       "<style scoped>\n",
       "    .dataframe tbody tr th:only-of-type {\n",
       "        vertical-align: middle;\n",
       "    }\n",
       "\n",
       "    .dataframe tbody tr th {\n",
       "        vertical-align: top;\n",
       "    }\n",
       "\n",
       "    .dataframe thead th {\n",
       "        text-align: right;\n",
       "    }\n",
       "</style>\n",
       "<table border=\"1\" class=\"dataframe\">\n",
       "  <thead>\n",
       "    <tr style=\"text-align: right;\">\n",
       "      <th></th>\n",
       "      <th>purchase_id</th>\n",
       "      <th>purchase_amt</th>\n",
       "    </tr>\n",
       "    <tr>\n",
       "      <th>item_g_m</th>\n",
       "      <th></th>\n",
       "      <th></th>\n",
       "    </tr>\n",
       "  </thead>\n",
       "  <tbody>\n",
       "    <tr>\n",
       "      <th>두부/유부</th>\n",
       "      <td>309</td>\n",
       "      <td>13304350</td>\n",
       "    </tr>\n",
       "    <tr>\n",
       "      <th>가루</th>\n",
       "      <td>288</td>\n",
       "      <td>2692810</td>\n",
       "    </tr>\n",
       "    <tr>\n",
       "      <th>장</th>\n",
       "      <td>287</td>\n",
       "      <td>2760380</td>\n",
       "    </tr>\n",
       "    <tr>\n",
       "      <th>밀가공</th>\n",
       "      <td>207</td>\n",
       "      <td>3362400</td>\n",
       "    </tr>\n",
       "    <tr>\n",
       "      <th>뿌리채소</th>\n",
       "      <td>89</td>\n",
       "      <td>1366360</td>\n",
       "    </tr>\n",
       "  </tbody>\n",
       "</table>\n",
       "</div>"
      ],
      "text/plain": [
       "          purchase_id  purchase_amt\n",
       "item_g_m                           \n",
       "두부/유부             309      13304350\n",
       "가루                288       2692810\n",
       "장                 287       2760380\n",
       "밀가공               207       3362400\n",
       "뿌리채소               89       1366360"
      ]
     },
     "execution_count": 402,
     "metadata": {},
     "output_type": "execute_result"
    }
   ],
   "source": [
    "best_customer = revised_2019[revised_2019['customer_id'] == 'C541748'].groupby('item_g_m').agg({'purchase_id':'count', 'purchase_amt':'sum'})\n",
    "best_customer.sort_values(by = ['purchase_id'], axis = 0, ascending = False, inplace = True)\n",
    "best_customer.head(5)"
   ]
  },
  {
   "cell_type": "code",
   "execution_count": 403,
   "metadata": {},
   "outputs": [
    {
     "data": {
      "text/html": [
       "<div>\n",
       "<style scoped>\n",
       "    .dataframe tbody tr th:only-of-type {\n",
       "        vertical-align: middle;\n",
       "    }\n",
       "\n",
       "    .dataframe tbody tr th {\n",
       "        vertical-align: top;\n",
       "    }\n",
       "\n",
       "    .dataframe thead th {\n",
       "        text-align: right;\n",
       "    }\n",
       "</style>\n",
       "<table border=\"1\" class=\"dataframe\">\n",
       "  <thead>\n",
       "    <tr style=\"text-align: right;\">\n",
       "      <th></th>\n",
       "      <th>purchase_id</th>\n",
       "      <th>purchase_amt</th>\n",
       "    </tr>\n",
       "    <tr>\n",
       "      <th>item_g_m</th>\n",
       "      <th></th>\n",
       "      <th></th>\n",
       "    </tr>\n",
       "  </thead>\n",
       "  <tbody>\n",
       "    <tr>\n",
       "      <th>두부/유부</th>\n",
       "      <td>309</td>\n",
       "      <td>13304350</td>\n",
       "    </tr>\n",
       "    <tr>\n",
       "      <th>밀가공</th>\n",
       "      <td>207</td>\n",
       "      <td>3362400</td>\n",
       "    </tr>\n",
       "    <tr>\n",
       "      <th>장</th>\n",
       "      <td>287</td>\n",
       "      <td>2760380</td>\n",
       "    </tr>\n",
       "    <tr>\n",
       "      <th>가루</th>\n",
       "      <td>288</td>\n",
       "      <td>2692810</td>\n",
       "    </tr>\n",
       "    <tr>\n",
       "      <th>뿌리채소</th>\n",
       "      <td>89</td>\n",
       "      <td>1366360</td>\n",
       "    </tr>\n",
       "    <tr>\n",
       "      <th>기름/식초</th>\n",
       "      <td>48</td>\n",
       "      <td>761110</td>\n",
       "    </tr>\n",
       "    <tr>\n",
       "      <th>유제품</th>\n",
       "      <td>69</td>\n",
       "      <td>345260</td>\n",
       "    </tr>\n",
       "    <tr>\n",
       "      <th>잎채소</th>\n",
       "      <td>38</td>\n",
       "      <td>98950</td>\n",
       "    </tr>\n",
       "    <tr>\n",
       "      <th>소스/기타양념</th>\n",
       "      <td>12</td>\n",
       "      <td>89950</td>\n",
       "    </tr>\n",
       "    <tr>\n",
       "      <th>양념채소</th>\n",
       "      <td>9</td>\n",
       "      <td>45100</td>\n",
       "    </tr>\n",
       "  </tbody>\n",
       "</table>\n",
       "</div>"
      ],
      "text/plain": [
       "          purchase_id  purchase_amt\n",
       "item_g_m                           \n",
       "두부/유부             309      13304350\n",
       "밀가공               207       3362400\n",
       "장                 287       2760380\n",
       "가루                288       2692810\n",
       "뿌리채소               89       1366360\n",
       "기름/식초              48        761110\n",
       "유제품                69        345260\n",
       "잎채소                38         98950\n",
       "소스/기타양념            12         89950\n",
       "양념채소                9         45100"
      ]
     },
     "execution_count": 403,
     "metadata": {},
     "output_type": "execute_result"
    }
   ],
   "source": [
    "best_customer.sort_values(by = ['purchase_amt'], axis = 0, ascending = False, inplace = True)\n",
    "best_customer.head(10)"
   ]
  },
  {
   "cell_type": "code",
   "execution_count": null,
   "metadata": {},
   "outputs": [],
   "source": [
    "royal_product.sort_values(by=['purchase_id'], axis =0,ascending = False, inplace = True)"
   ]
  },
  {
   "cell_type": "code",
   "execution_count": null,
   "metadata": {},
   "outputs": [],
   "source": []
  },
  {
   "cell_type": "code",
   "execution_count": null,
   "metadata": {},
   "outputs": [],
   "source": []
  },
  {
   "cell_type": "code",
   "execution_count": null,
   "metadata": {},
   "outputs": [],
   "source": []
  },
  {
   "cell_type": "code",
   "execution_count": 309,
   "metadata": {},
   "outputs": [
    {
     "data": {
      "text/plain": [
       "{'3Gold'}"
      ]
     },
     "execution_count": 309,
     "metadata": {},
     "output_type": "execute_result"
    }
   ],
   "source": [
    "set(revised_2019_3['Re_grade'])"
   ]
  },
  {
   "cell_type": "code",
   "execution_count": 341,
   "metadata": {},
   "outputs": [
    {
     "name": "stdout",
     "output_type": "stream",
     "text": [
      "가장 많은 판매건수는 19 시\n"
     ]
    },
    {
     "data": {
      "image/png": "[encoded data removed]",
      "text/plain": [
       "<Figure size 432x288 with 1 Axes>"
      ]
     },
     "metadata": {
      "needs_background": "light"
     },
     "output_type": "display_data"
    }
   ],
   "source": [
    "royal_time_plot = revised_2019_1.groupby('purchase_hour').agg({'purchase_id':'count'})\n",
    "pla_time_plot = revised_2019_2.groupby('purchase_hour').agg({'purchase_id':'count'})\n",
    "gold_time_plot = revised_2019_3.groupby('purchase_hour').agg({'purchase_id':'count'})\n",
    "silver_time_plot = revised_2019_4.groupby('purchase_hour').agg({'purchase_id':'count'})\n",
    "plt.bar(royal_time_plot.index, royal_time_plot['purchase_id'])\n",
    "plt.title('Royal')\n",
    "print('가장 많은 판매건수는', royal_time_plot[royal_time_plot['purchase_id'] == royal_time_plot['purchase_id'].max()].index[0],'시')"
   ]
  },
  {
   "cell_type": "code",
   "execution_count": 342,
   "metadata": {},
   "outputs": [
    {
     "name": "stdout",
     "output_type": "stream",
     "text": [
      "가장 많은 판매건수는 16 시\n"
     ]
    },
    {
     "data": {
      "image/png": "[encoded data removed]",
      "text/plain": [
       "<Figure size 432x288 with 1 Axes>"
      ]
     },
     "metadata": {
      "needs_background": "light"
     },
     "output_type": "display_data"
    }
   ],
   "source": [
    "plt.bar(pla_time_plot.index, pla_time_plot['purchase_id'])\n",
    "plt.title('Platinum')\n",
    "print('가장 많은 판매건수는', pla_time_plot[pla_time_plot['purchase_id'] == pla_time_plot['purchase_id'].max()].index[0],'시')"
   ]
  },
  {
   "cell_type": "code",
   "execution_count": 344,
   "metadata": {},
   "outputs": [
    {
     "name": "stdout",
     "output_type": "stream",
     "text": [
      "가장 많은 판매건수는 17 시\n"
     ]
    },
    {
     "data": {
      "image/png": "[encoded data removed]",
      "text/plain": [
       "<Figure size 432x288 with 1 Axes>"
      ]
     },
     "metadata": {
      "needs_background": "light"
     },
     "output_type": "display_data"
    }
   ],
   "source": [
    "plt.bar(gold_time_plot.index, gold_time_plot['purchase_id'])\n",
    "plt.title('Gold')\n",
    "print('가장 많은 판매건수는', gold_time_plot[gold_time_plot['purchase_id'] == gold_time_plot['purchase_id'].max()].index[0],'시')"
   ]
  },
  {
   "cell_type": "code",
   "execution_count": 345,
   "metadata": {},
   "outputs": [
    {
     "name": "stdout",
     "output_type": "stream",
     "text": [
      "가장 많은 판매건수는 17 시\n"
     ]
    },
    {
     "data": {
      "image/png": "[encoded data removed]",
      "text/plain": [
       "<Figure size 432x288 with 1 Axes>"
      ]
     },
     "metadata": {
      "needs_background": "light"
     },
     "output_type": "display_data"
    }
   ],
   "source": [
    "plt.bar(silver_time_plot.index, silver_time_plot['purchase_id'])\n",
    "plt.title('Silver')\n",
    "print('가장 많은 판매건수는', silver_time_plot[silver_time_plot['purchase_id'] == silver_time_plot['purchase_id'].max()].index[0],'시')"
   ]
  },
  {
   "cell_type": "code",
   "execution_count": 376,
   "metadata": {},
   "outputs": [
    {
     "data": {
      "text/plain": [
       "Text(0.5, 1.0, 'Royal_purchase_id')"
      ]
     },
     "execution_count": 376,
     "metadata": {},
     "output_type": "execute_result"
    },
    {
     "data": {
      "image/png": "[encoded data removed]",
      "text/plain": [
       "<Figure size 432x288 with 1 Axes>"
      ]
     },
     "metadata": {
      "needs_background": "light"
     },
     "output_type": "display_data"
    }
   ],
   "source": [
    "royal_product = revised_2019_1.groupby('item_g_m').agg({'purchase_id':'count','purchase_amt':'sum'})\n",
    "royal_product.sort_values(by=['purchase_id'], axis =0,ascending = False, inplace = True)\n",
    "plt.bar(royal_product.index, royal_product['purchase_id'])\n",
    "plt.title('Royal_purchase_id')"
   ]
  },
  {
   "cell_type": "code",
   "execution_count": 377,
   "metadata": {},
   "outputs": [
    {
     "data": {
      "text/plain": [
       "Text(0.5, 1.0, 'Royal_purchase_amt')"
      ]
     },
     "execution_count": 377,
     "metadata": {},
     "output_type": "execute_result"
    },
    {
     "data": {
      "image/png": "[encoded data removed]",
      "text/plain": [
       "<Figure size 432x288 with 1 Axes>"
      ]
     },
     "metadata": {
      "needs_background": "light"
     },
     "output_type": "display_data"
    }
   ],
   "source": [
    "royal_product.sort_values(by=['purchase_amt'], axis =0,ascending = False, inplace = True)\n",
    "plt.bar(royal_product.index, royal_product['purchase_amt'])\n",
    "plt.title('Royal_purchase_amt')"
   ]
  },
  {
   "cell_type": "code",
   "execution_count": 392,
   "metadata": {},
   "outputs": [
    {
     "data": {
      "text/html": [
       "<div>\n",
       "<style scoped>\n",
       "    .dataframe tbody tr th:only-of-type {\n",
       "        vertical-align: middle;\n",
       "    }\n",
       "\n",
       "    .dataframe tbody tr th {\n",
       "        vertical-align: top;\n",
       "    }\n",
       "\n",
       "    .dataframe thead th {\n",
       "        text-align: right;\n",
       "    }\n",
       "</style>\n",
       "<table border=\"1\" class=\"dataframe\">\n",
       "  <thead>\n",
       "    <tr style=\"text-align: right;\">\n",
       "      <th></th>\n",
       "      <th>purchase_id</th>\n",
       "      <th>purchase_amt</th>\n",
       "    </tr>\n",
       "    <tr>\n",
       "      <th>item_g_m</th>\n",
       "      <th></th>\n",
       "      <th></th>\n",
       "    </tr>\n",
       "  </thead>\n",
       "  <tbody>\n",
       "    <tr>\n",
       "      <th>두부/유부</th>\n",
       "      <td>2301</td>\n",
       "      <td>19065580</td>\n",
       "    </tr>\n",
       "    <tr>\n",
       "      <th>육가공</th>\n",
       "      <td>1231</td>\n",
       "      <td>11740920</td>\n",
       "    </tr>\n",
       "    <tr>\n",
       "      <th>멥쌀</th>\n",
       "      <td>845</td>\n",
       "      <td>11567175</td>\n",
       "    </tr>\n",
       "    <tr>\n",
       "      <th>한우</th>\n",
       "      <td>554</td>\n",
       "      <td>10888275</td>\n",
       "    </tr>\n",
       "    <tr>\n",
       "      <th>밀가공</th>\n",
       "      <td>1635</td>\n",
       "      <td>10835195</td>\n",
       "    </tr>\n",
       "    <tr>\n",
       "      <th>가루</th>\n",
       "      <td>960</td>\n",
       "      <td>9315530</td>\n",
       "    </tr>\n",
       "    <tr>\n",
       "      <th>잎채소</th>\n",
       "      <td>3497</td>\n",
       "      <td>8523875</td>\n",
       "    </tr>\n",
       "    <tr>\n",
       "      <th>유정란</th>\n",
       "      <td>1347</td>\n",
       "      <td>8319025</td>\n",
       "    </tr>\n",
       "    <tr>\n",
       "      <th>유제품</th>\n",
       "      <td>1881</td>\n",
       "      <td>8236523</td>\n",
       "    </tr>\n",
       "    <tr>\n",
       "      <th>과일채소</th>\n",
       "      <td>946</td>\n",
       "      <td>8035655</td>\n",
       "    </tr>\n",
       "  </tbody>\n",
       "</table>\n",
       "</div>"
      ],
      "text/plain": [
       "          purchase_id  purchase_amt\n",
       "item_g_m                           \n",
       "두부/유부            2301      19065580\n",
       "육가공              1231      11740920\n",
       "멥쌀                845      11567175\n",
       "한우                554      10888275\n",
       "밀가공              1635      10835195\n",
       "가루                960       9315530\n",
       "잎채소              3497       8523875\n",
       "유정란              1347       8319025\n",
       "유제품              1881       8236523\n",
       "과일채소              946       8035655"
      ]
     },
     "execution_count": 392,
     "metadata": {},
     "output_type": "execute_result"
    }
   ],
   "source": [
    "royal_product.head(10)"
   ]
  },
  {
   "cell_type": "code",
   "execution_count": 382,
   "metadata": {},
   "outputs": [
    {
     "data": {
      "text/plain": [
       "Text(0.5, 1.0, 'Platinum_purchase_id')"
      ]
     },
     "execution_count": 382,
     "metadata": {},
     "output_type": "execute_result"
    },
    {
     "data": {
      "image/png": "[encoded data removed]",
      "text/plain": [
       "<Figure size 432x288 with 1 Axes>"
      ]
     },
     "metadata": {
      "needs_background": "light"
     },
     "output_type": "display_data"
    }
   ],
   "source": [
    "pla_product = revised_2019_2.groupby('item_g_m').agg({'purchase_id':'count','purchase_amt':'sum'})\n",
    "pla_product.sort_values(by=['purchase_id'], axis =0,ascending = False, inplace = True)\n",
    "plt.bar(pla_product.index, pla_product['purchase_id'])\n",
    "plt.title('Platinum_purchase_id')\n",
    "subplots()\n"
   ]
  },
  {
   "cell_type": "code",
   "execution_count": 380,
   "metadata": {},
   "outputs": [
    {
     "data": {
      "text/plain": [
       "Text(0.5, 1.0, 'Platinum_purchase_amt')"
      ]
     },
     "execution_count": 380,
     "metadata": {},
     "output_type": "execute_result"
    },
    {
     "data": {
      "image/png": "[encoded data removed]",
      "text/plain": [
       "<Figure size 432x288 with 1 Axes>"
      ]
     },
     "metadata": {
      "needs_background": "light"
     },
     "output_type": "display_data"
    }
   ],
   "source": [
    "pla_product.sort_values(by=['purchase_amt'], axis =0,ascending = False, inplace = True)\n",
    "plt.bar(pla_product.index, pla_product['purchase_amt'])\n",
    "plt.title('Platinum_purchase_amt')"
   ]
  },
  {
   "cell_type": "code",
   "execution_count": 393,
   "metadata": {},
   "outputs": [
    {
     "data": {
      "text/html": [
       "<div>\n",
       "<style scoped>\n",
       "    .dataframe tbody tr th:only-of-type {\n",
       "        vertical-align: middle;\n",
       "    }\n",
       "\n",
       "    .dataframe tbody tr th {\n",
       "        vertical-align: top;\n",
       "    }\n",
       "\n",
       "    .dataframe thead th {\n",
       "        text-align: right;\n",
       "    }\n",
       "</style>\n",
       "<table border=\"1\" class=\"dataframe\">\n",
       "  <thead>\n",
       "    <tr style=\"text-align: right;\">\n",
       "      <th></th>\n",
       "      <th>purchase_id</th>\n",
       "      <th>purchase_amt</th>\n",
       "    </tr>\n",
       "    <tr>\n",
       "      <th>item_g_m</th>\n",
       "      <th></th>\n",
       "      <th></th>\n",
       "    </tr>\n",
       "  </thead>\n",
       "  <tbody>\n",
       "    <tr>\n",
       "      <th>과자</th>\n",
       "      <td>3156</td>\n",
       "      <td>11376568</td>\n",
       "    </tr>\n",
       "    <tr>\n",
       "      <th>잎채소</th>\n",
       "      <td>2951</td>\n",
       "      <td>6630445</td>\n",
       "    </tr>\n",
       "    <tr>\n",
       "      <th>두부/유부</th>\n",
       "      <td>2819</td>\n",
       "      <td>8637358</td>\n",
       "    </tr>\n",
       "    <tr>\n",
       "      <th>밀가공</th>\n",
       "      <td>2201</td>\n",
       "      <td>10800690</td>\n",
       "    </tr>\n",
       "    <tr>\n",
       "      <th>육가공</th>\n",
       "      <td>1974</td>\n",
       "      <td>17714930</td>\n",
       "    </tr>\n",
       "    <tr>\n",
       "      <th>유제품</th>\n",
       "      <td>1919</td>\n",
       "      <td>9528125</td>\n",
       "    </tr>\n",
       "    <tr>\n",
       "      <th>빵</th>\n",
       "      <td>1773</td>\n",
       "      <td>6917415</td>\n",
       "    </tr>\n",
       "    <tr>\n",
       "      <th>밑반찬</th>\n",
       "      <td>1583</td>\n",
       "      <td>7506585</td>\n",
       "    </tr>\n",
       "    <tr>\n",
       "      <th>열매채소</th>\n",
       "      <td>1542</td>\n",
       "      <td>4326230</td>\n",
       "    </tr>\n",
       "    <tr>\n",
       "      <th>양념채소</th>\n",
       "      <td>1372</td>\n",
       "      <td>4135130</td>\n",
       "    </tr>\n",
       "  </tbody>\n",
       "</table>\n",
       "</div>"
      ],
      "text/plain": [
       "          purchase_id  purchase_amt\n",
       "item_g_m                           \n",
       "과자               3156      11376568\n",
       "잎채소              2951       6630445\n",
       "두부/유부            2819       8637358\n",
       "밀가공              2201      10800690\n",
       "육가공              1974      17714930\n",
       "유제품              1919       9528125\n",
       "빵                1773       6917415\n",
       "밑반찬              1583       7506585\n",
       "열매채소             1542       4326230\n",
       "양념채소             1372       4135130"
      ]
     },
     "execution_count": 393,
     "metadata": {},
     "output_type": "execute_result"
    }
   ],
   "source": [
    "pla_product.head(10)"
   ]
  },
  {
   "cell_type": "code",
   "execution_count": 390,
   "metadata": {},
   "outputs": [
    {
     "data": {
      "text/plain": [
       "Text(0.5, 1.0, 'Gold_purchase_id')"
      ]
     },
     "execution_count": 390,
     "metadata": {},
     "output_type": "execute_result"
    },
    {
     "data": {
      "image/png": "[encoded data removed]",
      "text/plain": [
       "<Figure size 432x288 with 1 Axes>"
      ]
     },
     "metadata": {
      "needs_background": "light"
     },
     "output_type": "display_data"
    }
   ],
   "source": [
    "gold_product = revised_2019_3.groupby('item_g_m').agg({'purchase_id':'count','purchase_amt':'sum'})\n",
    "gold_product.sort_values(by=['purchase_id'], axis =0,ascending = False, inplace = True)\n",
    "plt.bar(gold_product.index, gold_product['purchase_id'])\n",
    "plt.title('Gold_purchase_id')\n"
   ]
  },
  {
   "cell_type": "code",
   "execution_count": 391,
   "metadata": {},
   "outputs": [
    {
     "data": {
      "text/plain": [
       "Text(0.5, 1.0, 'Gold_purchase_amt')"
      ]
     },
     "execution_count": 391,
     "metadata": {},
     "output_type": "execute_result"
    },
    {
     "data": {
      "image/png": "[encoded data removed]",
      "text/plain": [
       "<Figure size 432x288 with 1 Axes>"
      ]
     },
     "metadata": {
      "needs_background": "light"
     },
     "output_type": "display_data"
    }
   ],
   "source": [
    "gold_product.sort_values(by=['purchase_amt'], axis =0,ascending = False, inplace = True)\n",
    "plt.bar(gold_product.index, gold_product['purchase_amt'])\n",
    "plt.title('Gold_purchase_amt')"
   ]
  },
  {
   "cell_type": "code",
   "execution_count": 394,
   "metadata": {},
   "outputs": [
    {
     "data": {
      "text/html": [
       "<div>\n",
       "<style scoped>\n",
       "    .dataframe tbody tr th:only-of-type {\n",
       "        vertical-align: middle;\n",
       "    }\n",
       "\n",
       "    .dataframe tbody tr th {\n",
       "        vertical-align: top;\n",
       "    }\n",
       "\n",
       "    .dataframe thead th {\n",
       "        text-align: right;\n",
       "    }\n",
       "</style>\n",
       "<table border=\"1\" class=\"dataframe\">\n",
       "  <thead>\n",
       "    <tr style=\"text-align: right;\">\n",
       "      <th></th>\n",
       "      <th>purchase_id</th>\n",
       "      <th>purchase_amt</th>\n",
       "    </tr>\n",
       "    <tr>\n",
       "      <th>item_g_m</th>\n",
       "      <th></th>\n",
       "      <th></th>\n",
       "    </tr>\n",
       "  </thead>\n",
       "  <tbody>\n",
       "    <tr>\n",
       "      <th>멥쌀</th>\n",
       "      <td>1290</td>\n",
       "      <td>23159640</td>\n",
       "    </tr>\n",
       "    <tr>\n",
       "      <th>육가공</th>\n",
       "      <td>2222</td>\n",
       "      <td>20827085</td>\n",
       "    </tr>\n",
       "    <tr>\n",
       "      <th>밀가공</th>\n",
       "      <td>2522</td>\n",
       "      <td>13767095</td>\n",
       "    </tr>\n",
       "    <tr>\n",
       "      <th>과자</th>\n",
       "      <td>3747</td>\n",
       "      <td>13467200</td>\n",
       "    </tr>\n",
       "    <tr>\n",
       "      <th>가루</th>\n",
       "      <td>1429</td>\n",
       "      <td>10483590</td>\n",
       "    </tr>\n",
       "    <tr>\n",
       "      <th>유정란</th>\n",
       "      <td>1484</td>\n",
       "      <td>9622735</td>\n",
       "    </tr>\n",
       "    <tr>\n",
       "      <th>한우</th>\n",
       "      <td>494</td>\n",
       "      <td>9416380</td>\n",
       "    </tr>\n",
       "    <tr>\n",
       "      <th>식사대용</th>\n",
       "      <td>1504</td>\n",
       "      <td>9240385</td>\n",
       "    </tr>\n",
       "    <tr>\n",
       "      <th>기름/식초</th>\n",
       "      <td>699</td>\n",
       "      <td>9022990</td>\n",
       "    </tr>\n",
       "    <tr>\n",
       "      <th>장</th>\n",
       "      <td>772</td>\n",
       "      <td>8606385</td>\n",
       "    </tr>\n",
       "  </tbody>\n",
       "</table>\n",
       "</div>"
      ],
      "text/plain": [
       "          purchase_id  purchase_amt\n",
       "item_g_m                           \n",
       "멥쌀               1290      23159640\n",
       "육가공              2222      20827085\n",
       "밀가공              2522      13767095\n",
       "과자               3747      13467200\n",
       "가루               1429      10483590\n",
       "유정란              1484       9622735\n",
       "한우                494       9416380\n",
       "식사대용             1504       9240385\n",
       "기름/식초             699       9022990\n",
       "장                 772       8606385"
      ]
     },
     "execution_count": 394,
     "metadata": {},
     "output_type": "execute_result"
    }
   ],
   "source": [
    "gold_product.head(10)"
   ]
  },
  {
   "cell_type": "code",
   "execution_count": 386,
   "metadata": {},
   "outputs": [
    {
     "data": {
      "text/plain": [
       "Text(0.5, 1.0, 'Silver_purchase_id')"
      ]
     },
     "execution_count": 386,
     "metadata": {},
     "output_type": "execute_result"
    },
    {
     "data": {
      "image/png": "[encoded data removed]",
      "text/plain": [
       "<Figure size 432x288 with 1 Axes>"
      ]
     },
     "metadata": {
      "needs_background": "light"
     },
     "output_type": "display_data"
    }
   ],
   "source": [
    "silver_product = revised_2019_4.groupby('item_g_m').agg({'purchase_id':'count','purchase_amt':'sum'})\n",
    "silver_product.sort_values(by=['purchase_id'], axis =0,ascending = False, inplace = True)\n",
    "plt.bar(silver_product.index, silver_product['purchase_id'])\n",
    "plt.title('Silver_purchase_id')\n"
   ]
  },
  {
   "cell_type": "code",
   "execution_count": 387,
   "metadata": {},
   "outputs": [
    {
     "data": {
      "text/plain": [
       "Text(0.5, 1.0, 'Silver_purchase_amt')"
      ]
     },
     "execution_count": 387,
     "metadata": {},
     "output_type": "execute_result"
    },
    {
     "data": {
      "image/png": "[encoded data removed]",
      "text/plain": [
       "<Figure size 432x288 with 1 Axes>"
      ]
     },
     "metadata": {
      "needs_background": "light"
     },
     "output_type": "display_data"
    }
   ],
   "source": [
    "silver_product.sort_values(by=['purchase_amt'], axis =0,ascending = False, inplace = True)\n",
    "plt.bar(silver_product.index, silver_product['purchase_amt'])\n",
    "plt.title('Silver_purchase_amt')"
   ]
  },
  {
   "cell_type": "code",
   "execution_count": 397,
   "metadata": {},
   "outputs": [
    {
     "data": {
      "text/plain": [
       "683272946"
      ]
     },
     "execution_count": 397,
     "metadata": {},
     "output_type": "execute_result"
    }
   ],
   "source": [
    "silver_product['purchase_amt'].sum() + pla_product['purchase_amt'].sum()+gold_product['purchase_amt'].sum()+royal_product['purchase_amt'].sum()"
   ]
  },
  {
   "cell_type": "code",
   "execution_count": 395,
   "metadata": {},
   "outputs": [
    {
     "data": {
      "text/html": [
       "<div>\n",
       "<style scoped>\n",
       "    .dataframe tbody tr th:only-of-type {\n",
       "        vertical-align: middle;\n",
       "    }\n",
       "\n",
       "    .dataframe tbody tr th {\n",
       "        vertical-align: top;\n",
       "    }\n",
       "\n",
       "    .dataframe thead th {\n",
       "        text-align: right;\n",
       "    }\n",
       "</style>\n",
       "<table border=\"1\" class=\"dataframe\">\n",
       "  <thead>\n",
       "    <tr style=\"text-align: right;\">\n",
       "      <th></th>\n",
       "      <th>purchase_id</th>\n",
       "      <th>purchase_amt</th>\n",
       "    </tr>\n",
       "    <tr>\n",
       "      <th>item_g_m</th>\n",
       "      <th></th>\n",
       "      <th></th>\n",
       "    </tr>\n",
       "  </thead>\n",
       "  <tbody>\n",
       "    <tr>\n",
       "      <th>육가공</th>\n",
       "      <td>557</td>\n",
       "      <td>5043110</td>\n",
       "    </tr>\n",
       "    <tr>\n",
       "      <th>과자</th>\n",
       "      <td>1196</td>\n",
       "      <td>4595881</td>\n",
       "    </tr>\n",
       "    <tr>\n",
       "      <th>멥쌀</th>\n",
       "      <td>229</td>\n",
       "      <td>4229235</td>\n",
       "    </tr>\n",
       "    <tr>\n",
       "      <th>가루</th>\n",
       "      <td>454</td>\n",
       "      <td>3777545</td>\n",
       "    </tr>\n",
       "    <tr>\n",
       "      <th>밀가공</th>\n",
       "      <td>673</td>\n",
       "      <td>3741530</td>\n",
       "    </tr>\n",
       "    <tr>\n",
       "      <th>장</th>\n",
       "      <td>293</td>\n",
       "      <td>3338070</td>\n",
       "    </tr>\n",
       "    <tr>\n",
       "      <th>식사대용</th>\n",
       "      <td>454</td>\n",
       "      <td>2480200</td>\n",
       "    </tr>\n",
       "    <tr>\n",
       "      <th>빵</th>\n",
       "      <td>443</td>\n",
       "      <td>2471805</td>\n",
       "    </tr>\n",
       "    <tr>\n",
       "      <th>한우</th>\n",
       "      <td>110</td>\n",
       "      <td>2387145</td>\n",
       "    </tr>\n",
       "    <tr>\n",
       "      <th>기름/식초</th>\n",
       "      <td>200</td>\n",
       "      <td>2352870</td>\n",
       "    </tr>\n",
       "  </tbody>\n",
       "</table>\n",
       "</div>"
      ],
      "text/plain": [
       "          purchase_id  purchase_amt\n",
       "item_g_m                           \n",
       "육가공               557       5043110\n",
       "과자               1196       4595881\n",
       "멥쌀                229       4229235\n",
       "가루                454       3777545\n",
       "밀가공               673       3741530\n",
       "장                 293       3338070\n",
       "식사대용              454       2480200\n",
       "빵                 443       2471805\n",
       "한우                110       2387145\n",
       "기름/식초             200       2352870"
      ]
     },
     "execution_count": 395,
     "metadata": {},
     "output_type": "execute_result"
    }
   ],
   "source": [
    "silver_product.head(10)"
   ]
  },
  {
   "cell_type": "code",
   "execution_count": null,
   "metadata": {},
   "outputs": [],
   "source": [
    "royal_time_plot = revised_2019_1.groupby('purchase_hour').agg({'purchase_id':'count'})\n",
    "pla_time_plot = revised_2019_2.groupby('purchase_hour').agg({'purchase_id':'count'})\n",
    "gold_time_plot = revised_2019_3.groupby('purchase_hour').agg({'purchase_id':'count'})\n",
    "silver_time_plot = revised_2019_4.groupby('purchase_hour').agg({'purchase_id':'count'})\n",
    "plt.bar(royal_time_plot.index, royal_time_plot['purchase_id'])\n",
    "plt.title('Royal')\n",
    "print('가장 많은 판매건수는', royal_time_plot[royal_time_plot['purchase_id'] == royal_time_plot['purchase_id'].max()].index[0],'시')"
   ]
  },
  {
   "cell_type": "code",
   "execution_count": null,
   "metadata": {},
   "outputs": [],
   "source": [
    "plt.subplots(2,2, figsize = (10,10))\n",
    "for i in range(4):\n",
    "    "
   ]
  },
  {
   "cell_type": "code",
   "execution_count": null,
   "metadata": {},
   "outputs": [],
   "source": []
  },
  {
   "cell_type": "code",
   "execution_count": null,
   "metadata": {},
   "outputs": [],
   "source": []
  },
  {
   "cell_type": "code",
   "execution_count": 255,
   "metadata": {},
   "outputs": [
    {
     "data": {
      "text/plain": [
       "<BarContainer object of 38 artists>"
      ]
     },
     "execution_count": 255,
     "metadata": {},
     "output_type": "execute_result"
    },
    {
     "name": "stderr",
     "output_type": "stream",
     "text": [
      "/home/piai/anaconda3/lib/python3.8/site-packages/matplotlib/backends/backend_agg.py:238: RuntimeWarning: Glyph 44284 missing from current font.\n",
      "  font.set_text(s, 0.0, flags=flags)\n",
      "/home/piai/anaconda3/lib/python3.8/site-packages/matplotlib/backends/backend_agg.py:238: RuntimeWarning: Glyph 51088 missing from current font.\n",
      "  font.set_text(s, 0.0, flags=flags)\n",
      "/home/piai/anaconda3/lib/python3.8/site-packages/matplotlib/backends/backend_agg.py:238: RuntimeWarning: Glyph 51086 missing from current font.\n",
      "  font.set_text(s, 0.0, flags=flags)\n",
      "/home/piai/anaconda3/lib/python3.8/site-packages/matplotlib/backends/backend_agg.py:238: RuntimeWarning: Glyph 52292 missing from current font.\n",
      "  font.set_text(s, 0.0, flags=flags)\n",
      "/home/piai/anaconda3/lib/python3.8/site-packages/matplotlib/backends/backend_agg.py:238: RuntimeWarning: Glyph 49548 missing from current font.\n",
      "  font.set_text(s, 0.0, flags=flags)\n",
      "/home/piai/anaconda3/lib/python3.8/site-packages/matplotlib/backends/backend_agg.py:238: RuntimeWarning: Glyph 46160 missing from current font.\n",
      "  font.set_text(s, 0.0, flags=flags)\n",
      "/home/piai/anaconda3/lib/python3.8/site-packages/matplotlib/backends/backend_agg.py:238: RuntimeWarning: Glyph 48512 missing from current font.\n",
      "  font.set_text(s, 0.0, flags=flags)\n",
      "/home/piai/anaconda3/lib/python3.8/site-packages/matplotlib/backends/backend_agg.py:238: RuntimeWarning: Glyph 50976 missing from current font.\n",
      "  font.set_text(s, 0.0, flags=flags)\n",
      "/home/piai/anaconda3/lib/python3.8/site-packages/matplotlib/backends/backend_agg.py:238: RuntimeWarning: Glyph 48128 missing from current font.\n",
      "  font.set_text(s, 0.0, flags=flags)\n",
      "/home/piai/anaconda3/lib/python3.8/site-packages/matplotlib/backends/backend_agg.py:238: RuntimeWarning: Glyph 44032 missing from current font.\n",
      "  font.set_text(s, 0.0, flags=flags)\n",
      "/home/piai/anaconda3/lib/python3.8/site-packages/matplotlib/backends/backend_agg.py:238: RuntimeWarning: Glyph 44277 missing from current font.\n",
      "  font.set_text(s, 0.0, flags=flags)\n",
      "/home/piai/anaconda3/lib/python3.8/site-packages/matplotlib/backends/backend_agg.py:238: RuntimeWarning: Glyph 51228 missing from current font.\n",
      "  font.set_text(s, 0.0, flags=flags)\n",
      "/home/piai/anaconda3/lib/python3.8/site-packages/matplotlib/backends/backend_agg.py:238: RuntimeWarning: Glyph 54408 missing from current font.\n",
      "  font.set_text(s, 0.0, flags=flags)\n",
      "/home/piai/anaconda3/lib/python3.8/site-packages/matplotlib/backends/backend_agg.py:238: RuntimeWarning: Glyph 50977 missing from current font.\n",
      "  font.set_text(s, 0.0, flags=flags)\n",
      "/home/piai/anaconda3/lib/python3.8/site-packages/matplotlib/backends/backend_agg.py:238: RuntimeWarning: Glyph 48757 missing from current font.\n",
      "  font.set_text(s, 0.0, flags=flags)\n",
      "/home/piai/anaconda3/lib/python3.8/site-packages/matplotlib/backends/backend_agg.py:238: RuntimeWarning: Glyph 50676 missing from current font.\n",
      "  font.set_text(s, 0.0, flags=flags)\n",
      "/home/piai/anaconda3/lib/python3.8/site-packages/matplotlib/backends/backend_agg.py:238: RuntimeWarning: Glyph 47588 missing from current font.\n",
      "  font.set_text(s, 0.0, flags=flags)\n",
      "/home/piai/anaconda3/lib/python3.8/site-packages/matplotlib/backends/backend_agg.py:238: RuntimeWarning: Glyph 48145 missing from current font.\n",
      "  font.set_text(s, 0.0, flags=flags)\n",
      "/home/piai/anaconda3/lib/python3.8/site-packages/matplotlib/backends/backend_agg.py:238: RuntimeWarning: Glyph 48152 missing from current font.\n",
      "  font.set_text(s, 0.0, flags=flags)\n",
      "/home/piai/anaconda3/lib/python3.8/site-packages/matplotlib/backends/backend_agg.py:238: RuntimeWarning: Glyph 52268 missing from current font.\n",
      "  font.set_text(s, 0.0, flags=flags)\n",
      "/home/piai/anaconda3/lib/python3.8/site-packages/matplotlib/backends/backend_agg.py:238: RuntimeWarning: Glyph 51221 missing from current font.\n",
      "  font.set_text(s, 0.0, flags=flags)\n",
      "/home/piai/anaconda3/lib/python3.8/site-packages/matplotlib/backends/backend_agg.py:238: RuntimeWarning: Glyph 46976 missing from current font.\n",
      "  font.set_text(s, 0.0, flags=flags)\n",
      "/home/piai/anaconda3/lib/python3.8/site-packages/matplotlib/backends/backend_agg.py:238: RuntimeWarning: Glyph 50577 missing from current font.\n",
      "  font.set_text(s, 0.0, flags=flags)\n",
      "/home/piai/anaconda3/lib/python3.8/site-packages/matplotlib/backends/backend_agg.py:238: RuntimeWarning: Glyph 45392 missing from current font.\n",
      "  font.set_text(s, 0.0, flags=flags)\n",
      "/home/piai/anaconda3/lib/python3.8/site-packages/matplotlib/backends/backend_agg.py:238: RuntimeWarning: Glyph 49885 missing from current font.\n",
      "  font.set_text(s, 0.0, flags=flags)\n",
      "/home/piai/anaconda3/lib/python3.8/site-packages/matplotlib/backends/backend_agg.py:238: RuntimeWarning: Glyph 49324 missing from current font.\n",
      "  font.set_text(s, 0.0, flags=flags)\n",
      "/home/piai/anaconda3/lib/python3.8/site-packages/matplotlib/backends/backend_agg.py:238: RuntimeWarning: Glyph 45824 missing from current font.\n",
      "  font.set_text(s, 0.0, flags=flags)\n",
      "/home/piai/anaconda3/lib/python3.8/site-packages/matplotlib/backends/backend_agg.py:238: RuntimeWarning: Glyph 50857 missing from current font.\n",
      "  font.set_text(s, 0.0, flags=flags)\n",
      "/home/piai/anaconda3/lib/python3.8/site-packages/matplotlib/backends/backend_agg.py:238: RuntimeWarning: Glyph 47336 missing from current font.\n",
      "  font.set_text(s, 0.0, flags=flags)\n",
      "/home/piai/anaconda3/lib/python3.8/site-packages/matplotlib/backends/backend_agg.py:238: RuntimeWarning: Glyph 49100 missing from current font.\n",
      "  font.set_text(s, 0.0, flags=flags)\n",
      "/home/piai/anaconda3/lib/python3.8/site-packages/matplotlib/backends/backend_agg.py:238: RuntimeWarning: Glyph 47532 missing from current font.\n",
      "  font.set_text(s, 0.0, flags=flags)\n",
      "/home/piai/anaconda3/lib/python3.8/site-packages/matplotlib/backends/backend_agg.py:238: RuntimeWarning: Glyph 47717 missing from current font.\n",
      "  font.set_text(s, 0.0, flags=flags)\n",
      "/home/piai/anaconda3/lib/python3.8/site-packages/matplotlib/backends/backend_agg.py:238: RuntimeWarning: Glyph 49920 missing from current font.\n",
      "  font.set_text(s, 0.0, flags=flags)\n",
      "/home/piai/anaconda3/lib/python3.8/site-packages/matplotlib/backends/backend_agg.py:238: RuntimeWarning: Glyph 48260 missing from current font.\n",
      "  font.set_text(s, 0.0, flags=flags)\n",
      "/home/piai/anaconda3/lib/python3.8/site-packages/matplotlib/backends/backend_agg.py:238: RuntimeWarning: Glyph 49455 missing from current font.\n",
      "  font.set_text(s, 0.0, flags=flags)\n",
      "/home/piai/anaconda3/lib/python3.8/site-packages/matplotlib/backends/backend_agg.py:238: RuntimeWarning: Glyph 50612 missing from current font.\n",
      "  font.set_text(s, 0.0, flags=flags)\n",
      "/home/piai/anaconda3/lib/python3.8/site-packages/matplotlib/backends/backend_agg.py:238: RuntimeWarning: Glyph 47925 missing from current font.\n",
      "  font.set_text(s, 0.0, flags=flags)\n",
      "/home/piai/anaconda3/lib/python3.8/site-packages/matplotlib/backends/backend_agg.py:238: RuntimeWarning: Glyph 47568 missing from current font.\n",
      "  font.set_text(s, 0.0, flags=flags)\n",
      "/home/piai/anaconda3/lib/python3.8/site-packages/matplotlib/backends/backend_agg.py:238: RuntimeWarning: Glyph 47536 missing from current font.\n",
      "  font.set_text(s, 0.0, flags=flags)\n",
      "/home/piai/anaconda3/lib/python3.8/site-packages/matplotlib/backends/backend_agg.py:238: RuntimeWarning: Glyph 45208 missing from current font.\n",
      "  font.set_text(s, 0.0, flags=flags)\n",
      "/home/piai/anaconda3/lib/python3.8/site-packages/matplotlib/backends/backend_agg.py:238: RuntimeWarning: Glyph 47932 missing from current font.\n",
      "  font.set_text(s, 0.0, flags=flags)\n",
      "/home/piai/anaconda3/lib/python3.8/site-packages/matplotlib/backends/backend_agg.py:238: RuntimeWarning: Glyph 44148 missing from current font.\n",
      "  font.set_text(s, 0.0, flags=flags)\n",
      "/home/piai/anaconda3/lib/python3.8/site-packages/matplotlib/backends/backend_agg.py:238: RuntimeWarning: Glyph 51116 missing from current font.\n",
      "  font.set_text(s, 0.0, flags=flags)\n",
      "/home/piai/anaconda3/lib/python3.8/site-packages/matplotlib/backends/backend_agg.py:238: RuntimeWarning: Glyph 49828 missing from current font.\n",
      "  font.set_text(s, 0.0, flags=flags)\n",
      "/home/piai/anaconda3/lib/python3.8/site-packages/matplotlib/backends/backend_agg.py:238: RuntimeWarning: Glyph 44592 missing from current font.\n",
      "  font.set_text(s, 0.0, flags=flags)\n",
      "/home/piai/anaconda3/lib/python3.8/site-packages/matplotlib/backends/backend_agg.py:238: RuntimeWarning: Glyph 53440 missing from current font.\n",
      "  font.set_text(s, 0.0, flags=flags)\n",
      "/home/piai/anaconda3/lib/python3.8/site-packages/matplotlib/backends/backend_agg.py:238: RuntimeWarning: Glyph 51068 missing from current font.\n",
      "  font.set_text(s, 0.0, flags=flags)\n",
      "/home/piai/anaconda3/lib/python3.8/site-packages/matplotlib/backends/backend_agg.py:238: RuntimeWarning: Glyph 51109 missing from current font.\n",
      "  font.set_text(s, 0.0, flags=flags)\n",
      "/home/piai/anaconda3/lib/python3.8/site-packages/matplotlib/backends/backend_agg.py:238: RuntimeWarning: Glyph 46497 missing from current font.\n",
      "  font.set_text(s, 0.0, flags=flags)\n",
      "/home/piai/anaconda3/lib/python3.8/site-packages/matplotlib/backends/backend_agg.py:238: RuntimeWarning: Glyph 47492 missing from current font.\n",
      "  font.set_text(s, 0.0, flags=flags)\n",
      "/home/piai/anaconda3/lib/python3.8/site-packages/matplotlib/backends/backend_agg.py:238: RuntimeWarning: Glyph 52488 missing from current font.\n",
      "  font.set_text(s, 0.0, flags=flags)\n",
      "/home/piai/anaconda3/lib/python3.8/site-packages/matplotlib/backends/backend_agg.py:238: RuntimeWarning: Glyph 54620 missing from current font.\n",
      "  font.set_text(s, 0.0, flags=flags)\n",
      "/home/piai/anaconda3/lib/python3.8/site-packages/matplotlib/backends/backend_agg.py:238: RuntimeWarning: Glyph 50864 missing from current font.\n",
      "  font.set_text(s, 0.0, flags=flags)\n",
      "/home/piai/anaconda3/lib/python3.8/site-packages/matplotlib/backends/backend_agg.py:238: RuntimeWarning: Glyph 46076 missing from current font.\n",
      "  font.set_text(s, 0.0, flags=flags)\n",
      "/home/piai/anaconda3/lib/python3.8/site-packages/matplotlib/backends/backend_agg.py:238: RuntimeWarning: Glyph 51648 missing from current font.\n",
      "  font.set_text(s, 0.0, flags=flags)\n",
      "/home/piai/anaconda3/lib/python3.8/site-packages/matplotlib/backends/backend_agg.py:238: RuntimeWarning: Glyph 51208 missing from current font.\n",
      "  font.set_text(s, 0.0, flags=flags)\n",
      "/home/piai/anaconda3/lib/python3.8/site-packages/matplotlib/backends/backend_agg.py:238: RuntimeWarning: Glyph 51076 missing from current font.\n",
      "  font.set_text(s, 0.0, flags=flags)\n",
      "/home/piai/anaconda3/lib/python3.8/site-packages/matplotlib/backends/backend_agg.py:238: RuntimeWarning: Glyph 50500 missing from current font.\n",
      "  font.set_text(s, 0.0, flags=flags)\n",
      "/home/piai/anaconda3/lib/python3.8/site-packages/matplotlib/backends/backend_agg.py:238: RuntimeWarning: Glyph 52236 missing from current font.\n",
      "  font.set_text(s, 0.0, flags=flags)\n",
      "/home/piai/anaconda3/lib/python3.8/site-packages/matplotlib/backends/backend_agg.py:238: RuntimeWarning: Glyph 51132 missing from current font.\n",
      "  font.set_text(s, 0.0, flags=flags)\n",
      "/home/piai/anaconda3/lib/python3.8/site-packages/matplotlib/backends/backend_agg.py:238: RuntimeWarning: Glyph 48337 missing from current font.\n",
      "  font.set_text(s, 0.0, flags=flags)\n",
      "/home/piai/anaconda3/lib/python3.8/site-packages/matplotlib/backends/backend_agg.py:238: RuntimeWarning: Glyph 51312 missing from current font.\n",
      "  font.set_text(s, 0.0, flags=flags)\n",
      "/home/piai/anaconda3/lib/python3.8/site-packages/matplotlib/backends/backend_agg.py:238: RuntimeWarning: Glyph 47548 missing from current font.\n",
      "  font.set_text(s, 0.0, flags=flags)\n",
      "/home/piai/anaconda3/lib/python3.8/site-packages/matplotlib/backends/backend_agg.py:238: RuntimeWarning: Glyph 51593 missing from current font.\n",
      "  font.set_text(s, 0.0, flags=flags)\n",
      "/home/piai/anaconda3/lib/python3.8/site-packages/matplotlib/backends/backend_agg.py:238: RuntimeWarning: Glyph 49437 missing from current font.\n",
      "  font.set_text(s, 0.0, flags=flags)\n",
      "/home/piai/anaconda3/lib/python3.8/site-packages/matplotlib/backends/backend_agg.py:238: RuntimeWarning: Glyph 44608 missing from current font.\n",
      "  font.set_text(s, 0.0, flags=flags)\n",
      "/home/piai/anaconda3/lib/python3.8/site-packages/matplotlib/backends/backend_agg.py:238: RuntimeWarning: Glyph 52824 missing from current font.\n",
      "  font.set_text(s, 0.0, flags=flags)\n",
      "/home/piai/anaconda3/lib/python3.8/site-packages/matplotlib/backends/backend_agg.py:238: RuntimeWarning: Glyph 51460 missing from current font.\n",
      "  font.set_text(s, 0.0, flags=flags)\n",
      "/home/piai/anaconda3/lib/python3.8/site-packages/matplotlib/backends/backend_agg.py:238: RuntimeWarning: Glyph 45805 missing from current font.\n",
      "  font.set_text(s, 0.0, flags=flags)\n",
      "/home/piai/anaconda3/lib/python3.8/site-packages/matplotlib/backends/backend_agg.py:238: RuntimeWarning: Glyph 52281 missing from current font.\n",
      "  font.set_text(s, 0.0, flags=flags)\n",
      "/home/piai/anaconda3/lib/python3.8/site-packages/matplotlib/backends/backend_agg.py:238: RuntimeWarning: Glyph 49928 missing from current font.\n",
      "  font.set_text(s, 0.0, flags=flags)\n",
      "/home/piai/anaconda3/lib/python3.8/site-packages/matplotlib/backends/backend_agg.py:238: RuntimeWarning: Glyph 47448 missing from current font.\n",
      "  font.set_text(s, 0.0, flags=flags)\n",
      "/home/piai/anaconda3/lib/python3.8/site-packages/matplotlib/backends/backend_agg.py:238: RuntimeWarning: Glyph 44552 missing from current font.\n",
      "  font.set_text(s, 0.0, flags=flags)\n",
      "/home/piai/anaconda3/lib/python3.8/site-packages/matplotlib/backends/backend_agg.py:238: RuntimeWarning: Glyph 44992 missing from current font.\n",
      "  font.set_text(s, 0.0, flags=flags)\n",
      "/home/piai/anaconda3/lib/python3.8/site-packages/matplotlib/backends/backend_agg.py:238: RuntimeWarning: Glyph 53945 missing from current font.\n",
      "  font.set_text(s, 0.0, flags=flags)\n",
      "/home/piai/anaconda3/lib/python3.8/site-packages/matplotlib/backends/backend_agg.py:238: RuntimeWarning: Glyph 51089 missing from current font.\n",
      "  font.set_text(s, 0.0, flags=flags)\n",
      "/home/piai/anaconda3/lib/python3.8/site-packages/matplotlib/backends/backend_agg.py:238: RuntimeWarning: Glyph 50724 missing from current font.\n",
      "  font.set_text(s, 0.0, flags=flags)\n",
      "/home/piai/anaconda3/lib/python3.8/site-packages/matplotlib/backends/backend_agg.py:201: RuntimeWarning: Glyph 44284 missing from current font.\n",
      "  font.set_text(s, 0, flags=flags)\n",
      "/home/piai/anaconda3/lib/python3.8/site-packages/matplotlib/backends/backend_agg.py:201: RuntimeWarning: Glyph 51088 missing from current font.\n",
      "  font.set_text(s, 0, flags=flags)\n",
      "/home/piai/anaconda3/lib/python3.8/site-packages/matplotlib/backends/backend_agg.py:201: RuntimeWarning: Glyph 51086 missing from current font.\n",
      "  font.set_text(s, 0, flags=flags)\n",
      "/home/piai/anaconda3/lib/python3.8/site-packages/matplotlib/backends/backend_agg.py:201: RuntimeWarning: Glyph 52292 missing from current font.\n",
      "  font.set_text(s, 0, flags=flags)\n",
      "/home/piai/anaconda3/lib/python3.8/site-packages/matplotlib/backends/backend_agg.py:201: RuntimeWarning: Glyph 49548 missing from current font.\n",
      "  font.set_text(s, 0, flags=flags)\n",
      "/home/piai/anaconda3/lib/python3.8/site-packages/matplotlib/backends/backend_agg.py:201: RuntimeWarning: Glyph 46160 missing from current font.\n",
      "  font.set_text(s, 0, flags=flags)\n",
      "/home/piai/anaconda3/lib/python3.8/site-packages/matplotlib/backends/backend_agg.py:201: RuntimeWarning: Glyph 48512 missing from current font.\n",
      "  font.set_text(s, 0, flags=flags)\n",
      "/home/piai/anaconda3/lib/python3.8/site-packages/matplotlib/backends/backend_agg.py:201: RuntimeWarning: Glyph 50976 missing from current font.\n",
      "  font.set_text(s, 0, flags=flags)\n",
      "/home/piai/anaconda3/lib/python3.8/site-packages/matplotlib/backends/backend_agg.py:201: RuntimeWarning: Glyph 48128 missing from current font.\n",
      "  font.set_text(s, 0, flags=flags)\n",
      "/home/piai/anaconda3/lib/python3.8/site-packages/matplotlib/backends/backend_agg.py:201: RuntimeWarning: Glyph 44032 missing from current font.\n",
      "  font.set_text(s, 0, flags=flags)\n",
      "/home/piai/anaconda3/lib/python3.8/site-packages/matplotlib/backends/backend_agg.py:201: RuntimeWarning: Glyph 44277 missing from current font.\n",
      "  font.set_text(s, 0, flags=flags)\n",
      "/home/piai/anaconda3/lib/python3.8/site-packages/matplotlib/backends/backend_agg.py:201: RuntimeWarning: Glyph 51228 missing from current font.\n",
      "  font.set_text(s, 0, flags=flags)\n",
      "/home/piai/anaconda3/lib/python3.8/site-packages/matplotlib/backends/backend_agg.py:201: RuntimeWarning: Glyph 54408 missing from current font.\n",
      "  font.set_text(s, 0, flags=flags)\n",
      "/home/piai/anaconda3/lib/python3.8/site-packages/matplotlib/backends/backend_agg.py:201: RuntimeWarning: Glyph 50977 missing from current font.\n",
      "  font.set_text(s, 0, flags=flags)\n",
      "/home/piai/anaconda3/lib/python3.8/site-packages/matplotlib/backends/backend_agg.py:201: RuntimeWarning: Glyph 48757 missing from current font.\n",
      "  font.set_text(s, 0, flags=flags)\n",
      "/home/piai/anaconda3/lib/python3.8/site-packages/matplotlib/backends/backend_agg.py:201: RuntimeWarning: Glyph 50676 missing from current font.\n",
      "  font.set_text(s, 0, flags=flags)\n",
      "/home/piai/anaconda3/lib/python3.8/site-packages/matplotlib/backends/backend_agg.py:201: RuntimeWarning: Glyph 47588 missing from current font.\n",
      "  font.set_text(s, 0, flags=flags)\n",
      "/home/piai/anaconda3/lib/python3.8/site-packages/matplotlib/backends/backend_agg.py:201: RuntimeWarning: Glyph 48145 missing from current font.\n",
      "  font.set_text(s, 0, flags=flags)\n",
      "/home/piai/anaconda3/lib/python3.8/site-packages/matplotlib/backends/backend_agg.py:201: RuntimeWarning: Glyph 48152 missing from current font.\n",
      "  font.set_text(s, 0, flags=flags)\n",
      "/home/piai/anaconda3/lib/python3.8/site-packages/matplotlib/backends/backend_agg.py:201: RuntimeWarning: Glyph 52268 missing from current font.\n",
      "  font.set_text(s, 0, flags=flags)\n",
      "/home/piai/anaconda3/lib/python3.8/site-packages/matplotlib/backends/backend_agg.py:201: RuntimeWarning: Glyph 51221 missing from current font.\n",
      "  font.set_text(s, 0, flags=flags)\n",
      "/home/piai/anaconda3/lib/python3.8/site-packages/matplotlib/backends/backend_agg.py:201: RuntimeWarning: Glyph 46976 missing from current font.\n",
      "  font.set_text(s, 0, flags=flags)\n",
      "/home/piai/anaconda3/lib/python3.8/site-packages/matplotlib/backends/backend_agg.py:201: RuntimeWarning: Glyph 50577 missing from current font.\n",
      "  font.set_text(s, 0, flags=flags)\n",
      "/home/piai/anaconda3/lib/python3.8/site-packages/matplotlib/backends/backend_agg.py:201: RuntimeWarning: Glyph 45392 missing from current font.\n",
      "  font.set_text(s, 0, flags=flags)\n",
      "/home/piai/anaconda3/lib/python3.8/site-packages/matplotlib/backends/backend_agg.py:201: RuntimeWarning: Glyph 49885 missing from current font.\n",
      "  font.set_text(s, 0, flags=flags)\n",
      "/home/piai/anaconda3/lib/python3.8/site-packages/matplotlib/backends/backend_agg.py:201: RuntimeWarning: Glyph 49324 missing from current font.\n",
      "  font.set_text(s, 0, flags=flags)\n",
      "/home/piai/anaconda3/lib/python3.8/site-packages/matplotlib/backends/backend_agg.py:201: RuntimeWarning: Glyph 45824 missing from current font.\n",
      "  font.set_text(s, 0, flags=flags)\n",
      "/home/piai/anaconda3/lib/python3.8/site-packages/matplotlib/backends/backend_agg.py:201: RuntimeWarning: Glyph 50857 missing from current font.\n",
      "  font.set_text(s, 0, flags=flags)\n",
      "/home/piai/anaconda3/lib/python3.8/site-packages/matplotlib/backends/backend_agg.py:201: RuntimeWarning: Glyph 47336 missing from current font.\n",
      "  font.set_text(s, 0, flags=flags)\n",
      "/home/piai/anaconda3/lib/python3.8/site-packages/matplotlib/backends/backend_agg.py:201: RuntimeWarning: Glyph 49100 missing from current font.\n",
      "  font.set_text(s, 0, flags=flags)\n",
      "/home/piai/anaconda3/lib/python3.8/site-packages/matplotlib/backends/backend_agg.py:201: RuntimeWarning: Glyph 47532 missing from current font.\n",
      "  font.set_text(s, 0, flags=flags)\n",
      "/home/piai/anaconda3/lib/python3.8/site-packages/matplotlib/backends/backend_agg.py:201: RuntimeWarning: Glyph 47717 missing from current font.\n",
      "  font.set_text(s, 0, flags=flags)\n",
      "/home/piai/anaconda3/lib/python3.8/site-packages/matplotlib/backends/backend_agg.py:201: RuntimeWarning: Glyph 49920 missing from current font.\n",
      "  font.set_text(s, 0, flags=flags)\n",
      "/home/piai/anaconda3/lib/python3.8/site-packages/matplotlib/backends/backend_agg.py:201: RuntimeWarning: Glyph 48260 missing from current font.\n",
      "  font.set_text(s, 0, flags=flags)\n",
      "/home/piai/anaconda3/lib/python3.8/site-packages/matplotlib/backends/backend_agg.py:201: RuntimeWarning: Glyph 49455 missing from current font.\n",
      "  font.set_text(s, 0, flags=flags)\n",
      "/home/piai/anaconda3/lib/python3.8/site-packages/matplotlib/backends/backend_agg.py:201: RuntimeWarning: Glyph 50612 missing from current font.\n",
      "  font.set_text(s, 0, flags=flags)\n",
      "/home/piai/anaconda3/lib/python3.8/site-packages/matplotlib/backends/backend_agg.py:201: RuntimeWarning: Glyph 47925 missing from current font.\n",
      "  font.set_text(s, 0, flags=flags)\n",
      "/home/piai/anaconda3/lib/python3.8/site-packages/matplotlib/backends/backend_agg.py:201: RuntimeWarning: Glyph 47568 missing from current font.\n",
      "  font.set_text(s, 0, flags=flags)\n",
      "/home/piai/anaconda3/lib/python3.8/site-packages/matplotlib/backends/backend_agg.py:201: RuntimeWarning: Glyph 47536 missing from current font.\n",
      "  font.set_text(s, 0, flags=flags)\n",
      "/home/piai/anaconda3/lib/python3.8/site-packages/matplotlib/backends/backend_agg.py:201: RuntimeWarning: Glyph 45208 missing from current font.\n",
      "  font.set_text(s, 0, flags=flags)\n",
      "/home/piai/anaconda3/lib/python3.8/site-packages/matplotlib/backends/backend_agg.py:201: RuntimeWarning: Glyph 47932 missing from current font.\n",
      "  font.set_text(s, 0, flags=flags)\n",
      "/home/piai/anaconda3/lib/python3.8/site-packages/matplotlib/backends/backend_agg.py:201: RuntimeWarning: Glyph 44148 missing from current font.\n",
      "  font.set_text(s, 0, flags=flags)\n",
      "/home/piai/anaconda3/lib/python3.8/site-packages/matplotlib/backends/backend_agg.py:201: RuntimeWarning: Glyph 51116 missing from current font.\n",
      "  font.set_text(s, 0, flags=flags)\n",
      "/home/piai/anaconda3/lib/python3.8/site-packages/matplotlib/backends/backend_agg.py:201: RuntimeWarning: Glyph 49828 missing from current font.\n",
      "  font.set_text(s, 0, flags=flags)\n",
      "/home/piai/anaconda3/lib/python3.8/site-packages/matplotlib/backends/backend_agg.py:201: RuntimeWarning: Glyph 44592 missing from current font.\n",
      "  font.set_text(s, 0, flags=flags)\n",
      "/home/piai/anaconda3/lib/python3.8/site-packages/matplotlib/backends/backend_agg.py:201: RuntimeWarning: Glyph 53440 missing from current font.\n",
      "  font.set_text(s, 0, flags=flags)\n",
      "/home/piai/anaconda3/lib/python3.8/site-packages/matplotlib/backends/backend_agg.py:201: RuntimeWarning: Glyph 51068 missing from current font.\n",
      "  font.set_text(s, 0, flags=flags)\n",
      "/home/piai/anaconda3/lib/python3.8/site-packages/matplotlib/backends/backend_agg.py:201: RuntimeWarning: Glyph 51109 missing from current font.\n",
      "  font.set_text(s, 0, flags=flags)\n",
      "/home/piai/anaconda3/lib/python3.8/site-packages/matplotlib/backends/backend_agg.py:201: RuntimeWarning: Glyph 46497 missing from current font.\n",
      "  font.set_text(s, 0, flags=flags)\n",
      "/home/piai/anaconda3/lib/python3.8/site-packages/matplotlib/backends/backend_agg.py:201: RuntimeWarning: Glyph 47492 missing from current font.\n",
      "  font.set_text(s, 0, flags=flags)\n",
      "/home/piai/anaconda3/lib/python3.8/site-packages/matplotlib/backends/backend_agg.py:201: RuntimeWarning: Glyph 52488 missing from current font.\n",
      "  font.set_text(s, 0, flags=flags)\n",
      "/home/piai/anaconda3/lib/python3.8/site-packages/matplotlib/backends/backend_agg.py:201: RuntimeWarning: Glyph 54620 missing from current font.\n",
      "  font.set_text(s, 0, flags=flags)\n",
      "/home/piai/anaconda3/lib/python3.8/site-packages/matplotlib/backends/backend_agg.py:201: RuntimeWarning: Glyph 50864 missing from current font.\n",
      "  font.set_text(s, 0, flags=flags)\n",
      "/home/piai/anaconda3/lib/python3.8/site-packages/matplotlib/backends/backend_agg.py:201: RuntimeWarning: Glyph 46076 missing from current font.\n",
      "  font.set_text(s, 0, flags=flags)\n",
      "/home/piai/anaconda3/lib/python3.8/site-packages/matplotlib/backends/backend_agg.py:201: RuntimeWarning: Glyph 51648 missing from current font.\n",
      "  font.set_text(s, 0, flags=flags)\n",
      "/home/piai/anaconda3/lib/python3.8/site-packages/matplotlib/backends/backend_agg.py:201: RuntimeWarning: Glyph 51208 missing from current font.\n",
      "  font.set_text(s, 0, flags=flags)\n",
      "/home/piai/anaconda3/lib/python3.8/site-packages/matplotlib/backends/backend_agg.py:201: RuntimeWarning: Glyph 51076 missing from current font.\n",
      "  font.set_text(s, 0, flags=flags)\n",
      "/home/piai/anaconda3/lib/python3.8/site-packages/matplotlib/backends/backend_agg.py:201: RuntimeWarning: Glyph 50500 missing from current font.\n",
      "  font.set_text(s, 0, flags=flags)\n",
      "/home/piai/anaconda3/lib/python3.8/site-packages/matplotlib/backends/backend_agg.py:201: RuntimeWarning: Glyph 52236 missing from current font.\n",
      "  font.set_text(s, 0, flags=flags)\n",
      "/home/piai/anaconda3/lib/python3.8/site-packages/matplotlib/backends/backend_agg.py:201: RuntimeWarning: Glyph 51132 missing from current font.\n",
      "  font.set_text(s, 0, flags=flags)\n",
      "/home/piai/anaconda3/lib/python3.8/site-packages/matplotlib/backends/backend_agg.py:201: RuntimeWarning: Glyph 48337 missing from current font.\n",
      "  font.set_text(s, 0, flags=flags)\n",
      "/home/piai/anaconda3/lib/python3.8/site-packages/matplotlib/backends/backend_agg.py:201: RuntimeWarning: Glyph 51312 missing from current font.\n",
      "  font.set_text(s, 0, flags=flags)\n",
      "/home/piai/anaconda3/lib/python3.8/site-packages/matplotlib/backends/backend_agg.py:201: RuntimeWarning: Glyph 47548 missing from current font.\n",
      "  font.set_text(s, 0, flags=flags)\n",
      "/home/piai/anaconda3/lib/python3.8/site-packages/matplotlib/backends/backend_agg.py:201: RuntimeWarning: Glyph 51593 missing from current font.\n",
      "  font.set_text(s, 0, flags=flags)\n",
      "/home/piai/anaconda3/lib/python3.8/site-packages/matplotlib/backends/backend_agg.py:201: RuntimeWarning: Glyph 49437 missing from current font.\n",
      "  font.set_text(s, 0, flags=flags)\n",
      "/home/piai/anaconda3/lib/python3.8/site-packages/matplotlib/backends/backend_agg.py:201: RuntimeWarning: Glyph 44608 missing from current font.\n",
      "  font.set_text(s, 0, flags=flags)\n",
      "/home/piai/anaconda3/lib/python3.8/site-packages/matplotlib/backends/backend_agg.py:201: RuntimeWarning: Glyph 52824 missing from current font.\n",
      "  font.set_text(s, 0, flags=flags)\n",
      "/home/piai/anaconda3/lib/python3.8/site-packages/matplotlib/backends/backend_agg.py:201: RuntimeWarning: Glyph 51460 missing from current font.\n",
      "  font.set_text(s, 0, flags=flags)\n",
      "/home/piai/anaconda3/lib/python3.8/site-packages/matplotlib/backends/backend_agg.py:201: RuntimeWarning: Glyph 45805 missing from current font.\n",
      "  font.set_text(s, 0, flags=flags)\n",
      "/home/piai/anaconda3/lib/python3.8/site-packages/matplotlib/backends/backend_agg.py:201: RuntimeWarning: Glyph 52281 missing from current font.\n",
      "  font.set_text(s, 0, flags=flags)\n",
      "/home/piai/anaconda3/lib/python3.8/site-packages/matplotlib/backends/backend_agg.py:201: RuntimeWarning: Glyph 49928 missing from current font.\n",
      "  font.set_text(s, 0, flags=flags)\n",
      "/home/piai/anaconda3/lib/python3.8/site-packages/matplotlib/backends/backend_agg.py:201: RuntimeWarning: Glyph 47448 missing from current font.\n",
      "  font.set_text(s, 0, flags=flags)\n",
      "/home/piai/anaconda3/lib/python3.8/site-packages/matplotlib/backends/backend_agg.py:201: RuntimeWarning: Glyph 44552 missing from current font.\n",
      "  font.set_text(s, 0, flags=flags)\n",
      "/home/piai/anaconda3/lib/python3.8/site-packages/matplotlib/backends/backend_agg.py:201: RuntimeWarning: Glyph 44992 missing from current font.\n",
      "  font.set_text(s, 0, flags=flags)\n",
      "/home/piai/anaconda3/lib/python3.8/site-packages/matplotlib/backends/backend_agg.py:201: RuntimeWarning: Glyph 53945 missing from current font.\n",
      "  font.set_text(s, 0, flags=flags)\n",
      "/home/piai/anaconda3/lib/python3.8/site-packages/matplotlib/backends/backend_agg.py:201: RuntimeWarning: Glyph 51089 missing from current font.\n",
      "  font.set_text(s, 0, flags=flags)\n",
      "/home/piai/anaconda3/lib/python3.8/site-packages/matplotlib/backends/backend_agg.py:201: RuntimeWarning: Glyph 50724 missing from current font.\n",
      "  font.set_text(s, 0, flags=flags)\n"
     ]
    },
    {
     "data": {
      "image/png": "[encoded data removed]",
      "text/plain": [
       "<Figure size 432x288 with 1 Axes>"
      ]
     },
     "metadata": {
      "needs_background": "light"
     },
     "output_type": "display_data"
    }
   ],
   "source": [
    "for_plotbar2 = revised_2019.groupby('item_g_m').agg({'purchase_id':'count'})\n",
    "for_p\n",
    "for_plotbar2.sort_values(by = 'purchase_id', axis = 0, ascending = False, inplace = True)\n",
    "for_plotbar2.head()\n",
    "plt.bar(for_plotbar2.index, for_plotbar2['purchase_id'])"
   ]
  },
  {
   "cell_type": "code",
   "execution_count": 256,
   "metadata": {},
   "outputs": [
    {
     "data": {
      "text/html": [
       "<div>\n",
       "<style scoped>\n",
       "    .dataframe tbody tr th:only-of-type {\n",
       "        vertical-align: middle;\n",
       "    }\n",
       "\n",
       "    .dataframe tbody tr th {\n",
       "        vertical-align: top;\n",
       "    }\n",
       "\n",
       "    .dataframe thead th {\n",
       "        text-align: right;\n",
       "    }\n",
       "</style>\n",
       "<table border=\"1\" class=\"dataframe\">\n",
       "  <thead>\n",
       "    <tr style=\"text-align: right;\">\n",
       "      <th></th>\n",
       "      <th>purchase_id</th>\n",
       "    </tr>\n",
       "    <tr>\n",
       "      <th>item_g_m</th>\n",
       "      <th></th>\n",
       "    </tr>\n",
       "  </thead>\n",
       "  <tbody>\n",
       "    <tr>\n",
       "      <th>과자</th>\n",
       "      <td>10159</td>\n",
       "    </tr>\n",
       "    <tr>\n",
       "      <th>잎채소</th>\n",
       "      <td>9737</td>\n",
       "    </tr>\n",
       "    <tr>\n",
       "      <th>두부/유부</th>\n",
       "      <td>8497</td>\n",
       "    </tr>\n",
       "    <tr>\n",
       "      <th>밀가공</th>\n",
       "      <td>7031</td>\n",
       "    </tr>\n",
       "    <tr>\n",
       "      <th>유제품</th>\n",
       "      <td>6048</td>\n",
       "    </tr>\n",
       "    <tr>\n",
       "      <th>육가공</th>\n",
       "      <td>5984</td>\n",
       "    </tr>\n",
       "    <tr>\n",
       "      <th>빵</th>\n",
       "      <td>5955</td>\n",
       "    </tr>\n",
       "    <tr>\n",
       "      <th>열매채소</th>\n",
       "      <td>5344</td>\n",
       "    </tr>\n",
       "    <tr>\n",
       "      <th>밑반찬</th>\n",
       "      <td>4507</td>\n",
       "    </tr>\n",
       "    <tr>\n",
       "      <th>유정란</th>\n",
       "      <td>4347</td>\n",
       "    </tr>\n",
       "  </tbody>\n",
       "</table>\n",
       "</div>"
      ],
      "text/plain": [
       "          purchase_id\n",
       "item_g_m             \n",
       "과자              10159\n",
       "잎채소              9737\n",
       "두부/유부            8497\n",
       "밀가공              7031\n",
       "유제품              6048\n",
       "육가공              5984\n",
       "빵                5955\n",
       "열매채소             5344\n",
       "밑반찬              4507\n",
       "유정란              4347"
      ]
     },
     "execution_count": 256,
     "metadata": {},
     "output_type": "execute_result"
    }
   ],
   "source": [
    "for_plotbar2.head(10)"
   ]
  },
  {
   "cell_type": "code",
   "execution_count": null,
   "metadata": {},
   "outputs": [],
   "source": []
  }
 ],
 "metadata": {
  "kernelspec": {
   "display_name": "Python 3",
   "language": "python",
   "name": "python3"
  },
  "language_info": {
   "codemirror_mode": {
    "name": "ipython",
    "version": 3
   },
   "file_extension": ".py",
   "mimetype": "text/x-python",
   "name": "python",
   "nbconvert_exporter": "python",
   "pygments_lexer": "ipython3",
   "version": "3.7.1"
  }
 },
 "nbformat": 4,
 "nbformat_minor": 4
}
